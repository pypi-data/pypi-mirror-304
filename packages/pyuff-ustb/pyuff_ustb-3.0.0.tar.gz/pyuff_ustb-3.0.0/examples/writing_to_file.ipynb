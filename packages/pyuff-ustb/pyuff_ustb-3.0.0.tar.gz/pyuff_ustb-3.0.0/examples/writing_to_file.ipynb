{
 "cells": [
  {
   "attachments": {},
   "cell_type": "markdown",
   "metadata": {},
   "source": [
    "# Writing a SectorScan to a file"
   ]
  },
  {
   "cell_type": "code",
   "execution_count": null,
   "metadata": {},
   "outputs": [],
   "source": [
    "import numpy as np\n",
    "\n",
    "import pyuff_ustb as pyuff\n",
    "\n",
    "scan = pyuff.SectorScan(\n",
    "    azimuth_axis=np.linspace(-np.pi / 4, np.pi / 4, 50),\n",
    "    depth_axis=np.linspace(0, 20e-3, 50),\n",
    "    origin=pyuff.Point(distance=0, azimuth=0, elevation=0),\n",
    ")\n",
    "scan.write(\"my_sector_scan.uff\", \"scan\", overwrite=True)\n",
    "scan"
   ]
  },
  {
   "attachments": {},
   "cell_type": "markdown",
   "metadata": {},
   "source": [
    "# Reading it back and checking that it is the same"
   ]
  },
  {
   "cell_type": "code",
   "execution_count": null,
   "metadata": {},
   "outputs": [],
   "source": [
    "import matplotlib.pyplot as plt\n",
    "\n",
    "written_uff = pyuff.Uff(\"my_sector_scan.uff\")\n",
    "scan2 = written_uff.read(\"scan\")\n",
    "\n",
    "fig, ax = plt.subplots(ncols=2, figsize=(10, 4))\n",
    "ax[0].set_title(\"Points in the original sector scan\")\n",
    "ax[0].scatter(scan.x, scan.z, s=5)\n",
    "ax[1].set_title(\"Points in the sector scan after writing and reading\")\n",
    "ax[1].scatter(scan2.x, scan2.z, s=5)\n",
    "for a in ax:\n",
    "    a.invert_yaxis()  # Invert y to plot the sector scans with origin at top\n",
    "fig.tight_layout()\n",
    "\n",
    "print(\"Are the scans equal now?\", \"Yes! :)\" if scan2 == scan else \"No! :(\")"
   ]
  }
 ],
 "metadata": {
  "kernelspec": {
   "display_name": "vbeam_magnusk4",
   "language": "python",
   "name": "python3"
  },
  "language_info": {
   "codemirror_mode": {
    "name": "ipython",
    "version": 3
   },
   "file_extension": ".py",
   "mimetype": "text/x-python",
   "name": "python",
   "nbconvert_exporter": "python",
   "pygments_lexer": "ipython3",
   "version": "3.9.16"
  },
  "orig_nbformat": 4
 },
 "nbformat": 4,
 "nbformat_minor": 2
}
