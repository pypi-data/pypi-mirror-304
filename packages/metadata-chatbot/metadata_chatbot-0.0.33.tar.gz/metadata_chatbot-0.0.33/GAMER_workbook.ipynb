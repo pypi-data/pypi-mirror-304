{
 "cells": [
  {
   "cell_type": "markdown",
   "metadata": {},
   "source": [
    "# GAMER: Generative Analysis of Metadata Retrieval"
   ]
  },
  {
   "cell_type": "markdown",
   "metadata": {},
   "source": [
    "This model uses a multi agent framework on Langraph to retrieve and summarize metadata information based on a user's natural language query. \n",
    "\n",
    "This workflow consists of 6 agents, or nodes, where a decision is made and there is new context provided to either the model or the user. Here are some decisions incorporated into the framework:\n",
    "1. To best answer the query, does the entire database need to be queried, or the vector index?\n",
    "- Input: `x (query)`\n",
    "- Decides best data to query against\n",
    "- Output: `entire_database, vector_embeddings`\n",
    "2. If querying against the vector embeddings, does the index need to be filtered further with metdata tags, to improve optimization of retrieval?\n",
    "- Input: `x (query)`\n",
    "- Decides whether database can be further filtered by applying a MongoDB query\n",
    "- Output: `MongoDB query, None`\n",
    "3. Are the documents retrieved during retrieval relevant to the question?\n",
    "- Input: `x (query)`\n",
    "- Decides whether document should be kept or tossed during summarization\n",
    "- Output: `yes, no`\n"
   ]
  },
  {
   "cell_type": "markdown",
   "metadata": {},
   "source": [
    "![Graph workflow](C:\\Users\\sreya.kumar\\Documents\\GitHub\\metadata-chatbot\\graph_workflow.png)"
   ]
  },
  {
   "cell_type": "markdown",
   "metadata": {},
   "source": [
    "## Calling the model"
   ]
  },
  {
   "cell_type": "markdown",
   "metadata": {},
   "source": [
    "### Synchronous calling"
   ]
  },
  {
   "cell_type": "code",
   "execution_count": 1,
   "metadata": {},
   "outputs": [
    {
     "name": "stdout",
     "output_type": "stream",
     "text": [
      "Requirement already satisfied: metadata-chatbot in c:\\users\\sreya.kumar\\documents\\github\\metadata-chatbot\\venv\\lib\\site-packages (0.0.20)\n",
      "Requirement already satisfied: aind-data-access-api>=0.15.0 in c:\\users\\sreya.kumar\\documents\\github\\metadata-chatbot\\venv\\lib\\site-packages (from aind-data-access-api[full]>=0.15.0->metadata-chatbot) (0.15.0)\n",
      "Requirement already satisfied: boto3 in c:\\users\\sreya.kumar\\documents\\github\\metadata-chatbot\\venv\\lib\\site-packages (from metadata-chatbot) (1.35.42)\n",
      "Requirement already satisfied: langchain-aws in c:\\users\\sreya.kumar\\documents\\github\\metadata-chatbot\\venv\\lib\\site-packages (from metadata-chatbot) (0.2.2)\n",
      "Requirement already satisfied: langchain-community in c:\\users\\sreya.kumar\\documents\\github\\metadata-chatbot\\venv\\lib\\site-packages (from metadata-chatbot) (0.3.2)\n",
      "Requirement already satisfied: langchain-core in c:\\users\\sreya.kumar\\documents\\github\\metadata-chatbot\\venv\\lib\\site-packages (from metadata-chatbot) (0.3.11)\n",
      "Requirement already satisfied: langchain in c:\\users\\sreya.kumar\\documents\\github\\metadata-chatbot\\venv\\lib\\site-packages (from metadata-chatbot) (0.3.3)\n",
      "Requirement already satisfied: langgraph in c:\\users\\sreya.kumar\\documents\\github\\metadata-chatbot\\venv\\lib\\site-packages (from metadata-chatbot) (0.2.38)\n",
      "Requirement already satisfied: motor in c:\\users\\sreya.kumar\\documents\\github\\metadata-chatbot\\venv\\lib\\site-packages (from metadata-chatbot) (3.1.2)\n",
      "Requirement already satisfied: nest-asyncio in c:\\users\\sreya.kumar\\documents\\github\\metadata-chatbot\\venv\\lib\\site-packages (from metadata-chatbot) (1.6.0)\n",
      "Requirement already satisfied: pymongo in c:\\users\\sreya.kumar\\documents\\github\\metadata-chatbot\\venv\\lib\\site-packages (from metadata-chatbot) (4.3.3)\n",
      "Requirement already satisfied: fastapi in c:\\users\\sreya.kumar\\documents\\github\\metadata-chatbot\\venv\\lib\\site-packages (from metadata-chatbot) (0.115.2)\n",
      "Requirement already satisfied: uvicorn in c:\\users\\sreya.kumar\\documents\\github\\metadata-chatbot\\venv\\lib\\site-packages (from metadata-chatbot) (0.32.0)\n",
      "Requirement already satisfied: logging in c:\\users\\sreya.kumar\\documents\\github\\metadata-chatbot\\venv\\lib\\site-packages (from metadata-chatbot) (0.4.9.6)\n",
      "Requirement already satisfied: sshtunnel in c:\\users\\sreya.kumar\\documents\\github\\metadata-chatbot\\venv\\lib\\site-packages (from metadata-chatbot) (0.4.0)\n",
      "Requirement already satisfied: typing in c:\\users\\sreya.kumar\\documents\\github\\metadata-chatbot\\venv\\lib\\site-packages (from metadata-chatbot) (3.7.4.3)\n",
      "Requirement already satisfied: requests in c:\\users\\sreya.kumar\\documents\\github\\metadata-chatbot\\venv\\lib\\site-packages (from aind-data-access-api>=0.15.0->aind-data-access-api[full]>=0.15.0->metadata-chatbot) (2.32.3)\n",
      "Requirement already satisfied: aind-codeocean-api>=0.4.0 in c:\\users\\sreya.kumar\\documents\\github\\metadata-chatbot\\venv\\lib\\site-packages (from aind-data-access-api>=0.15.0->aind-data-access-api[full]>=0.15.0->metadata-chatbot) (0.5.0)\n",
      "Requirement already satisfied: pydantic>=2.0 in c:\\users\\sreya.kumar\\documents\\github\\metadata-chatbot\\venv\\lib\\site-packages (from aind-data-access-api>=0.15.0->aind-data-access-api[full]>=0.15.0->metadata-chatbot) (2.9.2)\n",
      "Requirement already satisfied: pydantic-settings>=2.0 in c:\\users\\sreya.kumar\\documents\\github\\metadata-chatbot\\venv\\lib\\site-packages (from aind-data-access-api>=0.15.0->aind-data-access-api[full]>=0.15.0->metadata-chatbot) (2.5.2)\n",
      "Requirement already satisfied: botocore<1.36.0,>=1.35.42 in c:\\users\\sreya.kumar\\documents\\github\\metadata-chatbot\\venv\\lib\\site-packages (from boto3->metadata-chatbot) (1.35.42)\n",
      "Requirement already satisfied: jmespath<2.0.0,>=0.7.1 in c:\\users\\sreya.kumar\\documents\\github\\metadata-chatbot\\venv\\lib\\site-packages (from boto3->metadata-chatbot) (1.0.1)\n",
      "Requirement already satisfied: s3transfer<0.11.0,>=0.10.0 in c:\\users\\sreya.kumar\\documents\\github\\metadata-chatbot\\venv\\lib\\site-packages (from boto3->metadata-chatbot) (0.10.3)\n",
      "Requirement already satisfied: starlette<0.41.0,>=0.37.2 in c:\\users\\sreya.kumar\\documents\\github\\metadata-chatbot\\venv\\lib\\site-packages (from fastapi->metadata-chatbot) (0.40.0)\n",
      "Requirement already satisfied: typing-extensions>=4.8.0 in c:\\users\\sreya.kumar\\documents\\github\\metadata-chatbot\\venv\\lib\\site-packages (from fastapi->metadata-chatbot) (4.12.2)\n",
      "Requirement already satisfied: PyYAML>=5.3 in c:\\users\\sreya.kumar\\documents\\github\\metadata-chatbot\\venv\\lib\\site-packages (from langchain->metadata-chatbot) (6.0.2)\n",
      "Requirement already satisfied: SQLAlchemy<3,>=1.4 in c:\\users\\sreya.kumar\\documents\\github\\metadata-chatbot\\venv\\lib\\site-packages (from langchain->metadata-chatbot) (1.4.49)\n",
      "Requirement already satisfied: aiohttp<4.0.0,>=3.8.3 in c:\\users\\sreya.kumar\\documents\\github\\metadata-chatbot\\venv\\lib\\site-packages (from langchain->metadata-chatbot) (3.10.10)\n",
      "Requirement already satisfied: langchain-text-splitters<0.4.0,>=0.3.0 in c:\\users\\sreya.kumar\\documents\\github\\metadata-chatbot\\venv\\lib\\site-packages (from langchain->metadata-chatbot) (0.3.0)\n",
      "Requirement already satisfied: langsmith<0.2.0,>=0.1.17 in c:\\users\\sreya.kumar\\documents\\github\\metadata-chatbot\\venv\\lib\\site-packages (from langchain->metadata-chatbot) (0.1.135)\n",
      "Requirement already satisfied: numpy<2,>=1 in c:\\users\\sreya.kumar\\documents\\github\\metadata-chatbot\\venv\\lib\\site-packages (from langchain->metadata-chatbot) (1.26.4)\n",
      "Requirement already satisfied: tenacity!=8.4.0,<9.0.0,>=8.1.0 in c:\\users\\sreya.kumar\\documents\\github\\metadata-chatbot\\venv\\lib\\site-packages (from langchain->metadata-chatbot) (8.5.0)\n",
      "Requirement already satisfied: jsonpatch<2.0,>=1.33 in c:\\users\\sreya.kumar\\documents\\github\\metadata-chatbot\\venv\\lib\\site-packages (from langchain-core->metadata-chatbot) (1.33)\n",
      "Requirement already satisfied: packaging<25,>=23.2 in c:\\users\\sreya.kumar\\documents\\github\\metadata-chatbot\\venv\\lib\\site-packages (from langchain-core->metadata-chatbot) (24.1)\n",
      "Requirement already satisfied: dataclasses-json<0.7,>=0.5.7 in c:\\users\\sreya.kumar\\documents\\github\\metadata-chatbot\\venv\\lib\\site-packages (from langchain-community->metadata-chatbot) (0.6.7)\n",
      "Requirement already satisfied: langgraph-checkpoint<3.0.0,>=2.0.0 in c:\\users\\sreya.kumar\\documents\\github\\metadata-chatbot\\venv\\lib\\site-packages (from langgraph->metadata-chatbot) (2.0.1)\n",
      "Requirement already satisfied: langgraph-sdk<0.2.0,>=0.1.32 in c:\\users\\sreya.kumar\\documents\\github\\metadata-chatbot\\venv\\lib\\site-packages (from langgraph->metadata-chatbot) (0.1.33)\n",
      "Requirement already satisfied: dnspython<3.0.0,>=1.16.0 in c:\\users\\sreya.kumar\\documents\\github\\metadata-chatbot\\venv\\lib\\site-packages (from pymongo->metadata-chatbot) (2.7.0)\n",
      "Requirement already satisfied: paramiko>=2.7.2 in c:\\users\\sreya.kumar\\documents\\github\\metadata-chatbot\\venv\\lib\\site-packages (from sshtunnel->metadata-chatbot) (3.5.0)\n",
      "Requirement already satisfied: click>=7.0 in c:\\users\\sreya.kumar\\documents\\github\\metadata-chatbot\\venv\\lib\\site-packages (from uvicorn->metadata-chatbot) (8.1.7)\n",
      "Requirement already satisfied: h11>=0.8 in c:\\users\\sreya.kumar\\documents\\github\\metadata-chatbot\\venv\\lib\\site-packages (from uvicorn->metadata-chatbot) (0.14.0)\n",
      "Requirement already satisfied: aiohappyeyeballs>=2.3.0 in c:\\users\\sreya.kumar\\documents\\github\\metadata-chatbot\\venv\\lib\\site-packages (from aiohttp<4.0.0,>=3.8.3->langchain->metadata-chatbot) (2.4.3)\n",
      "Requirement already satisfied: aiosignal>=1.1.2 in c:\\users\\sreya.kumar\\documents\\github\\metadata-chatbot\\venv\\lib\\site-packages (from aiohttp<4.0.0,>=3.8.3->langchain->metadata-chatbot) (1.3.1)\n",
      "Requirement already satisfied: attrs>=17.3.0 in c:\\users\\sreya.kumar\\documents\\github\\metadata-chatbot\\venv\\lib\\site-packages (from aiohttp<4.0.0,>=3.8.3->langchain->metadata-chatbot) (24.2.0)\n",
      "Requirement already satisfied: frozenlist>=1.1.1 in c:\\users\\sreya.kumar\\documents\\github\\metadata-chatbot\\venv\\lib\\site-packages (from aiohttp<4.0.0,>=3.8.3->langchain->metadata-chatbot) (1.4.1)\n",
      "Requirement already satisfied: multidict<7.0,>=4.5 in c:\\users\\sreya.kumar\\documents\\github\\metadata-chatbot\\venv\\lib\\site-packages (from aiohttp<4.0.0,>=3.8.3->langchain->metadata-chatbot) (6.1.0)\n",
      "Requirement already satisfied: yarl<2.0,>=1.12.0 in c:\\users\\sreya.kumar\\documents\\github\\metadata-chatbot\\venv\\lib\\site-packages (from aiohttp<4.0.0,>=3.8.3->langchain->metadata-chatbot) (1.15.4)\n",
      "Requirement already satisfied: python-dateutil<3.0.0,>=2.1 in c:\\users\\sreya.kumar\\documents\\github\\metadata-chatbot\\venv\\lib\\site-packages (from botocore<1.36.0,>=1.35.42->boto3->metadata-chatbot) (2.9.0.post0)\n",
      "Requirement already satisfied: urllib3!=2.2.0,<3,>=1.25.4 in c:\\users\\sreya.kumar\\documents\\github\\metadata-chatbot\\venv\\lib\\site-packages (from botocore<1.36.0,>=1.35.42->boto3->metadata-chatbot) (2.2.3)\n",
      "Requirement already satisfied: colorama in c:\\users\\sreya.kumar\\documents\\github\\metadata-chatbot\\venv\\lib\\site-packages (from click>=7.0->uvicorn->metadata-chatbot) (0.4.6)\n",
      "Requirement already satisfied: marshmallow<4.0.0,>=3.18.0 in c:\\users\\sreya.kumar\\documents\\github\\metadata-chatbot\\venv\\lib\\site-packages (from dataclasses-json<0.7,>=0.5.7->langchain-community->metadata-chatbot) (3.22.0)\n",
      "Requirement already satisfied: typing-inspect<1,>=0.4.0 in c:\\users\\sreya.kumar\\documents\\github\\metadata-chatbot\\venv\\lib\\site-packages (from dataclasses-json<0.7,>=0.5.7->langchain-community->metadata-chatbot) (0.9.0)\n",
      "Requirement already satisfied: jsonpointer>=1.9 in c:\\users\\sreya.kumar\\documents\\github\\metadata-chatbot\\venv\\lib\\site-packages (from jsonpatch<2.0,>=1.33->langchain-core->metadata-chatbot) (3.0.0)\n",
      "Requirement already satisfied: msgpack<2.0.0,>=1.1.0 in c:\\users\\sreya.kumar\\documents\\github\\metadata-chatbot\\venv\\lib\\site-packages (from langgraph-checkpoint<3.0.0,>=2.0.0->langgraph->metadata-chatbot) (1.1.0)\n",
      "Requirement already satisfied: httpx>=0.25.2 in c:\\users\\sreya.kumar\\documents\\github\\metadata-chatbot\\venv\\lib\\site-packages (from langgraph-sdk<0.2.0,>=0.1.32->langgraph->metadata-chatbot) (0.27.2)\n",
      "Requirement already satisfied: httpx-sse>=0.4.0 in c:\\users\\sreya.kumar\\documents\\github\\metadata-chatbot\\venv\\lib\\site-packages (from langgraph-sdk<0.2.0,>=0.1.32->langgraph->metadata-chatbot) (0.4.0)\n",
      "Requirement already satisfied: orjson>=3.10.1 in c:\\users\\sreya.kumar\\documents\\github\\metadata-chatbot\\venv\\lib\\site-packages (from langgraph-sdk<0.2.0,>=0.1.32->langgraph->metadata-chatbot) (3.10.7)\n",
      "Requirement already satisfied: requests-toolbelt<2.0.0,>=1.0.0 in c:\\users\\sreya.kumar\\documents\\github\\metadata-chatbot\\venv\\lib\\site-packages (from langsmith<0.2.0,>=0.1.17->langchain->metadata-chatbot) (1.0.0)\n",
      "Requirement already satisfied: bcrypt>=3.2 in c:\\users\\sreya.kumar\\documents\\github\\metadata-chatbot\\venv\\lib\\site-packages (from paramiko>=2.7.2->sshtunnel->metadata-chatbot) (4.2.0)\n",
      "Requirement already satisfied: cryptography>=3.3 in c:\\users\\sreya.kumar\\documents\\github\\metadata-chatbot\\venv\\lib\\site-packages (from paramiko>=2.7.2->sshtunnel->metadata-chatbot) (43.0.1)\n",
      "Requirement already satisfied: pynacl>=1.5 in c:\\users\\sreya.kumar\\documents\\github\\metadata-chatbot\\venv\\lib\\site-packages (from paramiko>=2.7.2->sshtunnel->metadata-chatbot) (1.5.0)\n",
      "Requirement already satisfied: annotated-types>=0.6.0 in c:\\users\\sreya.kumar\\documents\\github\\metadata-chatbot\\venv\\lib\\site-packages (from pydantic>=2.0->aind-data-access-api>=0.15.0->aind-data-access-api[full]>=0.15.0->metadata-chatbot) (0.7.0)\n",
      "Requirement already satisfied: pydantic-core==2.23.4 in c:\\users\\sreya.kumar\\documents\\github\\metadata-chatbot\\venv\\lib\\site-packages (from pydantic>=2.0->aind-data-access-api>=0.15.0->aind-data-access-api[full]>=0.15.0->metadata-chatbot) (2.23.4)\n",
      "Requirement already satisfied: python-dotenv>=0.21.0 in c:\\users\\sreya.kumar\\documents\\github\\metadata-chatbot\\venv\\lib\\site-packages (from pydantic-settings>=2.0->aind-data-access-api>=0.15.0->aind-data-access-api[full]>=0.15.0->metadata-chatbot) (1.0.1)\n",
      "Requirement already satisfied: charset-normalizer<4,>=2 in c:\\users\\sreya.kumar\\documents\\github\\metadata-chatbot\\venv\\lib\\site-packages (from requests->aind-data-access-api>=0.15.0->aind-data-access-api[full]>=0.15.0->metadata-chatbot) (3.4.0)\n",
      "Requirement already satisfied: idna<4,>=2.5 in c:\\users\\sreya.kumar\\documents\\github\\metadata-chatbot\\venv\\lib\\site-packages (from requests->aind-data-access-api>=0.15.0->aind-data-access-api[full]>=0.15.0->metadata-chatbot) (3.10)\n",
      "Requirement already satisfied: certifi>=2017.4.17 in c:\\users\\sreya.kumar\\documents\\github\\metadata-chatbot\\venv\\lib\\site-packages (from requests->aind-data-access-api>=0.15.0->aind-data-access-api[full]>=0.15.0->metadata-chatbot) (2024.8.30)\n",
      "Requirement already satisfied: greenlet!=0.4.17 in c:\\users\\sreya.kumar\\documents\\github\\metadata-chatbot\\venv\\lib\\site-packages (from SQLAlchemy<3,>=1.4->langchain->metadata-chatbot) (3.1.1)\n",
      "Requirement already satisfied: anyio<5,>=3.4.0 in c:\\users\\sreya.kumar\\documents\\github\\metadata-chatbot\\venv\\lib\\site-packages (from starlette<0.41.0,>=0.37.2->fastapi->metadata-chatbot) (4.6.2.post1)\n",
      "Requirement already satisfied: psycopg2-binary==2.9.5 in c:\\users\\sreya.kumar\\documents\\github\\metadata-chatbot\\venv\\lib\\site-packages (from aind-data-access-api>=0.15.0->aind-data-access-api[full]>=0.15.0->metadata-chatbot) (2.9.5)\n",
      "Requirement already satisfied: pandas<2.2.0,>=2.0.0 in c:\\users\\sreya.kumar\\documents\\github\\metadata-chatbot\\venv\\lib\\site-packages (from aind-data-access-api>=0.15.0->aind-data-access-api[full]>=0.15.0->metadata-chatbot) (2.1.4)\n",
      "Requirement already satisfied: sniffio>=1.1 in c:\\users\\sreya.kumar\\documents\\github\\metadata-chatbot\\venv\\lib\\site-packages (from anyio<5,>=3.4.0->starlette<0.41.0,>=0.37.2->fastapi->metadata-chatbot) (1.3.1)\n",
      "Requirement already satisfied: cffi>=1.12 in c:\\users\\sreya.kumar\\documents\\github\\metadata-chatbot\\venv\\lib\\site-packages (from cryptography>=3.3->paramiko>=2.7.2->sshtunnel->metadata-chatbot) (1.17.1)\n",
      "Requirement already satisfied: httpcore==1.* in c:\\users\\sreya.kumar\\documents\\github\\metadata-chatbot\\venv\\lib\\site-packages (from httpx>=0.25.2->langgraph-sdk<0.2.0,>=0.1.32->langgraph->metadata-chatbot) (1.0.6)\n",
      "Requirement already satisfied: pytz>=2020.1 in c:\\users\\sreya.kumar\\documents\\github\\metadata-chatbot\\venv\\lib\\site-packages (from pandas<2.2.0,>=2.0.0->aind-data-access-api>=0.15.0->aind-data-access-api[full]>=0.15.0->metadata-chatbot) (2024.2)\n",
      "Requirement already satisfied: tzdata>=2022.1 in c:\\users\\sreya.kumar\\documents\\github\\metadata-chatbot\\venv\\lib\\site-packages (from pandas<2.2.0,>=2.0.0->aind-data-access-api>=0.15.0->aind-data-access-api[full]>=0.15.0->metadata-chatbot) (2024.2)\n",
      "Requirement already satisfied: six>=1.5 in c:\\users\\sreya.kumar\\documents\\github\\metadata-chatbot\\venv\\lib\\site-packages (from python-dateutil<3.0.0,>=2.1->botocore<1.36.0,>=1.35.42->boto3->metadata-chatbot) (1.16.0)\n",
      "Requirement already satisfied: mypy-extensions>=0.3.0 in c:\\users\\sreya.kumar\\documents\\github\\metadata-chatbot\\venv\\lib\\site-packages (from typing-inspect<1,>=0.4.0->dataclasses-json<0.7,>=0.5.7->langchain-community->metadata-chatbot) (1.0.0)\n",
      "Requirement already satisfied: propcache>=0.2.0 in c:\\users\\sreya.kumar\\documents\\github\\metadata-chatbot\\venv\\lib\\site-packages (from yarl<2.0,>=1.12.0->aiohttp<4.0.0,>=3.8.3->langchain->metadata-chatbot) (0.2.0)\n",
      "Requirement already satisfied: pycparser in c:\\users\\sreya.kumar\\documents\\github\\metadata-chatbot\\venv\\lib\\site-packages (from cffi>=1.12->cryptography>=3.3->paramiko>=2.7.2->sshtunnel->metadata-chatbot) (2.22)\n"
     ]
    }
   ],
   "source": [
    "!pip install metadata-chatbot"
   ]
  },
  {
   "cell_type": "code",
   "execution_count": 2,
   "metadata": {},
   "outputs": [
    {
     "name": "stdout",
     "output_type": "stream",
     "text": [
      "Name: metadata-chatbot\n",
      "Version: 0.0.20\n",
      "Summary: Generated from aind-library-template\n",
      "Home-page: \n",
      "Author: Allen Institute for Neural Dynamics\n",
      "Author-email: \n",
      "License: MIT\n",
      "Location: C:\\Users\\sreya.kumar\\Documents\\GitHub\\metadata-chatbot\\venv\\Lib\\site-packages\n",
      "Editable project location: C:\\Users\\sreya.kumar\\Documents\\GitHub\\metadata-chatbot\n",
      "Requires: aind-data-access-api, boto3, fastapi, langchain, langchain-aws, langchain-community, langchain-core, langgraph, logging, motor, nest-asyncio, pymongo, sshtunnel, typing, uvicorn\n",
      "Required-by: \n"
     ]
    }
   ],
   "source": [
    "!pip show metadata_chatbot"
   ]
  },
  {
   "cell_type": "code",
   "execution_count": 1,
   "metadata": {},
   "outputs": [
    {
     "ename": "ImportError",
     "evalue": "cannot import name 'db_surveyor' from 'metadata_chatbot.agents.agentic_graph' (c:\\Users\\sreya.kumar\\Documents\\GitHub\\metadata-chatbot\\venv\\Lib\\site-packages\\metadata_chatbot\\agents\\agentic_graph.py)",
     "output_type": "error",
     "traceback": [
      "\u001b[1;31m---------------------------------------------------------------------------\u001b[0m",
      "\u001b[1;31mImportError\u001b[0m                               Traceback (most recent call last)",
      "Cell \u001b[1;32mIn[1], line 1\u001b[0m\n\u001b[1;32m----> 1\u001b[0m \u001b[38;5;28;01mfrom\u001b[39;00m \u001b[38;5;21;01mmetadata_chatbot\u001b[39;00m\u001b[38;5;21;01m.\u001b[39;00m\u001b[38;5;21;01magents\u001b[39;00m\u001b[38;5;21;01m.\u001b[39;00m\u001b[38;5;21;01mGAMER\u001b[39;00m \u001b[38;5;28;01mimport\u001b[39;00m GAMER\n\u001b[0;32m      2\u001b[0m query \u001b[38;5;241m=\u001b[39m \u001b[38;5;124m\"\u001b[39m\u001b[38;5;124mWhat are all the assets using mouse 675387\u001b[39m\u001b[38;5;124m\"\u001b[39m\n\u001b[0;32m      4\u001b[0m model \u001b[38;5;241m=\u001b[39m GAMER()\n",
      "File \u001b[1;32mc:\\Users\\sreya.kumar\\Documents\\GitHub\\metadata-chatbot\\venv\\Lib\\site-packages\\metadata_chatbot\\agents\\GAMER.py:9\u001b[0m\n\u001b[0;32m      5\u001b[0m \u001b[38;5;28;01mfrom\u001b[39;00m \u001b[38;5;21;01mlangchain_core\u001b[39;00m\u001b[38;5;21;01m.\u001b[39;00m\u001b[38;5;21;01moutputs\u001b[39;00m \u001b[38;5;28;01mimport\u001b[39;00m GenerationChunk\n\u001b[0;32m      7\u001b[0m \u001b[38;5;28;01mimport\u001b[39;00m \u001b[38;5;21;01mlogging\u001b[39;00m\u001b[38;5;241m,\u001b[39m \u001b[38;5;21;01masyncio\u001b[39;00m\n\u001b[1;32m----> 9\u001b[0m \u001b[38;5;28;01mfrom\u001b[39;00m \u001b[38;5;21;01mmetadata_chatbot\u001b[39;00m\u001b[38;5;21;01m.\u001b[39;00m\u001b[38;5;21;01magents\u001b[39;00m\u001b[38;5;21;01m.\u001b[39;00m\u001b[38;5;21;01masync_workflow\u001b[39;00m \u001b[38;5;28;01mimport\u001b[39;00m async_app\n\u001b[0;32m     10\u001b[0m \u001b[38;5;28;01mfrom\u001b[39;00m \u001b[38;5;21;01mmetadata_chatbot\u001b[39;00m\u001b[38;5;21;01m.\u001b[39;00m\u001b[38;5;21;01magents\u001b[39;00m\u001b[38;5;21;01m.\u001b[39;00m\u001b[38;5;21;01mworkflow\u001b[39;00m \u001b[38;5;28;01mimport\u001b[39;00m app\n\u001b[0;32m     13\u001b[0m \u001b[38;5;28;01mclass\u001b[39;00m \u001b[38;5;21;01mGAMER\u001b[39;00m(LLM):\n",
      "File \u001b[1;32mc:\\Users\\sreya.kumar\\Documents\\GitHub\\metadata-chatbot\\venv\\Lib\\site-packages\\metadata_chatbot\\agents\\async_workflow.py:14\u001b[0m\n\u001b[0;32m     11\u001b[0m \u001b[38;5;28;01mfrom\u001b[39;00m \u001b[38;5;21;01maind_data_access_api\u001b[39;00m\u001b[38;5;21;01m.\u001b[39;00m\u001b[38;5;21;01mdocument_db\u001b[39;00m \u001b[38;5;28;01mimport\u001b[39;00m MetadataDbClient\n\u001b[0;32m     13\u001b[0m \u001b[38;5;28;01mfrom\u001b[39;00m \u001b[38;5;21;01mmetadata_chatbot\u001b[39;00m\u001b[38;5;21;01m.\u001b[39;00m\u001b[38;5;21;01magents\u001b[39;00m\u001b[38;5;21;01m.\u001b[39;00m\u001b[38;5;21;01mdocdb_retriever\u001b[39;00m \u001b[38;5;28;01mimport\u001b[39;00m DocDBRetriever\n\u001b[1;32m---> 14\u001b[0m \u001b[38;5;28;01mfrom\u001b[39;00m \u001b[38;5;21;01mmetadata_chatbot\u001b[39;00m\u001b[38;5;21;01m.\u001b[39;00m\u001b[38;5;21;01magents\u001b[39;00m\u001b[38;5;21;01m.\u001b[39;00m\u001b[38;5;21;01magentic_graph\u001b[39;00m \u001b[38;5;28;01mimport\u001b[39;00m datasource_router, db_surveyor, query_grader, filter_generation_chain, doc_grader, rag_chain\n\u001b[0;32m     16\u001b[0m logging\u001b[38;5;241m.\u001b[39mbasicConfig(filename\u001b[38;5;241m=\u001b[39m\u001b[38;5;124m'\u001b[39m\u001b[38;5;124masync_workflow.log\u001b[39m\u001b[38;5;124m'\u001b[39m, level\u001b[38;5;241m=\u001b[39mlogging\u001b[38;5;241m.\u001b[39mINFO, \u001b[38;5;28mformat\u001b[39m\u001b[38;5;241m=\u001b[39m\u001b[38;5;124m'\u001b[39m\u001b[38;5;132;01m%(asctime)s\u001b[39;00m\u001b[38;5;124m - \u001b[39m\u001b[38;5;132;01m%(name)s\u001b[39;00m\u001b[38;5;124m - \u001b[39m\u001b[38;5;132;01m%(levelname)s\u001b[39;00m\u001b[38;5;124m - \u001b[39m\u001b[38;5;132;01m%(message)s\u001b[39;00m\u001b[38;5;124m'\u001b[39m, filemode\u001b[38;5;241m=\u001b[39m\u001b[38;5;124m\"\u001b[39m\u001b[38;5;124mw\u001b[39m\u001b[38;5;124m\"\u001b[39m)\n\u001b[0;32m     18\u001b[0m API_GATEWAY_HOST \u001b[38;5;241m=\u001b[39m \u001b[38;5;124m\"\u001b[39m\u001b[38;5;124mapi.allenneuraldynamics-test.org\u001b[39m\u001b[38;5;124m\"\u001b[39m\n",
      "\u001b[1;31mImportError\u001b[0m: cannot import name 'db_surveyor' from 'metadata_chatbot.agents.agentic_graph' (c:\\Users\\sreya.kumar\\Documents\\GitHub\\metadata-chatbot\\venv\\Lib\\site-packages\\metadata_chatbot\\agents\\agentic_graph.py)"
     ]
    }
   ],
   "source": [
    "from metadata_chatbot.agents.GAMER import GAMER\n",
    "query = \"What are all the assets using mouse 675387\"\n",
    "\n",
    "model = GAMER()\n",
    "result = model.invoke(query)\n",
    "\n",
    "print(result)"
   ]
  },
  {
   "cell_type": "markdown",
   "metadata": {},
   "source": [
    "### Asynchronous calling"
   ]
  },
  {
   "cell_type": "code",
   "execution_count": 4,
   "metadata": {},
   "outputs": [
    {
     "name": "stdout",
     "output_type": "stream",
     "text": [
      "Based on the provided context, the genotype for the subject with ID 675387 in the experiment SmartSPIM_675387_2023-05-23_23-05-56 is wt/wt (wild-type).\n"
     ]
    }
   ],
   "source": [
    "from metadata_chatbot.agents.GAMER import GAMER\n",
    "llm = GAMER()\n",
    "query = \"What is the mo genotype for the subject in SmartSPIM_675387_2023-05-23_23-05-56\"\n",
    "\n",
    "result = await llm.ainvoke(query)\n",
    "print(result)"
   ]
  }
 ],
 "metadata": {
  "kernelspec": {
   "display_name": "venv",
   "language": "python",
   "name": "python3"
  },
  "language_info": {
   "codemirror_mode": {
    "name": "ipython",
    "version": 3
   },
   "file_extension": ".py",
   "mimetype": "text/x-python",
   "name": "python",
   "nbconvert_exporter": "python",
   "pygments_lexer": "ipython3",
   "version": "3.11.0"
  }
 },
 "nbformat": 4,
 "nbformat_minor": 2
}
