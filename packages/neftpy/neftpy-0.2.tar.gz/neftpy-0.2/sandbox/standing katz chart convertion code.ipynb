{
 "cells": [
  {
   "cell_type": "code",
   "execution_count": 1,
   "id": "2bbbf197-c62e-4eda-b41e-3af822ad05cd",
   "metadata": {},
   "outputs": [],
   "source": [
    "import matplotlib.pyplot as plt\n",
    "%matplotlib inline\n",
    "import numpy as np\n",
    "from scipy.interpolate import RegularGridInterpolator\n",
    "import pandas as pd\n",
    "import json\n",
    "import sys\n",
    "sys.path.append('../')\n",
    "import neftpy.upvt_gas as pvtg\n",
    "import neftpy.upvt_np_vect as pvtv\n",
    "import scipy.optimize as opt"
   ]
  },
  {
   "cell_type": "code",
   "execution_count": 5,
   "id": "3475f1b5-651a-4ad2-8814-f37cddbfea88",
   "metadata": {
    "scrolled": true
   },
   "outputs": [],
   "source": [
    "#код для конвертации данных по графику Стендинга Катца из отдельных файлов в json\n",
    "\n",
    "tpr = [1.05, 1.1, 1.2, 1.3, 1.4, 1.5, 1.6, 1.7, 1.8, 1.9, 2, 2.2, 2.4, 2.6, 2.8, 3] # имеющиеся наборы кривых\n",
    "dct = {}\n",
    "\n",
    "for t in tpr:\n",
    "    data = pd.read_csv(r'data\\Standing-Katz Chart Data\\sk_tpr_{}.txt'.format(int(t*100)), sep=';')\n",
    "    ppr = pd.DataFrame(data)['x'].to_list()\n",
    "    z = pd.DataFrame(data)['y'].to_list()\n",
    "    dct[t] = {'ppr':ppr, 'z':z, 'tpr':t}\n",
    "\n",
    "with open('result.json', 'w') as fp:\n",
    "    json.dump(dct, fp)\n",
    "\n"
   ]
  },
  {
   "cell_type": "code",
   "execution_count": null,
   "id": "8bf0a4f7-600c-4a95-872f-b4775bd455bc",
   "metadata": {},
   "outputs": [],
   "source": [
    "\n",
    "def load_StandingKatz_curve():\n",
    "    \"\"\"\n",
    "    загружает табулированные значения кривых с графика Standing Katz из набора файлов в папке data\n",
    "    \"\"\"\n",
    "    tpr = [1.05, 1.1, 1.2, 1.3, 1.4, 1.5, 1.6, 1.7, 1.8, 1.9, 2, 2.2, 2.4, 2.6, 2.8, 3] # имеющиеся наборы кривых\n",
    "    df = pd.DataFrame()\n",
    "    try:\n",
    "        for t in tpr:\n",
    "            data = pd.read_csv(r'data\\Standing-Katz Chart Data\\sk_tpr_{}.txt'.format(int(t*100)), sep=';')\n",
    "            ppr = np.array(pd.DataFrame(data)['x'])\n",
    "            z = np.array(pd.DataFrame(data)['y'])\n",
    "            df_SK_t = pd.DataFrame({f\"tpr = {t}\":z}, index = ppr)\n",
    "            if df.shape[0]==0:\n",
    "                df = df_SK_t.copy()\n",
    "            else:\n",
    "                df =df.join(df_SK_t, how='outer')\n",
    "            df = df.sort_index().interpolate(method='index')\n",
    "        # пробуем сделать интерполятор на регулярной сетке\n",
    "        ppr = np.array(df.index)\n",
    "        tpr = np.array(tpr)\n",
    "        data = np.array(df)\n",
    "        interp = RegularGridInterpolator((ppr, tpr), data,\n",
    "                                         bounds_error=False, fill_value=None)\n",
    "        return {'df':df, 'interp':interp}\n",
    "    except Exception as e:\n",
    "        print(e)\n"
   ]
  }
 ],
 "metadata": {
  "kernelspec": {
   "display_name": "Python 3 (ipykernel)",
   "language": "python",
   "name": "python3"
  },
  "language_info": {
   "codemirror_mode": {
    "name": "ipython",
    "version": 3
   },
   "file_extension": ".py",
   "mimetype": "text/x-python",
   "name": "python",
   "nbconvert_exporter": "python",
   "pygments_lexer": "ipython3",
   "version": "3.12.3"
  }
 },
 "nbformat": 4,
 "nbformat_minor": 5
}
