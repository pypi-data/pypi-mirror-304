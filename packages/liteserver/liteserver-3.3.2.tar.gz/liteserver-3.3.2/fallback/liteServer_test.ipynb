{
 "cells": [
  {
   "cell_type": "markdown",
   "metadata": {},
   "source": [
    "# Test Access to a liteServer "
   ]
  },
  {
   "cell_type": "code",
   "execution_count": 1,
   "metadata": {
    "collapsed": true
   },
   "outputs": [],
   "source": [
    "#Make sure that a liteServer is running.\n",
    "#For this test it is assumed that liteServer liteScaler.py running on local host.\n",
    "#import subprocess\n",
    "#subprocess.call(['./liteScaler.py'])"
   ]
  },
  {
   "cell_type": "code",
   "execution_count": 1,
   "metadata": {
    "collapsed": false
   },
   "outputs": [
    {
     "name": "stdout",
     "output_type": "stream",
     "text": [
      "v27a 2019-11-25\n"
     ]
    }
   ],
   "source": [
    "import liteAccess\n",
    "print(liteAccess.__version__)"
   ]
  },
  {
   "cell_type": "code",
   "execution_count": 2,
   "metadata": {
    "collapsed": false
   },
   "outputs": [
    {
     "name": "stdout",
     "output_type": "stream",
     "text": [
      "('Server address;port:', '130.199.105.240;9700')\n"
     ]
    }
   ],
   "source": [
    "#``````````````````Server address and port. Please change hostPort to proper server if it is not localhost.\n",
    "serverAddr = liteAccess.ip_address()#  localhost\n",
    "port = 9700#  \n",
    "hostPort = '%s;%i'%(serverAddr,port)\n",
    "#hostPort = '130.199.100.155;9700'\n",
    "print('Server address;port:',hostPort)"
   ]
  },
  {
   "cell_type": "code",
   "execution_count": 3,
   "metadata": {
    "collapsed": false
   },
   "outputs": [
    {
     "name": "stdout",
     "output_type": "stream",
     "text": [
      "UDP client of (u'130.199.105.240', 9700), timeout None\n",
      "Server 130.199.105.240;9700 supports following devices: [u'server', u'dev1', u'dev2']\n"
     ]
    }
   ],
   "source": [
    "#``````````````````List of supported devices\n",
    "devs = liteAccess.PV([hostPort]).info()\n",
    "print('Server '+hostPort+' supports following devices: '+str(devs))"
   ]
  },
  {
   "cell_type": "code",
   "execution_count": 4,
   "metadata": {
    "collapsed": false
   },
   "outputs": [
    {
     "name": "stdout",
     "output_type": "stream",
     "text": [
      "UDP client of (u'130.199.105.240', 9700), timeout None\n",
      "('Device info:', {u'dev1:counters': {u'count': [1100], u'timestamp': [1574704770.4122121], u'features': u'R', u'value': u'?', u'desc': u'1100 of counters'}, u'dev1:pause': {u'count': [1], u'features': u'RW', u'value': u'?', u'desc': u'Pause all counters'}, u'dev1:reset': {u'count': [1], u'features': u'W', u'value': u'?', u'desc': u'Reset all counters'}, u'dev1:increments': {u'count': [1100], u'features': u'W', u'value': u'?', u'desc': u'Increments of the individual counters'}, u'dev1:frequency': {u'count': [1], u'opLimits': [0, 10], u'features': u'W', u'value': u'?', u'desc': u'Update frequency of all counters'}, u'dev1:time': {u'count': [1], u'features': u'R', u'value': u'?', u'desc': u'Current time'}, u'dev1:image': {u'count': [1], u'features': u'R', u'value': u'?', u'desc': u'Image'}})\n"
     ]
    }
   ],
   "source": [
    "#``````````````````Information on first device\n",
    "firstDev = devs[1]#\n",
    "devInfo = liteAccess.PV([hostPort,firstDev]).info()\n",
    "print('Device info:',devInfo)"
   ]
  },
  {
   "cell_type": "code",
   "execution_count": 5,
   "metadata": {
    "collapsed": false
   },
   "outputs": [
    {
     "name": "stdout",
     "output_type": "stream",
     "text": [
      "UDP client of (u'130.199.105.240', 9700), timeout None\n"
     ]
    }
   ],
   "source": [
    "#``````````````````request single parameter: image\n",
    "image = liteAccess.PV([hostPort,firstDev,'image'])"
   ]
  },
  {
   "cell_type": "code",
   "execution_count": 6,
   "metadata": {
    "collapsed": false
   },
   "outputs": [
    {
     "name": "stdout",
     "output_type": "stream",
     "text": [
      "Help on instance of PV in module liteAccess:\n",
      "\n",
      "class PV\n",
      " |  Methods defined here:\n",
      " |  \n",
      " |  __init__(self, hostDevsPars, timeout=None, dbg=False)\n",
      " |  \n",
      " |  execute_cmd(self, cmd)\n",
      " |  \n",
      " |  firstValue(self, timestamp=False)\n",
      " |      Simple way to get a first value\n",
      " |  \n",
      " |  info(self, props=[u''])\n",
      " |  \n",
      " |  monitor(self, pvName, callback)\n",
      " |      Calls the callback() each time parameter changes\n",
      " |  \n",
      " |  ----------------------------------------------------------------------\n",
      " |  Data descriptors defined here:\n",
      " |  \n",
      " |  value\n",
      " |      Getter/setter of PV/property\n",
      "\n"
     ]
    }
   ],
   "source": [
    "help(image)"
   ]
  },
  {
   "cell_type": "code",
   "execution_count": 7,
   "metadata": {
    "collapsed": false
   },
   "outputs": [
    {
     "data": {
      "text/plain": [
       "{u'dev1:image': {u'value': array([[[ 52,   1,   2],\n",
       "          [  3,   4,   5],\n",
       "          [  6,   7,   8],\n",
       "          ..., \n",
       "          [215, 216, 217],\n",
       "          [218, 219, 220],\n",
       "          [221, 222, 223]],\n",
       "  \n",
       "         [[224, 225, 226],\n",
       "          [227, 228, 229],\n",
       "          [230, 231, 232],\n",
       "          ..., \n",
       "          [183, 184, 185],\n",
       "          [186, 187, 188],\n",
       "          [189, 190, 191]],\n",
       "  \n",
       "         [[192, 193, 194],\n",
       "          [195, 196, 197],\n",
       "          [198, 199, 200],\n",
       "          ..., \n",
       "          [151, 152, 153],\n",
       "          [154, 155, 156],\n",
       "          [157, 158, 159]],\n",
       "  \n",
       "         ..., \n",
       "         [[ 96,  97,  98],\n",
       "          [ 99, 100, 101],\n",
       "          [102, 103, 104],\n",
       "          ..., \n",
       "          [ 55,  56,  57],\n",
       "          [ 58,  59,  60],\n",
       "          [ 61,  62,  63]],\n",
       "  \n",
       "         [[ 64,  65,  66],\n",
       "          [ 67,  68,  69],\n",
       "          [ 70,  71,  72],\n",
       "          ..., \n",
       "          [ 23,  24,  25],\n",
       "          [ 26,  27,  28],\n",
       "          [ 29,  30,  31]],\n",
       "  \n",
       "         [[ 32,  33,  34],\n",
       "          [ 35,  36,  37],\n",
       "          [ 38,  39,  40],\n",
       "          ..., \n",
       "          [247, 248, 249],\n",
       "          [250, 251, 252],\n",
       "          [253, 254, 255]]], dtype=uint8)}}"
      ]
     },
     "execution_count": 7,
     "metadata": {},
     "output_type": "execute_result"
    }
   ],
   "source": [
    "image.value"
   ]
  },
  {
   "cell_type": "code",
   "execution_count": 23,
   "metadata": {
    "collapsed": false
   },
   "outputs": [
    {
     "name": "stdout",
     "output_type": "stream",
     "text": [
      "image array:\n",
      "[[[201   1   2]\n",
      "  [  3   4   5]\n",
      "  [  6   7   8]\n",
      "  ..., \n",
      "  [215 216 217]\n",
      "  [218 219 220]\n",
      "  [221 222 223]]\n",
      "\n",
      " [[224 225 226]\n",
      "  [227 228 229]\n",
      "  [230 231 232]\n",
      "  ..., \n",
      "  [183 184 185]\n",
      "  [186 187 188]\n",
      "  [189 190 191]]\n",
      "\n",
      " [[192 193 194]\n",
      "  [195 196 197]\n",
      "  [198 199 200]\n",
      "  ..., \n",
      "  [151 152 153]\n",
      "  [154 155 156]\n",
      "  [157 158 159]]\n",
      "\n",
      " ..., \n",
      " [[ 96  97  98]\n",
      "  [ 99 100 101]\n",
      "  [102 103 104]\n",
      "  ..., \n",
      "  [ 55  56  57]\n",
      "  [ 58  59  60]\n",
      "  [ 61  62  63]]\n",
      "\n",
      " [[ 64  65  66]\n",
      "  [ 67  68  69]\n",
      "  [ 70  71  72]\n",
      "  ..., \n",
      "  [ 23  24  25]\n",
      "  [ 26  27  28]\n",
      "  [ 29  30  31]]\n",
      "\n",
      " [[ 32  33  34]\n",
      "  [ 35  36  37]\n",
      "  [ 38  39  40]\n",
      "  ..., \n",
      "  [247 248 249]\n",
      "  [250 251 252]\n",
      "  [253 254 255]]]\n"
     ]
    }
   ],
   "source": [
    "#``````````````````get requested data\n",
    "v = image.firstValue()\n",
    "print('image array:\\n'+str(v))"
   ]
  },
  {
   "cell_type": "code",
   "execution_count": 24,
   "metadata": {
    "collapsed": false
   },
   "outputs": [
    {
     "name": "stdout",
     "output_type": "stream",
     "text": [
      "UDP client of (u'130.199.105.240', 9700), timeout None\n",
      "time of dev2:1574705452.994\n"
     ]
    }
   ],
   "source": [
    "#``````````````````request single parameter and take its first value\n",
    "pvTime = liteAccess.PV([hostPort,['dev2'],['time']]).firstValue()[0]\n",
    "print('time of dev2:%.3f'%pvTime)"
   ]
  },
  {
   "cell_type": "code",
   "execution_count": 25,
   "metadata": {
    "collapsed": false
   },
   "outputs": [
    {
     "name": "stdout",
     "output_type": "stream",
     "text": [
      "UDP client of (u'130.199.105.240', 9700), timeout None\n"
     ]
    }
   ],
   "source": [
    "#``````````````````request multiple parameters (timestamp and image) from multiple devices: \n",
    "timeImage = liteAccess.PV([hostPort,[firstDev,'dev2'],['time','image']])"
   ]
  },
  {
   "cell_type": "code",
   "execution_count": 14,
   "metadata": {
    "collapsed": false
   },
   "outputs": [
    {
     "name": "stdout",
     "output_type": "stream",
     "text": [
      "[u'dev1:time', u'dev2:time', u'dev1:image', u'dev2:image']\n"
     ]
    }
   ],
   "source": [
    "#``````````````````get requested data\n",
    "v = timeImage.value\n",
    "print(v.keys())"
   ]
  },
  {
   "cell_type": "code",
   "execution_count": 19,
   "metadata": {
    "collapsed": false
   },
   "outputs": [
    {
     "name": "stdout",
     "output_type": "stream",
     "text": [
      "dev1:time = 1574705009.237\n"
     ]
    }
   ],
   "source": [
    "# print dev1:time = \n",
    "key = firstDev+':time'\n",
    "timestamp = v[key]['value'][0]\n",
    "print(key+' = %.3f'%timestamp)"
   ]
  }
 ],
 "metadata": {
  "kernelspec": {
   "display_name": "Python [Anaconda2]",
   "language": "python",
   "name": "Python [Anaconda2]"
  },
  "language_info": {
   "codemirror_mode": {
    "name": "ipython",
    "version": 2
   },
   "file_extension": ".py",
   "mimetype": "text/x-python",
   "name": "python",
   "nbconvert_exporter": "python",
   "pygments_lexer": "ipython2",
   "version": "2.7.15"
  }
 },
 "nbformat": 4,
 "nbformat_minor": 2
}
