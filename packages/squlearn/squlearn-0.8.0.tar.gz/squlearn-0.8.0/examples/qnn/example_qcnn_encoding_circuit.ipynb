{
 "cells": [
  {
   "cell_type": "markdown",
   "metadata": {},
   "source": [
    "# Example: Quantum Convolutional Neural Network\n",
    "\n",
    "In this notebook we show how to use the `QCNN encoding circuit` for regression and classification.\n",
    "\n",
    "## Imports"
   ]
  },
  {
   "cell_type": "code",
   "execution_count": null,
   "metadata": {},
   "outputs": [],
   "source": [
    "import numpy as np\n",
    "from qiskit.circuit import QuantumCircuit\n",
    "from qiskit.circuit import ParameterVector\n",
    "from squlearn.encoding_circuit import (\n",
    "    QiskitEncodingCircuit,\n",
    "    QCNNEncodingCircuit,\n",
    "    LayeredEncodingCircuit,\n",
    ")\n",
    "from squlearn.qnn import QNNClassifier, QNNRegressor, SquaredLoss\n",
    "from squlearn.optimizers import Adam\n",
    "from squlearn import Executor\n",
    "import matplotlib.pyplot as plt\n",
    "from sklearn.model_selection import train_test_split\n",
    "from squlearn.observables import CustomObservable\n",
    "from sklearn.datasets import make_moons"
   ]
  },
  {
   "cell_type": "markdown",
   "metadata": {},
   "source": [
    "## `QCNN encoding circuit` Setup\n",
    "\n",
    "We start by showing examples of how to build the QCNN. The first example is the most simple way. With the `default` keyword set to \"True\" the default circuit with the given number of qubits and features is build."
   ]
  },
  {
   "cell_type": "code",
   "execution_count": null,
   "metadata": {},
   "outputs": [],
   "source": [
    "qc = QCNNEncodingCircuit(num_qubits=4, num_features=4, default=True)\n",
    "qc.draw(\"mpl\")"
   ]
  },
  {
   "cell_type": "markdown",
   "metadata": {},
   "source": [
    "Another fast way would be to define a convolution layer and a pooling layer and call the `repeat_layers` function to repeat the first layers until few enough qubits are left in the circuit. The individual building blocks can be resolved with the keyword `decompose`. As one can see, with the keyword `measurement` set to True in the pooling layer one can implement gates on qubits conditioned on the outcome of a measurement on another qubit instead of normal conditional (e.g. cx) gates."
   ]
  },
  {
   "cell_type": "code",
   "execution_count": null,
   "metadata": {},
   "outputs": [],
   "source": [
    "qc = QCNNEncodingCircuit(4, 2)\n",
    "qc.convolution(alternating=False)\n",
    "qc.pooling(measurement=True)\n",
    "qc.repeat_layers()\n",
    "qc.draw(\"mpl\", decompose=True)"
   ]
  },
  {
   "cell_type": "markdown",
   "metadata": {},
   "source": [
    "We can provide our own feature map and add it in front of the encoding circuit. Further we can change the number of qubits and features in the circuit on the fly `up` (and `down`, if the already applied pooling gates allow it)."
   ]
  },
  {
   "cell_type": "code",
   "execution_count": null,
   "metadata": {},
   "outputs": [],
   "source": [
    "qc = QCNNEncodingCircuit(num_qubits=3, default=True)\n",
    "qc.set_params(num_qubits=4)\n",
    "encode = LayeredEncodingCircuit.from_string(\"Rx(x)\", num_qubits=4, num_features=2)\n",
    "qcnn = encode + qc\n",
    "qcnn.draw(\"mpl\")"
   ]
  },
  {
   "cell_type": "markdown",
   "metadata": {},
   "source": [
    "We can overwrite the default circuits in the given layer by setting the keyword `quantum_circuit`. The Circuits can either be `QuantumCircuit` or `sQUlearn circuit` objects (if one inputs a circuit with features an Error is raised). Notice that the qiskit `ParameterVector`'s are overwritten with the internal parameters. The circuit size is only restricted by the number of qubits left in the qcnn. In the pooling layer the adressed qubits can be set with the keywords `input_list` and `output_list`."
   ]
  },
  {
   "cell_type": "code",
   "execution_count": null,
   "metadata": {},
   "outputs": [],
   "source": [
    "qc = QCNNEncodingCircuit(6)\n",
    "\n",
    "x1 = ParameterVector(\"p\", 2)\n",
    "qc1 = QuantumCircuit(2)\n",
    "qc1.crx(x1[0], 0, 1)\n",
    "qc1.rx(x1[1], 0)\n",
    "\n",
    "qc2 = QiskitEncodingCircuit(qc1)  # sQUlearn circuit object\n",
    "\n",
    "x31 = ParameterVector(\"v\", 2)\n",
    "x32 = ParameterVector(\"l\", 1)\n",
    "qc3 = QuantumCircuit(3)\n",
    "qc3.rx(x31[0], 0)\n",
    "qc3.rx(x31[1], 1)\n",
    "qc3.rx(x32[0], 2)\n",
    "qc3.cx(0, 1)\n",
    "qc3.cx(1, 2)\n",
    "\n",
    "qc.convolution(quantum_circuit=qc1, label=\"abi\", alternating=False, share_params=True)\n",
    "qc.pooling(quantum_circuit=qc2, input_list=[[0, 2], [1, 4]], output_list=[[2], [1]])\n",
    "qc.convolution(quantum_circuit=qc3)\n",
    "qc.pooling(measurement=True)\n",
    "qc.fully_connected()\n",
    "qc.draw(\"mpl\")"
   ]
  },
  {
   "cell_type": "markdown",
   "metadata": {},
   "source": [
    "Finally we can build the circuit \"backwards\" by supplying the gates first and then how many qubits should be in the output and you can even continue building from there forward if no fully connected layer is applied. Be careful with adressing the correct qubits when providing in- and output lists."
   ]
  },
  {
   "cell_type": "code",
   "execution_count": null,
   "metadata": {},
   "outputs": [],
   "source": [
    "# build backwards\n",
    "qc = QCNNEncodingCircuit()\n",
    "qc.convolution(alternating=False)\n",
    "qc.pooling()\n",
    "qc.repeat_layers(1)\n",
    "qc.pooling(input_list=[[0, 4]], output_list=[[0]])\n",
    "qc.build_circuit(2)\n",
    "# continue forwards\n",
    "qc.pooling()\n",
    "qc.fully_connected()\n",
    "qc.draw(\"mpl\")"
   ]
  },
  {
   "cell_type": "markdown",
   "metadata": {},
   "source": [
    "The fitting default observable for the circuit can be extracted once finished with building the circuit. Notice that the observable \"IIIIIZ\" corresponds to only measuring the first qubit \"q0\"."
   ]
  },
  {
   "cell_type": "code",
   "execution_count": null,
   "metadata": {},
   "outputs": [],
   "source": [
    "obs = qc.QCNNObservable(obs=\"X\")\n",
    "print(obs)"
   ]
  },
  {
   "cell_type": "markdown",
   "metadata": {},
   "source": [
    "Alternatively one can provide an Observable for the left qubits which then is mapped onto all qubits."
   ]
  },
  {
   "cell_type": "code",
   "execution_count": null,
   "metadata": {},
   "outputs": [],
   "source": [
    "qc = QCNNEncodingCircuit(4)\n",
    "qc.convolution()\n",
    "qc.pooling()\n",
    "qc.fully_connected()\n",
    "obs = CustomObservable(2, [\"XY\", \"ZZ\", \"ZI\", \"IY\"])\n",
    "qc.QCNNObservable(obs)"
   ]
  },
  {
   "cell_type": "markdown",
   "metadata": {},
   "source": [
    "In the following we creat training and test data for a very simple regression problem. This example is supposed to show how to properly work with this encoding circuit in the sQUlearn environment."
   ]
  },
  {
   "cell_type": "code",
   "execution_count": null,
   "metadata": {},
   "outputs": [],
   "source": [
    "# Data that is inputted to the QNN\n",
    "X = np.arange(-0.5, 0.6, 0.1).reshape(-1, 1)\n",
    "# Data that is fitted by the QNN\n",
    "y = np.square(X).ravel()\n",
    "\n",
    "X_train, X_test, y_train, y_test = train_test_split(X, y, test_size=0.3, random_state=44)"
   ]
  },
  {
   "cell_type": "markdown",
   "metadata": {},
   "source": [
    "Next the encoding circuit and observable are build."
   ]
  },
  {
   "cell_type": "code",
   "execution_count": null,
   "metadata": {},
   "outputs": [],
   "source": [
    "qc = QCNNEncodingCircuit(4, 1)\n",
    "qc.convolution()\n",
    "qc.pooling(measurement=True)\n",
    "qc.repeat_layers()\n",
    "qc.fully_connected()\n",
    "\n",
    "obs = qc.QCNNObservable()\n",
    "print(obs)\n",
    "qc.draw(\"mpl\")"
   ]
  },
  {
   "cell_type": "markdown",
   "metadata": {},
   "source": [
    "Now we can set up the Regressor and train it."
   ]
  },
  {
   "cell_type": "code",
   "execution_count": null,
   "metadata": {},
   "outputs": [],
   "source": [
    "qnn = QNNRegressor(\n",
    "    qc,\n",
    "    obs,\n",
    "    Executor(\"pennylane\"),\n",
    "    SquaredLoss(),\n",
    "    Adam(options={}),\n",
    ")\n",
    "qnn.fit(X_train, y_train)"
   ]
  },
  {
   "cell_type": "markdown",
   "metadata": {},
   "source": [
    "Finally we can plot the results of the regression."
   ]
  },
  {
   "cell_type": "code",
   "execution_count": null,
   "metadata": {},
   "outputs": [],
   "source": [
    "# ouput optimal parameters\n",
    "print(\"Optimal gate parameters:\")\n",
    "print(\"[\")\n",
    "for i in qnn.param:\n",
    "    print(str(i) + \",\")\n",
    "print(\"]\")\n",
    "print(\"--------------\")\n",
    "print(\"Optimal observable parameters:\")\n",
    "print(\"[\")\n",
    "for i in qnn.param_op:\n",
    "    print(str(i) + \",\")\n",
    "print(\"]\")\n",
    "\n",
    "y_train_predict = qnn.predict(X_train)\n",
    "y_test_predict = qnn.predict(X_test)\n",
    "\n",
    "fig, ax = plt.subplots(1, 1, figsize=(5, 5))\n",
    "ax.set_title(\"Square function fit\")\n",
    "ax.plot(X, y, label=\"Goal_function\", linestyle=\"dashed\", color=\"black\")\n",
    "ax.plot(X_train, y_train_predict, label=\"training predictions\", marker=\"x\", linestyle=\"None\")\n",
    "ax.plot(X_test, y_test_predict, label=\"test predictions\", marker=\"x\", linestyle=\"None\")\n",
    "ax.set(xlabel=\"X\", ylabel=\"y\")\n",
    "ax.legend()\n",
    "\n",
    "sigma_train = np.sqrt(np.sum(np.square(y_train_predict - y_train)))\n",
    "sigma_test = np.sqrt(np.sum(np.square(y_test_predict - y_test)))\n",
    "print(\"sigma train: \", sigma_train, \", sigma test: \", sigma_test)"
   ]
  },
  {
   "cell_type": "markdown",
   "metadata": {},
   "source": [
    "In the following a classification example is shown. Firstly, data is generated from the sklearn `make_moons` dataset."
   ]
  },
  {
   "cell_type": "code",
   "execution_count": null,
   "metadata": {},
   "outputs": [],
   "source": [
    "X, y = make_moons(noise=0.3, random_state=1, n_samples=100)\n",
    "X_train, X_test, y_train, y_test = train_test_split(X, y, test_size=0.7, random_state=0)\n",
    "\n",
    "plt.scatter(\n",
    "    [X[i][0] for i in range(len(y)) if y[i] == 1],\n",
    "    [X[i][1] for i in range(len(y)) if y[i] == 1],\n",
    "    label=\"1\",\n",
    ")\n",
    "plt.scatter(\n",
    "    [X[i][0] for i in range(len(y)) if y[i] == 0],\n",
    "    [X[i][1] for i in range(len(y)) if y[i] == 0],\n",
    "    label=\"0\",\n",
    ")\n",
    "plt.legend()\n",
    "plt.show()"
   ]
  },
  {
   "cell_type": "markdown",
   "metadata": {},
   "source": [
    "Then we instantiate the QCNN encoding circuit, the Observable and the Classifier."
   ]
  },
  {
   "cell_type": "code",
   "execution_count": null,
   "metadata": {},
   "outputs": [],
   "source": [
    "qc = QCNNEncodingCircuit(4, 2)\n",
    "qc.convolution()\n",
    "qc.pooling(measurement=True)\n",
    "qc.repeat_layers()\n",
    "qc.fully_connected()\n",
    "\n",
    "obs = qc.QCNNObservable()\n",
    "\n",
    "qnn = QNNClassifier(qc, obs, Executor(), SquaredLoss(), Adam())\n",
    "print(obs)\n",
    "qc.draw(\"mpl\")"
   ]
  },
  {
   "cell_type": "markdown",
   "metadata": {},
   "source": [
    "Finally we train and predict the model."
   ]
  },
  {
   "cell_type": "code",
   "execution_count": null,
   "metadata": {},
   "outputs": [],
   "source": [
    "# Train the model\n",
    "qnn.fit(X_train, y_train)\n",
    "\n",
    "# Data for testing the trained model\n",
    "print(\"Training score:\", qnn.score(X_train, y_train))\n",
    "print(\"Testing score:\", qnn.score(X_test, y_test))"
   ]
  },
  {
   "cell_type": "markdown",
   "metadata": {},
   "source": [
    "The decission surface of the QCNN for the two moons problem is shown."
   ]
  },
  {
   "cell_type": "code",
   "execution_count": null,
   "metadata": {},
   "outputs": [],
   "source": [
    "X_new = []\n",
    "for i in range(-20, 21):\n",
    "    for j in range(-10, 16):\n",
    "        X_new.append([i / 10, j / 10])\n",
    "y_pred = qnn.predict(X_new)\n",
    "plt.scatter(\n",
    "    [X_new[i][0] for i in range(len(y_pred)) if y_pred[i] == 1],\n",
    "    [X_new[i][1] for i in range(len(y_pred)) if y_pred[i] == 1],\n",
    "    label=\"1\",\n",
    ")\n",
    "plt.scatter(\n",
    "    [X_new[i][0] for i in range(len(y_pred)) if y_pred[i] == 0],\n",
    "    [X_new[i][1] for i in range(len(y_pred)) if y_pred[i] == 0],\n",
    "    label=\"0\",\n",
    ")\n",
    "plt.legend()\n",
    "plt.show()"
   ]
  }
 ],
 "metadata": {
  "kernelspec": {
   "display_name": "Python 3",
   "language": "python",
   "name": "python3"
  },
  "language_info": {
   "codemirror_mode": {
    "name": "ipython",
    "version": 3
   },
   "file_extension": ".py",
   "mimetype": "text/x-python",
   "name": "python",
   "nbconvert_exporter": "python",
   "pygments_lexer": "ipython3",
   "version": "3.9.13"
  }
 },
 "nbformat": 4,
 "nbformat_minor": 2
}
