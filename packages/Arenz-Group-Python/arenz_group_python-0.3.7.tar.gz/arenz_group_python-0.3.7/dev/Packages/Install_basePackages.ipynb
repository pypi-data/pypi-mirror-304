{
 "cells": [
  {
   "cell_type": "markdown",
   "metadata": {},
   "source": [
    "# Install Common Packages\n",
    "Run this notebook to install most common packages to a python kernal.\n",
    "\n",
    "Start by placing this file in the root of a project. \n",
    "If you are using vscode, create a new venv, before starting. \n",
    "\n",
    "### Conda env\n",
    "if you are using a conda venv, you might get an error message: \n",
    "\n",
    "\"Running cells with '.conda (Python 3.11.9)' requires the ipykernel package.....\"\n",
    "\n",
    "then open the terminal (View menu and then select terminal)\n",
    "and then run the code suggested code:. \n",
    "Remember to add \" \" around the path to the venv.\n",
    "\n",
    "'conda install -p \"\\<long Path\\>\\\\.conda\" ipykernel --update-deps --force-reinstall'"
   ]
  },
  {
   "cell_type": "code",
   "execution_count": 2,
   "metadata": {},
   "outputs": [
    {
     "name": "stdout",
     "output_type": "stream",
     "text": [
      "\"c:\\Users\\gusta\\Documents\\GitHub\\Arenz_Group_Python\\.venv\\Scripts\\python.exe\"\n"
     ]
    }
   ],
   "source": [
    "import sys\n",
    "path_to_executable = \"\\\"\" + str(sys.executable) +  \"\\\"\"\n",
    "print(path_to_executable)"
   ]
  },
  {
   "cell_type": "markdown",
   "metadata": {},
   "source": []
  },
  {
   "cell_type": "code",
   "execution_count": 3,
   "metadata": {},
   "outputs": [
    {
     "name": "stdout",
     "output_type": "stream",
     "text": [
      "Requirement already satisfied: numpy in c:\\users\\gusta\\documents\\github\\arenz_group_python\\.venv\\lib\\site-packages (2.0.1)\n",
      "Requirement already satisfied: pandas in c:\\users\\gusta\\documents\\github\\arenz_group_python\\.venv\\lib\\site-packages (2.2.2)\n",
      "Requirement already satisfied: numpy>=1.26.0 in c:\\users\\gusta\\documents\\github\\arenz_group_python\\.venv\\lib\\site-packages (from pandas) (2.0.1)\n",
      "Requirement already satisfied: python-dateutil>=2.8.2 in c:\\users\\gusta\\documents\\github\\arenz_group_python\\.venv\\lib\\site-packages (from pandas) (2.9.0.post0)\n",
      "Requirement already satisfied: pytz>=2020.1 in c:\\users\\gusta\\documents\\github\\arenz_group_python\\.venv\\lib\\site-packages (from pandas) (2024.1)\n",
      "Requirement already satisfied: tzdata>=2022.7 in c:\\users\\gusta\\documents\\github\\arenz_group_python\\.venv\\lib\\site-packages (from pandas) (2024.1)\n",
      "Requirement already satisfied: six>=1.5 in c:\\users\\gusta\\documents\\github\\arenz_group_python\\.venv\\lib\\site-packages (from python-dateutil>=2.8.2->pandas) (1.16.0)\n",
      "Requirement already satisfied: nptdms in c:\\users\\gusta\\documents\\github\\arenz_group_python\\.venv\\lib\\site-packages (1.9.0)\n",
      "Requirement already satisfied: numpy in c:\\users\\gusta\\documents\\github\\arenz_group_python\\.venv\\lib\\site-packages (from nptdms) (2.0.1)\n",
      "Requirement already satisfied: matplotlib in c:\\users\\gusta\\documents\\github\\arenz_group_python\\.venv\\lib\\site-packages (3.9.1.post1)\n",
      "Requirement already satisfied: contourpy>=1.0.1 in c:\\users\\gusta\\documents\\github\\arenz_group_python\\.venv\\lib\\site-packages (from matplotlib) (1.2.1)\n",
      "Requirement already satisfied: cycler>=0.10 in c:\\users\\gusta\\documents\\github\\arenz_group_python\\.venv\\lib\\site-packages (from matplotlib) (0.12.1)\n",
      "Requirement already satisfied: fonttools>=4.22.0 in c:\\users\\gusta\\documents\\github\\arenz_group_python\\.venv\\lib\\site-packages (from matplotlib) (4.53.1)\n",
      "Requirement already satisfied: kiwisolver>=1.3.1 in c:\\users\\gusta\\documents\\github\\arenz_group_python\\.venv\\lib\\site-packages (from matplotlib) (1.4.5)\n",
      "Requirement already satisfied: numpy>=1.23 in c:\\users\\gusta\\documents\\github\\arenz_group_python\\.venv\\lib\\site-packages (from matplotlib) (2.0.1)\n",
      "Requirement already satisfied: packaging>=20.0 in c:\\users\\gusta\\documents\\github\\arenz_group_python\\.venv\\lib\\site-packages (from matplotlib) (24.1)\n",
      "Requirement already satisfied: pillow>=8 in c:\\users\\gusta\\documents\\github\\arenz_group_python\\.venv\\lib\\site-packages (from matplotlib) (10.4.0)\n",
      "Requirement already satisfied: pyparsing>=2.3.1 in c:\\users\\gusta\\documents\\github\\arenz_group_python\\.venv\\lib\\site-packages (from matplotlib) (3.1.2)\n",
      "Requirement already satisfied: python-dateutil>=2.7 in c:\\users\\gusta\\documents\\github\\arenz_group_python\\.venv\\lib\\site-packages (from matplotlib) (2.9.0.post0)\n",
      "Requirement already satisfied: six>=1.5 in c:\\users\\gusta\\documents\\github\\arenz_group_python\\.venv\\lib\\site-packages (from python-dateutil>=2.7->matplotlib) (1.16.0)\n",
      "Requirement already satisfied: pathlib in c:\\users\\gusta\\documents\\github\\arenz_group_python\\.venv\\lib\\site-packages (1.0.1)\n",
      "Requirement already satisfied: scipy in c:\\users\\gusta\\documents\\github\\arenz_group_python\\.venv\\lib\\site-packages (1.14.0)\n",
      "Requirement already satisfied: numpy<2.3,>=1.23.5 in c:\\users\\gusta\\documents\\github\\arenz_group_python\\.venv\\lib\\site-packages (from scipy) (2.0.1)\n"
     ]
    }
   ],
   "source": [
    "#req_packages = [\"pandas\",\"numpy\",\"nptdms\",\"matplotlib\",\"pathlib\"]\n",
    "\n",
    "!{path_to_executable} -m pip install numpy\n",
    "!{path_to_executable} -m pip install pandas\n",
    "!{path_to_executable} -m pip install nptdms\n",
    "!{path_to_executable} -m pip install matplotlib\n",
    "!{path_to_executable} -m pip install pathlib\n",
    "!{path_to_executable} -m pip install scipy\n",
    "\n"
   ]
  },
  {
   "cell_type": "markdown",
   "metadata": {},
   "source": [
    "Check which modules that are installed:"
   ]
  },
  {
   "cell_type": "code",
   "execution_count": 4,
   "metadata": {},
   "outputs": [
    {
     "name": "stdout",
     "output_type": "stream",
     "text": [
      "\n",
      "Please wait a moment while I gather a list of all available modules...\n",
      "\n",
      "test_sqlite3: testing with SQLite version 3.43.1\n"
     ]
    },
    {
     "name": "stderr",
     "output_type": "stream",
     "text": [
      "c:\\Users\\gusta\\AppData\\Local\\Programs\\Python\\Python312\\Lib\\pkgutil.py:78: UserWarning: The numpy.array_api submodule is still experimental. See NEP 47.\n",
      "  __import__(info.name)\n"
     ]
    },
    {
     "name": "stdout",
     "output_type": "stream",
     "text": [
      "IPython             binascii            math                stat\n",
      "PIL                 bisect              matplotlib          statistics\n",
      "__future__          bleach              matplotlib_inline   string\n",
      "__hello__           bs4                 mimetypes           stringprep\n",
      "__phello__          builtins            mistune             struct\n",
      "_abc                bz2                 mmap                subprocess\n",
      "_aix_support        cProfile            mmapfile            sunau\n",
      "_argon2_cffi_bindings calendar            mmsystem            symtable\n",
      "_ast                certifi             modulefinder        sys\n",
      "_asyncio            cffi                mpl_toolkits        sysconfig\n",
      "_bisect             cgi                 msilib              tabnanny\n",
      "_blake2             cgitb               msvcrt              tarfile\n",
      "_bz2                charset_normalizer  multiprocessing     telnetlib\n",
      "_cffi_backend       chunk               nbclient            tempfile\n",
      "_codecs             cmath               nbconvert           terminado\n",
      "_codecs_cn          cmd                 nbformat            test\n",
      "_codecs_hk          code                nest_asyncio        textwrap\n",
      "_codecs_iso2022     codecs              netbios             this\n",
      "_codecs_jp          codeop              netrc               threading\n",
      "_codecs_kr          collections         nntplib             time\n",
      "_codecs_tw          colorama            notebook            timeit\n",
      "_collections        colorsys            notebook_shim       timer\n",
      "_collections_abc    comm                nptdms              tinycss2\n",
      "_compat_pickle      commctrl            nt                  tkinter\n",
      "_compression        compileall          ntpath              token\n",
      "_contextvars        concurrent          ntsecuritycon       tokenize\n",
      "_csv                configparser        nturl2path          tomllib\n",
      "_ctypes             contextlib          numbers             tornado\n",
      "_ctypes_test        contextvars         numpy               trace\n",
      "_datetime           contourpy           odbc                traceback\n",
      "_decimal            copy                opcode              tracemalloc\n",
      "_elementtree        copyreg             operator            traitlets\n",
      "_functools          crypt               optparse            tty\n",
      "_hashlib            csv                 os                  turtle\n",
      "_heapq              ctypes              overrides           turtledemo\n",
      "_imp                curses              packaging           types\n",
      "_io                 cycler              pandas              typing\n",
      "_json               dataclasses         pandocfilters       tzdata\n",
      "_locale             datetime            parso               unicodedata\n",
      "_lsprof             dateutil            pathlib             unittest\n",
      "_lzma               dbi                 pdb                 uri_template\n",
      "_markupbase         dbm                 perfmon             urllib\n",
      "_md5                dde                 pickle              urllib3\n",
      "_msi                debugpy             pickletools         uu\n",
      "_multibytecodec     decimal             pip                 uuid\n",
      "_multiprocessing    decorator           pipes               venv\n",
      "_opcode             defusedxml          pkgutil             warnings\n",
      "_operator           difflib             platform            wave\n",
      "_osx_support        dis                 platformdirs        wcwidth\n",
      "_overlapped         doctest             plistlib            weakref\n",
      "_pickle             email               poplib              webbrowser\n",
      "_py_abc             encodings           posixpath           webcolors\n",
      "_pydatetime         ensurepip           pprint              webencodings\n",
      "_pydecimal          enum                profile             websocket\n",
      "_pyio               errno               prometheus_client   win2kras\n",
      "_pylong             executing           prompt_toolkit      win32api\n",
      "_queue              fastjsonschema      pstats              win32clipboard\n",
      "_random             faulthandler        psutil              win32com\n",
      "_sha1               filecmp             pty                 win32con\n",
      "_sha2               fileinput           pure_eval           win32console\n",
      "_sha3               fnmatch             py_compile          win32cred\n",
      "_signal             fontTools           py_scripts          win32crypt\n",
      "_sitebuiltins       fqdn                pyclbr              win32cryptcon\n",
      "_socket             fractions           pycparser           win32event\n",
      "_sqlite3            ftplib              pydoc               win32evtlog\n",
      "_sre                functools           pydoc_data          win32evtlogutil\n",
      "_ssl                gc                  pyexpat             win32file\n",
      "_stat               genericpath         pygments            win32gui\n",
      "_statistics         getopt              pylab               win32gui_struct\n",
      "_string             getpass             pyparsing           win32help\n",
      "_strptime           gettext             pythoncom           win32inet\n",
      "_struct             glob                pythonjsonlogger    win32inetcon\n",
      "_symtable           graphlib            pytz                win32job\n",
      "_testbuffer         gzip                pywin               win32lz\n",
      "_testcapi           hashlib             pywin32_bootstrap   win32net\n",
      "_testclinic         heapq               pywin32_testutil    win32netcon\n",
      "_testconsole        hmac                pywintypes          win32pdh\n",
      "_testimportmultiple html                queue               win32pdhquery\n",
      "_testinternalcapi   http                quopri              win32pdhutil\n",
      "_testmultiphase     idlelib             random              win32pipe\n",
      "_testsinglephase    idna                rasutil             win32print\n",
      "_thread             imaplib             re                  win32process\n",
      "_threading_local    imghdr              referencing         win32profile\n",
      "_tkinter            importlib           regcheck            win32ras\n",
      "_tokenize           inspect             regutil             win32rcparser\n",
      "_tracemalloc        io                  reprlib             win32security\n",
      "_typing             ipaddress           requests            win32service\n",
      "_uuid               ipykernel           rfc3339_validator   win32serviceutil\n",
      "_warnings           ipykernel_launcher  rfc3986_validator   win32timezone\n",
      "_weakref            isapi               rlcompleter         win32trace\n",
      "_weakrefset         isoduration         rpds                win32traceutil\n",
      "_win32sysloader     itertools           runpy               win32transaction\n",
      "_winapi             jedi                sched               win32ts\n",
      "_winxptheme         jinja2              scipy               win32ui\n",
      "_wmi                json                secrets             win32uiole\n",
      "_xxinterpchannels   json5               select              win32verstamp\n",
      "_xxsubinterpreters  jsonpointer         selectors           win32wnet\n",
      "_yaml               jsonschema          send2trash          winerror\n",
      "_zoneinfo           jsonschema_specifications servicemanager      winioctlcon\n",
      "abc                 jupyter             shelve              winnt\n",
      "adodbapi            jupyter_client      shlex               winperf\n",
      "afxres              jupyter_core        shutil              winpty\n",
      "aifc                jupyter_events      signal              winreg\n",
      "antigravity         jupyter_lsp         site                winsound\n",
      "anyio               jupyter_server      six                 winxpgui\n",
      "argon2              jupyter_server_terminals smtplib             winxptheme\n",
      "argparse            jupyterlab          sndhdr              wsgiref\n",
      "array               jupyterlab_pygments sniffio             xdrlib\n",
      "arrow               jupyterlab_server   socket              xml\n",
      "ast                 keyword             socketserver        xmlrpc\n",
      "asttokens           kiwisolver          soupsieve           xxsubtype\n",
      "async_lru           lib2to3             sqlite3             yaml\n",
      "asyncio             linecache           sre_compile         zipapp\n",
      "atexit              locale              sre_constants       zipfile\n",
      "attr                logging             sre_parse           zipimport\n",
      "attrs               lzma                ssl                 zlib\n",
      "audioop             mailbox             sspi                zmq\n",
      "babel               mailcap             sspicon             zoneinfo\n",
      "base64              markupsafe          stack_data          \n",
      "bdb                 marshal             start_pythonwin     \n",
      "\n",
      "Enter any module name to get more help.  Or, type \"modules spam\" to search\n",
      "for modules whose name or summary contain the string \"spam\".\n",
      "\n"
     ]
    }
   ],
   "source": [
    "help('modules')"
   ]
  },
  {
   "cell_type": "code",
   "execution_count": 3,
   "metadata": {},
   "outputs": [
    {
     "name": "stdout",
     "output_type": "stream",
     "text": [
      "Collecting pooch\n",
      "  Downloading pooch-1.8.2-py3-none-any.whl.metadata (10 kB)\n",
      "Requirement already satisfied: platformdirs>=2.5.0 in c:\\users\\gusta\\documents\\github\\arenz_group_python\\.venv\\lib\\site-packages (from pooch) (4.2.2)\n",
      "Requirement already satisfied: packaging>=20.0 in c:\\users\\gusta\\documents\\github\\arenz_group_python\\.venv\\lib\\site-packages (from pooch) (24.1)\n",
      "Collecting requests>=2.19.0 (from pooch)\n",
      "  Downloading requests-2.32.3-py3-none-any.whl.metadata (4.6 kB)\n",
      "Collecting charset-normalizer<4,>=2 (from requests>=2.19.0->pooch)\n",
      "  Downloading charset_normalizer-3.3.2-cp311-cp311-win_amd64.whl.metadata (34 kB)\n",
      "Collecting idna<4,>=2.5 (from requests>=2.19.0->pooch)\n",
      "  Downloading idna-3.7-py3-none-any.whl.metadata (9.9 kB)\n",
      "Collecting urllib3<3,>=1.21.1 (from requests>=2.19.0->pooch)\n",
      "  Downloading urllib3-2.2.2-py3-none-any.whl.metadata (6.4 kB)\n",
      "Collecting certifi>=2017.4.17 (from requests>=2.19.0->pooch)\n",
      "  Downloading certifi-2024.7.4-py3-none-any.whl.metadata (2.2 kB)\n",
      "Downloading pooch-1.8.2-py3-none-any.whl (64 kB)\n",
      "   ---------------------------------------- 0.0/64.6 kB ? eta -:--:--\n",
      "   ---------------------------------------- 64.6/64.6 kB 3.4 MB/s eta 0:00:00\n",
      "Downloading requests-2.32.3-py3-none-any.whl (64 kB)\n",
      "   ---------------------------------------- 0.0/64.9 kB ? eta -:--:--\n",
      "   ---------------------------------------- 64.9/64.9 kB 1.8 MB/s eta 0:00:00\n",
      "Downloading certifi-2024.7.4-py3-none-any.whl (162 kB)\n",
      "   ---------------------------------------- 0.0/163.0 kB ? eta -:--:--\n",
      "   ---------------------------------------- 163.0/163.0 kB 3.2 MB/s eta 0:00:00\n",
      "Downloading charset_normalizer-3.3.2-cp311-cp311-win_amd64.whl (99 kB)\n",
      "   ---------------------------------------- 0.0/99.9 kB ? eta -:--:--\n",
      "   ------------------------------------ --- 92.2/99.9 kB ? eta -:--:--\n",
      "   ---------------------------------------- 99.9/99.9 kB 1.9 MB/s eta 0:00:00\n",
      "Downloading idna-3.7-py3-none-any.whl (66 kB)\n",
      "   ---------------------------------------- 0.0/66.8 kB ? eta -:--:--\n",
      "   ---------------------------------------- 66.8/66.8 kB 3.5 MB/s eta 0:00:00\n",
      "Downloading urllib3-2.2.2-py3-none-any.whl (121 kB)\n",
      "   ---------------------------------------- 0.0/121.4 kB ? eta -:--:--\n",
      "   ---------------------------------------- 121.4/121.4 kB 3.6 MB/s eta 0:00:00\n",
      "Installing collected packages: urllib3, idna, charset-normalizer, certifi, requests, pooch\n",
      "Successfully installed certifi-2024.7.4 charset-normalizer-3.3.2 idna-3.7 pooch-1.8.2 requests-2.32.3 urllib3-2.2.2\n"
     ]
    },
    {
     "name": "stderr",
     "output_type": "stream",
     "text": [
      "\n",
      "[notice] A new release of pip is available: 24.1.1 -> 24.1.2\n",
      "[notice] To update, run: python.exe -m pip install --upgrade pip\n"
     ]
    }
   ],
   "source": [
    "!{path_to_executable} -m pip install pooch"
   ]
  }
 ],
 "metadata": {
  "kernelspec": {
   "display_name": "Python 3",
   "language": "python",
   "name": "python3"
  },
  "language_info": {
   "codemirror_mode": {
    "name": "ipython",
    "version": 3
   },
   "file_extension": ".py",
   "mimetype": "text/x-python",
   "name": "python",
   "nbconvert_exporter": "python",
   "pygments_lexer": "ipython3",
   "version": "3.12.1"
  }
 },
 "nbformat": 4,
 "nbformat_minor": 2
}
