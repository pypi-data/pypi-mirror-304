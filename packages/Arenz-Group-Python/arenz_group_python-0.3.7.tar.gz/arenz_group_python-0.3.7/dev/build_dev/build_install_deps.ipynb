{
 "cells": [
  {
   "cell_type": "markdown",
   "metadata": {},
   "source": [
    "# General installation from github\n",
    "pip install \"Package\" @ git+\"URL of the repository#subdirectory=path\"\n",
    "\n",
    "Here, we want to install Arenz_Group Python package."
   ]
  },
  {
   "cell_type": "code",
   "execution_count": 1,
   "metadata": {},
   "outputs": [
    {
     "name": "stdout",
     "output_type": "stream",
     "text": [
      "Requirement already satisfied: pip in c:\\users\\gustav.wiberg\\appdata\\local\\programs\\python\\python311\\lib\\site-packages (24.2)Note: you may need to restart the kernel to use updated packages.\n",
      "\n",
      "Requirement already satisfied: toml in c:\\users\\gustav.wiberg\\appdata\\local\\programs\\python\\python311\\lib\\site-packages (0.10.2)\n",
      "Note: you may need to restart the kernel to use updated packages.\n",
      "Requirement already satisfied: twine in c:\\users\\gustav.wiberg\\appdata\\local\\programs\\python\\python311\\lib\\site-packages (5.1.1)\n",
      "Requirement already satisfied: pkginfo>=1.8.1 in c:\\users\\gustav.wiberg\\appdata\\local\\programs\\python\\python311\\lib\\site-packages (from twine) (1.10.0)\n",
      "Requirement already satisfied: readme-renderer>=35.0 in c:\\users\\gustav.wiberg\\appdata\\local\\programs\\python\\python311\\lib\\site-packages (from twine) (43.0)\n",
      "Requirement already satisfied: requests>=2.20 in c:\\users\\gustav.wiberg\\appdata\\local\\programs\\python\\python311\\lib\\site-packages (from twine) (2.31.0)\n",
      "Requirement already satisfied: requests-toolbelt!=0.9.0,>=0.8.0 in c:\\users\\gustav.wiberg\\appdata\\local\\programs\\python\\python311\\lib\\site-packages (from twine) (1.0.0)\n",
      "Requirement already satisfied: urllib3>=1.26.0 in c:\\users\\gustav.wiberg\\appdata\\local\\programs\\python\\python311\\lib\\site-packages (from twine) (2.0.5)\n",
      "Requirement already satisfied: importlib-metadata>=3.6 in c:\\users\\gustav.wiberg\\appdata\\local\\programs\\python\\python311\\lib\\site-packages (from twine) (8.0.0)\n",
      "Requirement already satisfied: keyring>=15.1 in c:\\users\\gustav.wiberg\\appdata\\local\\programs\\python\\python311\\lib\\site-packages (from twine) (25.2.1)\n",
      "Requirement already satisfied: rfc3986>=1.4.0 in c:\\users\\gustav.wiberg\\appdata\\local\\programs\\python\\python311\\lib\\site-packages (from twine) (2.0.0)\n",
      "Requirement already satisfied: rich>=12.0.0 in c:\\users\\gustav.wiberg\\appdata\\local\\programs\\python\\python311\\lib\\site-packages (from twine) (13.7.1)\n",
      "Requirement already satisfied: zipp>=0.5 in c:\\users\\gustav.wiberg\\appdata\\local\\programs\\python\\python311\\lib\\site-packages (from importlib-metadata>=3.6->twine) (3.19.2)\n",
      "Requirement already satisfied: jaraco.classes in c:\\users\\gustav.wiberg\\appdata\\local\\programs\\python\\python311\\lib\\site-packages (from keyring>=15.1->twine) (3.4.0)\n",
      "Requirement already satisfied: jaraco.functools in c:\\users\\gustav.wiberg\\appdata\\local\\programs\\python\\python311\\lib\\site-packages (from keyring>=15.1->twine) (4.0.1)\n",
      "Requirement already satisfied: jaraco.context in c:\\users\\gustav.wiberg\\appdata\\local\\programs\\python\\python311\\lib\\site-packages (from keyring>=15.1->twine) (5.3.0)\n",
      "Requirement already satisfied: pywin32-ctypes>=0.2.0 in c:\\users\\gustav.wiberg\\appdata\\local\\programs\\python\\python311\\lib\\site-packages (from keyring>=15.1->twine) (0.2.2)\n",
      "Requirement already satisfied: nh3>=0.2.14 in c:\\users\\gustav.wiberg\\appdata\\local\\programs\\python\\python311\\lib\\site-packages (from readme-renderer>=35.0->twine) (0.2.17)\n",
      "Requirement already satisfied: docutils>=0.13.1 in c:\\users\\gustav.wiberg\\appdata\\local\\programs\\python\\python311\\lib\\site-packages (from readme-renderer>=35.0->twine) (0.21.2)\n",
      "Requirement already satisfied: Pygments>=2.5.1 in c:\\users\\gustav.wiberg\\appdata\\local\\programs\\python\\python311\\lib\\site-packages (from readme-renderer>=35.0->twine) (2.15.1)\n",
      "Requirement already satisfied: charset-normalizer<4,>=2 in c:\\users\\gustav.wiberg\\appdata\\local\\programs\\python\\python311\\lib\\site-packages (from requests>=2.20->twine) (3.2.0)\n",
      "Requirement already satisfied: idna<4,>=2.5 in c:\\users\\gustav.wiberg\\appdata\\local\\programs\\python\\python311\\lib\\site-packages (from requests>=2.20->twine) (3.4)\n",
      "Requirement already satisfied: certifi>=2017.4.17 in c:\\users\\gustav.wiberg\\appdata\\local\\programs\\python\\python311\\lib\\site-packages (from requests>=2.20->twine) (2023.7.22)\n",
      "Requirement already satisfied: markdown-it-py>=2.2.0 in c:\\users\\gustav.wiberg\\appdata\\local\\programs\\python\\python311\\lib\\site-packages (from rich>=12.0.0->twine) (3.0.0)\n",
      "Requirement already satisfied: mdurl~=0.1 in c:\\users\\gustav.wiberg\\appdata\\local\\programs\\python\\python311\\lib\\site-packages (from markdown-it-py>=2.2.0->rich>=12.0.0->twine) (0.1.2)\n",
      "Requirement already satisfied: more-itertools in c:\\users\\gustav.wiberg\\appdata\\local\\programs\\python\\python311\\lib\\site-packages (from jaraco.classes->keyring>=15.1->twine) (10.3.0)\n",
      "Requirement already satisfied: backports.tarfile in c:\\users\\gustav.wiberg\\appdata\\local\\programs\\python\\python311\\lib\\site-packages (from jaraco.context->keyring>=15.1->twine) (1.2.0)\n",
      "Note: you may need to restart the kernel to use updated packages.\n"
     ]
    }
   ],
   "source": [
    "%pip install --upgrade pip\n",
    "%pip install toml\n",
    "%pip install twine"
   ]
  },
  {
   "cell_type": "code",
   "execution_count": 2,
   "metadata": {},
   "outputs": [
    {
     "name": "stdout",
     "output_type": "stream",
     "text": [
      "Requirement already satisfied: twine in c:\\users\\gustav.wiberg\\appdata\\local\\programs\\python\\python311\\lib\\site-packages (5.1.1)\n",
      "Requirement already satisfied: pkginfo>=1.8.1 in c:\\users\\gustav.wiberg\\appdata\\local\\programs\\python\\python311\\lib\\site-packages (from twine) (1.10.0)\n",
      "Requirement already satisfied: readme-renderer>=35.0 in c:\\users\\gustav.wiberg\\appdata\\local\\programs\\python\\python311\\lib\\site-packages (from twine) (43.0)\n",
      "Requirement already satisfied: requests>=2.20 in c:\\users\\gustav.wiberg\\appdata\\local\\programs\\python\\python311\\lib\\site-packages (from twine) (2.31.0)\n",
      "Requirement already satisfied: requests-toolbelt!=0.9.0,>=0.8.0 in c:\\users\\gustav.wiberg\\appdata\\local\\programs\\python\\python311\\lib\\site-packages (from twine) (1.0.0)\n",
      "Requirement already satisfied: urllib3>=1.26.0 in c:\\users\\gustav.wiberg\\appdata\\local\\programs\\python\\python311\\lib\\site-packages (from twine) (2.0.5)\n",
      "Requirement already satisfied: importlib-metadata>=3.6 in c:\\users\\gustav.wiberg\\appdata\\local\\programs\\python\\python311\\lib\\site-packages (from twine) (8.0.0)\n",
      "Requirement already satisfied: keyring>=15.1 in c:\\users\\gustav.wiberg\\appdata\\local\\programs\\python\\python311\\lib\\site-packages (from twine) (25.2.1)\n",
      "Requirement already satisfied: rfc3986>=1.4.0 in c:\\users\\gustav.wiberg\\appdata\\local\\programs\\python\\python311\\lib\\site-packages (from twine) (2.0.0)\n",
      "Requirement already satisfied: rich>=12.0.0 in c:\\users\\gustav.wiberg\\appdata\\local\\programs\\python\\python311\\lib\\site-packages (from twine) (13.7.1)\n",
      "Requirement already satisfied: zipp>=0.5 in c:\\users\\gustav.wiberg\\appdata\\local\\programs\\python\\python311\\lib\\site-packages (from importlib-metadata>=3.6->twine) (3.19.2)\n",
      "Requirement already satisfied: jaraco.classes in c:\\users\\gustav.wiberg\\appdata\\local\\programs\\python\\python311\\lib\\site-packages (from keyring>=15.1->twine) (3.4.0)\n",
      "Requirement already satisfied: jaraco.functools in c:\\users\\gustav.wiberg\\appdata\\local\\programs\\python\\python311\\lib\\site-packages (from keyring>=15.1->twine) (4.0.1)\n",
      "Requirement already satisfied: jaraco.context in c:\\users\\gustav.wiberg\\appdata\\local\\programs\\python\\python311\\lib\\site-packages (from keyring>=15.1->twine) (5.3.0)\n",
      "Requirement already satisfied: pywin32-ctypes>=0.2.0 in c:\\users\\gustav.wiberg\\appdata\\local\\programs\\python\\python311\\lib\\site-packages (from keyring>=15.1->twine) (0.2.2)\n",
      "Requirement already satisfied: nh3>=0.2.14 in c:\\users\\gustav.wiberg\\appdata\\local\\programs\\python\\python311\\lib\\site-packages (from readme-renderer>=35.0->twine) (0.2.17)\n",
      "Requirement already satisfied: docutils>=0.13.1 in c:\\users\\gustav.wiberg\\appdata\\local\\programs\\python\\python311\\lib\\site-packages (from readme-renderer>=35.0->twine) (0.21.2)\n",
      "Requirement already satisfied: Pygments>=2.5.1 in c:\\users\\gustav.wiberg\\appdata\\local\\programs\\python\\python311\\lib\\site-packages (from readme-renderer>=35.0->twine) (2.15.1)\n",
      "Requirement already satisfied: charset-normalizer<4,>=2 in c:\\users\\gustav.wiberg\\appdata\\local\\programs\\python\\python311\\lib\\site-packages (from requests>=2.20->twine) (3.2.0)\n",
      "Requirement already satisfied: idna<4,>=2.5 in c:\\users\\gustav.wiberg\\appdata\\local\\programs\\python\\python311\\lib\\site-packages (from requests>=2.20->twine) (3.4)\n",
      "Requirement already satisfied: certifi>=2017.4.17 in c:\\users\\gustav.wiberg\\appdata\\local\\programs\\python\\python311\\lib\\site-packages (from requests>=2.20->twine) (2023.7.22)\n",
      "Requirement already satisfied: markdown-it-py>=2.2.0 in c:\\users\\gustav.wiberg\\appdata\\local\\programs\\python\\python311\\lib\\site-packages (from rich>=12.0.0->twine) (3.0.0)\n",
      "Requirement already satisfied: mdurl~=0.1 in c:\\users\\gustav.wiberg\\appdata\\local\\programs\\python\\python311\\lib\\site-packages (from markdown-it-py>=2.2.0->rich>=12.0.0->twine) (0.1.2)\n",
      "Requirement already satisfied: more-itertools in c:\\users\\gustav.wiberg\\appdata\\local\\programs\\python\\python311\\lib\\site-packages (from jaraco.classes->keyring>=15.1->twine) (10.3.0)\n",
      "Requirement already satisfied: backports.tarfile in c:\\users\\gustav.wiberg\\appdata\\local\\programs\\python\\python311\\lib\\site-packages (from jaraco.context->keyring>=15.1->twine) (1.2.0)\n",
      "Note: you may need to restart the kernel to use updated packages.\n"
     ]
    }
   ],
   "source": [
    "%pip install twine"
   ]
  }
 ],
 "metadata": {
  "kernelspec": {
   "display_name": "Python 3",
   "language": "python",
   "name": "python3"
  },
  "language_info": {
   "codemirror_mode": {
    "name": "ipython",
    "version": 3
   },
   "file_extension": ".py",
   "mimetype": "text/x-python",
   "name": "python",
   "nbconvert_exporter": "python",
   "pygments_lexer": "ipython3",
   "version": "3.11.5"
  }
 },
 "nbformat": 4,
 "nbformat_minor": 2
}
