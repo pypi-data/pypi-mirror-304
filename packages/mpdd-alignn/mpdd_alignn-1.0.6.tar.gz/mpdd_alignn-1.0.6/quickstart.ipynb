{
 "cells": [
  {
   "cell_type": "markdown",
   "metadata": {},
   "source": [
    "# MPDD - ALIGNN Quick Start"
   ]
  },
  {
   "cell_type": "markdown",
   "metadata": {},
   "source": [
    "Import just like you would with normal ALIGNN"
   ]
  },
  {
   "cell_type": "code",
   "execution_count": 8,
   "metadata": {},
   "outputs": [],
   "source": [
    "from alignn import pretrained"
   ]
  },
  {
   "cell_type": "markdown",
   "metadata": {},
   "source": [
    "A super fast model downloader :) Fetches everything you have defined in `alignn/config.yaml`"
   ]
  },
  {
   "cell_type": "code",
   "execution_count": 2,
   "metadata": {},
   "outputs": [
    {
     "name": "stderr",
     "output_type": "stream",
     "text": [
      "  0%|          | 0/7 [00:00<?, ?it/s]"
     ]
    },
    {
     "name": "stdout",
     "output_type": "stream",
     "text": [
      "Downloading ALIGNN-JARVIS MBJ Bandgap [eV] from https://figshare.com/ndownloader/files/31458694 to jv_mbj_bandgap_alignn.zipDownloading ALIGNN-JARVIS Shear Modulus [GPa] from https://figshare.com/ndownloader/files/31458724 to jv_shear_modulus_gv_alignn.zipModel jv_formation_energy_peratom_alignn.zip already exists at jv_formation_energy_peratom_alignn.zipDownloading ALIGNN-JARVIS Bulk Modulus [GPa] from https://figshare.com/ndownloader/files/31458649 to jv_bulk_modulus_kv_alignn.zip\n",
      "\n",
      "Downloading ALIGNN-MP Formation Energy [eV/atom] from https://figshare.com/ndownloader/files/31458811 to mp_e_form_alignn.zip\n",
      "\n",
      "Downloading ALIGNN-JARVIS Exfoliation Energy [meV/atom] from https://figshare.com/ndownloader/files/31458676 to jv_exfoliation_energy_alignn.zipDownloading ALIGNN-MP PBE Bandgap [eV] from https://figshare.com/ndownloader/files/31458814 to mp_gappbe_alignn.zip\n",
      "\n",
      "\n",
      "--> jv_exfoliation_energy_alignn.zip download complete!\n",
      "--> jv_mbj_bandgap_alignn.zip download complete!\n"
     ]
    },
    {
     "name": "stderr",
     "output_type": "stream",
     "text": [
      " 29%|██▊       | 2/7 [00:04<00:11,  2.37s/it]"
     ]
    },
    {
     "name": "stdout",
     "output_type": "stream",
     "text": [
      "--> mp_e_form_alignn.zip download complete!--> mp_gappbe_alignn.zip download complete!\n",
      "\n",
      "--> jv_shear_modulus_gv_alignn.zip download complete!\n"
     ]
    },
    {
     "name": "stderr",
     "output_type": "stream",
     "text": [
      " 43%|████▎     | 3/7 [00:05<00:06,  1.68s/it]"
     ]
    },
    {
     "name": "stdout",
     "output_type": "stream",
     "text": [
      "--> jv_bulk_modulus_kv_alignn.zip download complete!\n"
     ]
    },
    {
     "name": "stderr",
     "output_type": "stream",
     "text": [
      "100%|██████████| 7/7 [00:06<00:00,  1.08it/s]"
     ]
    },
    {
     "name": "stdout",
     "output_type": "stream",
     "text": [
      "All models downloaded in 6.64 seconds\n"
     ]
    },
    {
     "name": "stderr",
     "output_type": "stream",
     "text": [
      "\n"
     ]
    }
   ],
   "source": [
    "pretrained.download_default_models()"
   ]
  },
  {
   "cell_type": "markdown",
   "metadata": {},
   "source": [
    "One stop solution for running the default models. Just give it a directory with `POSCAR`s, `CIF`s, or a mix of them. Let us know if you need anything else to work here!"
   ]
  },
  {
   "cell_type": "code",
   "execution_count": 5,
   "metadata": {},
   "outputs": [
    {
     "name": "stderr",
     "output_type": "stream",
     "text": [
      "100%|██████████| 31/31 [00:01<00:00, 24.26it/s]\n"
     ]
    }
   ],
   "source": [
    "result = pretrained.run_models_from_directory('example.SigmaPhase', mode='serial')"
   ]
  },
  {
   "cell_type": "code",
   "execution_count": 7,
   "metadata": {},
   "outputs": [
    {
     "name": "stdout",
     "output_type": "stream",
     "text": [
      "[{'ALIGNN-JARVIS Bulk Modulus [GPa]': 98.06883239746094,\n",
      "  'ALIGNN-JARVIS Exfoliation Energy [meV/atom]': 101.71208190917969,\n",
      "  'ALIGNN-JARVIS Formation Energy [eV/atom]': -1.1146986484527588,\n",
      "  'ALIGNN-JARVIS MBJ Bandgap [eV]': 0.5845542550086975,\n",
      "  'ALIGNN-JARVIS Shear Modulus [GPa]': 39.18968963623047,\n",
      "  'ALIGNN-MP Formation Energy [eV/atom]': -1.4002774953842163,\n",
      "  'ALIGNN-MP PBE Bandgap [eV]': 1.074204921722412,\n",
      "  'name': '9-Pb8O12.POSCAR'},\n",
      " {'ALIGNN-JARVIS Bulk Modulus [GPa]': 194.2947540283203,\n",
      "  'ALIGNN-JARVIS Exfoliation Energy [meV/atom]': 362.1310729980469,\n",
      "  'ALIGNN-JARVIS Formation Energy [eV/atom]': 0.010236039757728577,\n",
      "  'ALIGNN-JARVIS MBJ Bandgap [eV]': 0.0064897798001766205,\n",
      "  'ALIGNN-JARVIS Shear Modulus [GPa]': 85.74588775634766,\n",
      "  'ALIGNN-MP Formation Energy [eV/atom]': -0.018119990825653076,\n",
      "  'ALIGNN-MP PBE Bandgap [eV]': -0.00551827996969223,\n",
      "  'name': '19-Fe4Ni26.POSCAR'},\n",
      " {'ALIGNN-JARVIS Bulk Modulus [GPa]': 185.35687255859375,\n",
      "  'ALIGNN-JARVIS Exfoliation Energy [meV/atom]': 379.46417236328125,\n",
      "  'ALIGNN-JARVIS Formation Energy [eV/atom]': 0.10529126971960068,\n",
      "  'ALIGNN-JARVIS MBJ Bandgap [eV]': 0.010919943451881409,\n",
      "  'ALIGNN-JARVIS Shear Modulus [GPa]': 61.985958099365234,\n",
      "  'ALIGNN-MP Formation Energy [eV/atom]': 0.04669386148452759,\n",
      "  'ALIGNN-MP PBE Bandgap [eV]': 0.015308607369661331,\n",
      "  'name': '28-Fe26Ni4.POSCAR'},\n",
      " {'ALIGNN-JARVIS Bulk Modulus [GPa]': 234.0674285888672,\n",
      "  'ALIGNN-JARVIS Exfoliation Energy [meV/atom]': 373.3184814453125,\n",
      "  'ALIGNN-JARVIS Formation Energy [eV/atom]': 0.13214990496635437,\n",
      "  'ALIGNN-JARVIS MBJ Bandgap [eV]': -0.0014825761318206787,\n",
      "  'ALIGNN-JARVIS Shear Modulus [GPa]': 96.09446716308594,\n",
      "  'ALIGNN-MP Formation Energy [eV/atom]': 0.09219582378864288,\n",
      "  'ALIGNN-MP PBE Bandgap [eV]': 0.01171695813536644,\n",
      "  'name': '1-Cr16Fe8Ni6.POSCAR'},\n",
      " {'ALIGNN-JARVIS Bulk Modulus [GPa]': 122.13072967529297,\n",
      "  'ALIGNN-JARVIS Exfoliation Energy [meV/atom]': 186.46778869628906,\n",
      "  'ALIGNN-JARVIS Formation Energy [eV/atom]': -3.2522809505462646,\n",
      "  'ALIGNN-JARVIS MBJ Bandgap [eV]': 3.4162704944610596,\n",
      "  'ALIGNN-JARVIS Shear Modulus [GPa]': 56.234954833984375,\n",
      "  'ALIGNN-MP Formation Energy [eV/atom]': -3.2983105182647705,\n",
      "  'ALIGNN-MP PBE Bandgap [eV]': 2.202829599380493,\n",
      "  'name': '10-Ce4Ti4O12.POSCAR'},\n",
      " {'ALIGNN-JARVIS Bulk Modulus [GPa]': 257.4764099121094,\n",
      "  'ALIGNN-JARVIS Exfoliation Energy [meV/atom]': 400.15484619140625,\n",
      "  'ALIGNN-JARVIS Formation Energy [eV/atom]': 0.10882791131734848,\n",
      "  'ALIGNN-JARVIS MBJ Bandgap [eV]': -0.0043916404247283936,\n",
      "  'ALIGNN-JARVIS Shear Modulus [GPa]': 115.88262939453125,\n",
      "  'ALIGNN-MP Formation Energy [eV/atom]': 0.1010490357875824,\n",
      "  'ALIGNN-MP PBE Bandgap [eV]': 0.0014714300632476807,\n",
      "  'name': '5-Cr22Fe8.POSCAR'},\n",
      " {'ALIGNN-JARVIS Bulk Modulus [GPa]': 197.01170349121094,\n",
      "  'ALIGNN-JARVIS Exfoliation Energy [meV/atom]': 357.3377380371094,\n",
      "  'ALIGNN-JARVIS Formation Energy [eV/atom]': 0.04084288328886032,\n",
      "  'ALIGNN-JARVIS MBJ Bandgap [eV]': 0.005857016891241074,\n",
      "  'ALIGNN-JARVIS Shear Modulus [GPa]': 76.6587142944336,\n",
      "  'ALIGNN-MP Formation Energy [eV/atom]': -0.002361118793487549,\n",
      "  'ALIGNN-MP PBE Bandgap [eV]': 0.002365708351135254,\n",
      "  'name': '6-Fe2Ni28.POSCAR'},\n",
      " {'ALIGNN-JARVIS Bulk Modulus [GPa]': 263.859130859375,\n",
      "  'ALIGNN-JARVIS Exfoliation Energy [meV/atom]': 391.7623596191406,\n",
      "  'ALIGNN-JARVIS Formation Energy [eV/atom]': 0.07557544857263565,\n",
      "  'ALIGNN-JARVIS MBJ Bandgap [eV]': 0.006890818476676941,\n",
      "  'ALIGNN-JARVIS Shear Modulus [GPa]': 139.5233154296875,\n",
      "  'ALIGNN-MP Formation Energy [eV/atom]': 0.0963982343673706,\n",
      "  'ALIGNN-MP PBE Bandgap [eV]': 0.00218205526471138,\n",
      "  'name': '27-Cr28Fe2.POSCAR'},\n",
      " {'ALIGNN-JARVIS Bulk Modulus [GPa]': 131.72328186035156,\n",
      "  'ALIGNN-JARVIS Exfoliation Energy [meV/atom]': 85.48983001708984,\n",
      "  'ALIGNN-JARVIS Formation Energy [eV/atom]': -2.661802053451538,\n",
      "  'ALIGNN-JARVIS MBJ Bandgap [eV]': 5.407915115356445,\n",
      "  'ALIGNN-JARVIS Shear Modulus [GPa]': 50.669166564941406,\n",
      "  'ALIGNN-MP Formation Energy [eV/atom]': -2.8935062885284424,\n",
      "  'ALIGNN-MP PBE Bandgap [eV]': 2.086404323577881,\n",
      "  'name': '17-Pr4Ga4O12.POSCAR'},\n",
      " {'ALIGNN-JARVIS Bulk Modulus [GPa]': 224.43115234375,\n",
      "  'ALIGNN-JARVIS Exfoliation Energy [meV/atom]': 367.8804016113281,\n",
      "  'ALIGNN-JARVIS Formation Energy [eV/atom]': 0.12028054147958755,\n",
      "  'ALIGNN-JARVIS MBJ Bandgap [eV]': 0.008764389902353287,\n",
      "  'ALIGNN-JARVIS Shear Modulus [GPa]': 93.543212890625,\n",
      "  'ALIGNN-MP Formation Energy [eV/atom]': 0.0836336761713028,\n",
      "  'ALIGNN-MP PBE Bandgap [eV]': 0.010230571031570435,\n",
      "  'name': '0-Cr8Fe18Ni4.POSCAR'},\n",
      " {'ALIGNN-JARVIS Bulk Modulus [GPa]': 257.3710632324219,\n",
      "  'ALIGNN-JARVIS Exfoliation Energy [meV/atom]': 401.24310302734375,\n",
      "  'ALIGNN-JARVIS Formation Energy [eV/atom]': 0.06932880729436874,\n",
      "  'ALIGNN-JARVIS MBJ Bandgap [eV]': -0.002542193979024887,\n",
      "  'ALIGNN-JARVIS Shear Modulus [GPa]': 109.84691619873047,\n",
      "  'ALIGNN-MP Formation Energy [eV/atom]': 0.10490888357162476,\n",
      "  'ALIGNN-MP PBE Bandgap [eV]': 0.006061721593141556,\n",
      "  'name': '7-Cr18Fe12.POSCAR'},\n",
      " {'ALIGNN-JARVIS Bulk Modulus [GPa]': 189.2239990234375,\n",
      "  'ALIGNN-JARVIS Exfoliation Energy [meV/atom]': 373.14013671875,\n",
      "  'ALIGNN-JARVIS Formation Energy [eV/atom]': 0.004162430763244629,\n",
      "  'ALIGNN-JARVIS MBJ Bandgap [eV]': 0.026178952306509018,\n",
      "  'ALIGNN-JARVIS Shear Modulus [GPa]': 87.89993286132812,\n",
      "  'ALIGNN-MP Formation Energy [eV/atom]': -0.025119632482528687,\n",
      "  'ALIGNN-MP PBE Bandgap [eV]': -0.0013977140188217163,\n",
      "  'name': '23-Fe12Ni18.POSCAR'},\n",
      " {'ALIGNN-JARVIS Bulk Modulus [GPa]': 186.44236755371094,\n",
      "  'ALIGNN-JARVIS Exfoliation Energy [meV/atom]': 370.05535888671875,\n",
      "  'ALIGNN-JARVIS Formation Energy [eV/atom]': 0.03316178917884827,\n",
      "  'ALIGNN-JARVIS MBJ Bandgap [eV]': 0.005442231893539429,\n",
      "  'ALIGNN-JARVIS Shear Modulus [GPa]': 91.45033264160156,\n",
      "  'ALIGNN-MP Formation Energy [eV/atom]': -0.03663451224565506,\n",
      "  'ALIGNN-MP PBE Bandgap [eV]': -0.003695908933877945,\n",
      "  'name': '25-Fe12Ni18.POSCAR'},\n",
      " {'ALIGNN-JARVIS Bulk Modulus [GPa]': 203.0026397705078,\n",
      "  'ALIGNN-JARVIS Exfoliation Energy [meV/atom]': 227.8425750732422,\n",
      "  'ALIGNN-JARVIS Formation Energy [eV/atom]': -2.380082607269287,\n",
      "  'ALIGNN-JARVIS MBJ Bandgap [eV]': 1.1166855096817017,\n",
      "  'ALIGNN-JARVIS Shear Modulus [GPa]': 113.10383605957031,\n",
      "  'ALIGNN-MP Formation Energy [eV/atom]': -2.622856855392456,\n",
      "  'ALIGNN-MP PBE Bandgap [eV]': 0.6514115333557129,\n",
      "  'name': '15-Ta4Tl4O12.POSCAR'},\n",
      " {'ALIGNN-JARVIS Bulk Modulus [GPa]': 192.04373168945312,\n",
      "  'ALIGNN-JARVIS Exfoliation Energy [meV/atom]': 364.0467224121094,\n",
      "  'ALIGNN-JARVIS Formation Energy [eV/atom]': 0.011732764542102814,\n",
      "  'ALIGNN-JARVIS MBJ Bandgap [eV]': 0.005051787942647934,\n",
      "  'ALIGNN-JARVIS Shear Modulus [GPa]': 84.27455139160156,\n",
      "  'ALIGNN-MP Formation Energy [eV/atom]': -0.047705985605716705,\n",
      "  'ALIGNN-MP PBE Bandgap [eV]': 0.00034923478960990906,\n",
      "  'name': '21-Fe10Ni20.POSCAR'},\n",
      " {'ALIGNN-JARVIS Bulk Modulus [GPa]': 184.01528930664062,\n",
      "  'ALIGNN-JARVIS Exfoliation Energy [meV/atom]': 352.73626708984375,\n",
      "  'ALIGNN-JARVIS Formation Energy [eV/atom]': 0.028103165328502655,\n",
      "  'ALIGNN-JARVIS MBJ Bandgap [eV]': 0.01898057386279106,\n",
      "  'ALIGNN-JARVIS Shear Modulus [GPa]': 74.85338592529297,\n",
      "  'ALIGNN-MP Formation Energy [eV/atom]': -0.04587193578481674,\n",
      "  'ALIGNN-MP PBE Bandgap [eV]': 0.015910614281892776,\n",
      "  'name': '22-Fe10Ni20.POSCAR'},\n",
      " {'ALIGNN-JARVIS Bulk Modulus [GPa]': 188.62057495117188,\n",
      "  'ALIGNN-JARVIS Exfoliation Energy [meV/atom]': 357.64666748046875,\n",
      "  'ALIGNN-JARVIS Formation Energy [eV/atom]': 0.04133469611406326,\n",
      "  'ALIGNN-JARVIS MBJ Bandgap [eV]': 0.02276000753045082,\n",
      "  'ALIGNN-JARVIS Shear Modulus [GPa]': 88.45756530761719,\n",
      "  'ALIGNN-MP Formation Energy [eV/atom]': -0.026765406131744385,\n",
      "  'ALIGNN-MP PBE Bandgap [eV]': 0.009908035397529602,\n",
      "  'name': '11-Fe10Ni20.POSCAR'},\n",
      " {'ALIGNN-JARVIS Bulk Modulus [GPa]': 191.39862060546875,\n",
      "  'ALIGNN-JARVIS Exfoliation Energy [meV/atom]': 376.3780517578125,\n",
      "  'ALIGNN-JARVIS Formation Energy [eV/atom]': 0.06590373069047928,\n",
      "  'ALIGNN-JARVIS MBJ Bandgap [eV]': 0.013151463121175766,\n",
      "  'ALIGNN-JARVIS Shear Modulus [GPa]': 91.4841079711914,\n",
      "  'ALIGNN-MP Formation Energy [eV/atom]': -0.012497931718826294,\n",
      "  'ALIGNN-MP PBE Bandgap [eV]': 0.002046257257461548,\n",
      "  'name': '13-Fe16Ni14.POSCAR'},\n",
      " {'ALIGNN-JARVIS Bulk Modulus [GPa]': 190.9437713623047,\n",
      "  'ALIGNN-JARVIS Exfoliation Energy [meV/atom]': 375.4610290527344,\n",
      "  'ALIGNN-JARVIS Formation Energy [eV/atom]': 0.11006226390600204,\n",
      "  'ALIGNN-JARVIS MBJ Bandgap [eV]': 0.01513974741101265,\n",
      "  'ALIGNN-JARVIS Shear Modulus [GPa]': 84.16010284423828,\n",
      "  'ALIGNN-MP Formation Energy [eV/atom]': 0.02969604730606079,\n",
      "  'ALIGNN-MP PBE Bandgap [eV]': 0.012354176491498947,\n",
      "  'name': '14-Fe24Ni6.POSCAR'},\n",
      " {'ALIGNN-JARVIS Bulk Modulus [GPa]': 261.9466552734375,\n",
      "  'ALIGNN-JARVIS Exfoliation Energy [meV/atom]': 392.9708557128906,\n",
      "  'ALIGNN-JARVIS Formation Energy [eV/atom]': 0.1537376046180725,\n",
      "  'ALIGNN-JARVIS MBJ Bandgap [eV]': 0.0021774210035800934,\n",
      "  'ALIGNN-JARVIS Shear Modulus [GPa]': 105.33075714111328,\n",
      "  'ALIGNN-MP Formation Energy [eV/atom]': 0.11784777045249939,\n",
      "  'ALIGNN-MP PBE Bandgap [eV]': 0.008136902004480362,\n",
      "  'name': '30-Cr26Fe4.POSCAR'},\n",
      " {'ALIGNN-JARVIS Bulk Modulus [GPa]': 202.59744262695312,\n",
      "  'ALIGNN-JARVIS Exfoliation Energy [meV/atom]': 371.67633056640625,\n",
      "  'ALIGNN-JARVIS Formation Energy [eV/atom]': 0.06624989956617355,\n",
      "  'ALIGNN-JARVIS MBJ Bandgap [eV]': 0.008296467363834381,\n",
      "  'ALIGNN-JARVIS Shear Modulus [GPa]': 94.14469146728516,\n",
      "  'ALIGNN-MP Formation Energy [eV/atom]': 0.00866156816482544,\n",
      "  'ALIGNN-MP PBE Bandgap [eV]': 0.004152953624725342,\n",
      "  'name': '8-Cr2Fe16Ni12.POSCAR'},\n",
      " {'ALIGNN-JARVIS Bulk Modulus [GPa]': 196.5446014404297,\n",
      "  'ALIGNN-JARVIS Exfoliation Energy [meV/atom]': 400.1668395996094,\n",
      "  'ALIGNN-JARVIS Formation Energy [eV/atom]': 0.1021997407078743,\n",
      "  'ALIGNN-JARVIS MBJ Bandgap [eV]': -0.000453408807516098,\n",
      "  'ALIGNN-JARVIS Shear Modulus [GPa]': 62.05177688598633,\n",
      "  'ALIGNN-MP Formation Energy [eV/atom]': 0.06573662161827087,\n",
      "  'ALIGNN-MP PBE Bandgap [eV]': -0.0006724931299686432,\n",
      "  'name': '18-Fe28Ni2.POSCAR'},\n",
      " {'ALIGNN-JARVIS Bulk Modulus [GPa]': 188.14230346679688,\n",
      "  'ALIGNN-JARVIS Exfoliation Energy [meV/atom]': 361.0226745605469,\n",
      "  'ALIGNN-JARVIS Formation Energy [eV/atom]': 0.0323529914021492,\n",
      "  'ALIGNN-JARVIS MBJ Bandgap [eV]': 0.021202299743890762,\n",
      "  'ALIGNN-JARVIS Shear Modulus [GPa]': 81.69596862792969,\n",
      "  'ALIGNN-MP Formation Energy [eV/atom]': -0.030556276440620422,\n",
      "  'ALIGNN-MP PBE Bandgap [eV]': 0.007291488349437714,\n",
      "  'name': '26-Fe8Ni22.POSCAR'},\n",
      " {'ALIGNN-JARVIS Bulk Modulus [GPa]': 191.9027099609375,\n",
      "  'ALIGNN-JARVIS Exfoliation Energy [meV/atom]': 376.9879150390625,\n",
      "  'ALIGNN-JARVIS Formation Energy [eV/atom]': 0.060411907732486725,\n",
      "  'ALIGNN-JARVIS MBJ Bandgap [eV]': 0.014777224510908127,\n",
      "  'ALIGNN-JARVIS Shear Modulus [GPa]': 93.73548126220703,\n",
      "  'ALIGNN-MP Formation Energy [eV/atom]': -0.0049269795417785645,\n",
      "  'ALIGNN-MP PBE Bandgap [eV]': -0.0004345029592514038,\n",
      "  'name': '16-Fe18Ni12.POSCAR'},\n",
      " {'ALIGNN-JARVIS Bulk Modulus [GPa]': 190.94921875,\n",
      "  'ALIGNN-JARVIS Exfoliation Energy [meV/atom]': 365.6062316894531,\n",
      "  'ALIGNN-JARVIS Formation Energy [eV/atom]': 0.026935234665870667,\n",
      "  'ALIGNN-JARVIS MBJ Bandgap [eV]': 0.013909745961427689,\n",
      "  'ALIGNN-JARVIS Shear Modulus [GPa]': 89.09342193603516,\n",
      "  'ALIGNN-MP Formation Energy [eV/atom]': -0.03213012218475342,\n",
      "  'ALIGNN-MP PBE Bandgap [eV]': 0.012050144374370575,\n",
      "  'name': '29-Fe12Ni18.POSCAR'},\n",
      " {'ALIGNN-JARVIS Bulk Modulus [GPa]': 181.4580841064453,\n",
      "  'ALIGNN-JARVIS Exfoliation Energy [meV/atom]': 409.6863708496094,\n",
      "  'ALIGNN-JARVIS Formation Energy [eV/atom]': 0.06328672915697098,\n",
      "  'ALIGNN-JARVIS MBJ Bandgap [eV]': -0.007205784320831299,\n",
      "  'ALIGNN-JARVIS Shear Modulus [GPa]': 64.07072448730469,\n",
      "  'ALIGNN-MP Formation Energy [eV/atom]': 0.0800994336605072,\n",
      "  'ALIGNN-MP PBE Bandgap [eV]': 0.004573080688714981,\n",
      "  'name': '4-Fe30.POSCAR'},\n",
      " {'ALIGNN-JARVIS Bulk Modulus [GPa]': 252.06724548339844,\n",
      "  'ALIGNN-JARVIS Exfoliation Energy [meV/atom]': 394.4766845703125,\n",
      "  'ALIGNN-JARVIS Formation Energy [eV/atom]': 0.16174349188804626,\n",
      "  'ALIGNN-JARVIS MBJ Bandgap [eV]': 0.003222007304430008,\n",
      "  'ALIGNN-JARVIS Shear Modulus [GPa]': 100.22909545898438,\n",
      "  'ALIGNN-MP Formation Energy [eV/atom]': 0.12701007723808289,\n",
      "  'ALIGNN-MP PBE Bandgap [eV]': 0.004672251641750336,\n",
      "  'name': '3-Cr18Fe12.POSCAR'},\n",
      " {'ALIGNN-JARVIS Bulk Modulus [GPa]': 190.84005737304688,\n",
      "  'ALIGNN-JARVIS Exfoliation Energy [meV/atom]': 362.5991516113281,\n",
      "  'ALIGNN-JARVIS Formation Energy [eV/atom]': 0.027887575328350067,\n",
      "  'ALIGNN-JARVIS MBJ Bandgap [eV]': 0.0032893680036067963,\n",
      "  'ALIGNN-JARVIS Shear Modulus [GPa]': 76.27330017089844,\n",
      "  'ALIGNN-MP Formation Energy [eV/atom]': -0.034506864845752716,\n",
      "  'ALIGNN-MP PBE Bandgap [eV]': -0.0009862259030342102,\n",
      "  'name': '20-Fe8Ni22.POSCAR'},\n",
      " {'ALIGNN-JARVIS Bulk Modulus [GPa]': 185.57705688476562,\n",
      "  'ALIGNN-JARVIS Exfoliation Energy [meV/atom]': 359.2549133300781,\n",
      "  'ALIGNN-JARVIS Formation Energy [eV/atom]': 0.0647701844573021,\n",
      "  'ALIGNN-JARVIS MBJ Bandgap [eV]': 0.022467512637376785,\n",
      "  'ALIGNN-JARVIS Shear Modulus [GPa]': 84.3126449584961,\n",
      "  'ALIGNN-MP Formation Energy [eV/atom]': -0.006145074963569641,\n",
      "  'ALIGNN-MP PBE Bandgap [eV]': 0.021351829171180725,\n",
      "  'name': '24-Fe16Ni14.POSCAR'},\n",
      " {'ALIGNN-JARVIS Bulk Modulus [GPa]': 188.24435424804688,\n",
      "  'ALIGNN-JARVIS Exfoliation Energy [meV/atom]': 355.52734375,\n",
      "  'ALIGNN-JARVIS Formation Energy [eV/atom]': 0.025928668677806854,\n",
      "  'ALIGNN-JARVIS MBJ Bandgap [eV]': 0.01023959368467331,\n",
      "  'ALIGNN-JARVIS Shear Modulus [GPa]': 79.96263122558594,\n",
      "  'ALIGNN-MP Formation Energy [eV/atom]': -0.04273807257413864,\n",
      "  'ALIGNN-MP PBE Bandgap [eV]': 0.023762160912156105,\n",
      "  'name': '2-Fe8Ni22.POSCAR'},\n",
      " {'ALIGNN-JARVIS Bulk Modulus [GPa]': 182.78732299804688,\n",
      "  'ALIGNN-JARVIS Exfoliation Energy [meV/atom]': 133.17996215820312,\n",
      "  'ALIGNN-JARVIS Formation Energy [eV/atom]': -3.0233194828033447,\n",
      "  'ALIGNN-JARVIS MBJ Bandgap [eV]': -0.03895679861307144,\n",
      "  'ALIGNN-JARVIS Shear Modulus [GPa]': 73.23739624023438,\n",
      "  'ALIGNN-MP Formation Energy [eV/atom]': -3.1747853755950928,\n",
      "  'ALIGNN-MP PBE Bandgap [eV]': 2.4271059036254883,\n",
      "  'name': '12-Gd4Cr4O12.POSCAR'}]\n"
     ]
    }
   ],
   "source": [
    "print(result)"
   ]
  },
  {
   "cell_type": "markdown",
   "metadata": {},
   "source": [
    "### Optional - Graph Persistance for Future Models Deployment"
   ]
  },
  {
   "cell_type": "code",
   "execution_count": 6,
   "metadata": {},
   "outputs": [],
   "source": [
    "result = pretrained.run_models_from_directory('SigmaPhase', mode='serial', saveGraphs=True)"
   ]
  }
 ],
 "metadata": {
  "kernelspec": {
   "display_name": "Python 3",
   "language": "python",
   "name": "python3"
  },
  "language_info": {
   "codemirror_mode": {
    "name": "ipython",
    "version": 3
   },
   "file_extension": ".py",
   "mimetype": "text/x-python",
   "name": "python",
   "nbconvert_exporter": "python",
   "pygments_lexer": "ipython3",
   "version": "3.10.13"
  }
 },
 "nbformat": 4,
 "nbformat_minor": 2
}
