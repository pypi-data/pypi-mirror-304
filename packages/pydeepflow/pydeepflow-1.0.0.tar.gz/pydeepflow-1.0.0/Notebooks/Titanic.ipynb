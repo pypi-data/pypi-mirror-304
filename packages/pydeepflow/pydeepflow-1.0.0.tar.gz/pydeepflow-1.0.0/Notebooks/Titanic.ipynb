{
 "cells": [
  {
   "cell_type": "markdown",
   "metadata": {},
   "source": [
    "# Step 1: Load the Data"
   ]
  },
  {
   "cell_type": "code",
   "execution_count": 1,
   "metadata": {},
   "outputs": [],
   "source": [
    "import pandas as pd\n",
    "import numpy as np\n",
    "\n",
    "# Load the dataset\n",
    "df = pd.read_csv(\"E:/Github_Repos/Artificial_Neural_Networks_From_Scratch/Dataset/Titanic.csv\")"
   ]
  },
  {
   "cell_type": "code",
   "execution_count": 2,
   "metadata": {},
   "outputs": [
    {
     "name": "stdout",
     "output_type": "stream",
     "text": [
      "   Passengerid   Age     Fare  Sex  sibsp  Parch  Pclass  Embarked  Survived\n",
      "0            1  22.0   7.2500    0      1      0       3       2.0         0\n",
      "1            2  38.0  71.2833    1      1      0       1       0.0         1\n",
      "2            3  26.0   7.9250    1      0      0       3       2.0         1\n",
      "3            4  35.0  53.1000    1      1      0       1       2.0         1\n",
      "4            5  35.0   8.0500    0      0      0       3       2.0         0\n"
     ]
    }
   ],
   "source": [
    "# Display the first few rows\n",
    "print(df.head())"
   ]
  },
  {
   "cell_type": "markdown",
   "metadata": {},
   "source": [
    "# Step 2: Data Cleaning"
   ]
  },
  {
   "cell_type": "code",
   "execution_count": 3,
   "metadata": {},
   "outputs": [
    {
     "name": "stdout",
     "output_type": "stream",
     "text": [
      "Passengerid    0\n",
      "Age            0\n",
      "Fare           0\n",
      "Sex            0\n",
      "sibsp          0\n",
      "Parch          0\n",
      "Pclass         0\n",
      "Embarked       2\n",
      "Survived       0\n",
      "dtype: int64\n"
     ]
    }
   ],
   "source": [
    "\n",
    "# Check for missing values\n",
    "print(df.isnull().sum())\n"
   ]
  },
  {
   "cell_type": "code",
   "execution_count": 4,
   "metadata": {},
   "outputs": [],
   "source": [
    "# Drop 'PassengerId' (not needed for training) and handle missing values\n",
    "df.drop(columns=['Passengerid'], inplace=True)"
   ]
  },
  {
   "cell_type": "code",
   "execution_count": 5,
   "metadata": {},
   "outputs": [],
   "source": [
    "# Fill or drop missing values\n",
    "# For example, fill missing 'Age' with the median and drop 'Cabin' and 'Ticket' for simplicity\n",
    "df['Age'].fillna(df['Age'].median(), inplace=True)"
   ]
  },
  {
   "cell_type": "code",
   "execution_count": 6,
   "metadata": {},
   "outputs": [],
   "source": [
    "# Drop rows with missing 'Embarked' values (or you could fill them)\n",
    "df.dropna(subset=['Embarked'], inplace=True)"
   ]
  },
  {
   "cell_type": "markdown",
   "metadata": {},
   "source": [
    "# Step 3: Encoding Categorical Variables"
   ]
  },
  {
   "cell_type": "code",
   "execution_count": 7,
   "metadata": {},
   "outputs": [],
   "source": [
    "# One-hot encode 'Sex' and 'Embarked'\n",
    "df = pd.get_dummies(df, columns=['Sex', 'Embarked'], drop_first=True)\n",
    "\n",
    "# Separate features (X) and target (y)\n",
    "X = df.drop(columns=['Survived'])\n",
    "y = df['Survived']"
   ]
  },
  {
   "cell_type": "markdown",
   "metadata": {},
   "source": [
    "# Step 4: Feature Scaling"
   ]
  },
  {
   "cell_type": "code",
   "execution_count": 8,
   "metadata": {},
   "outputs": [],
   "source": [
    "from sklearn.preprocessing import StandardScaler\n",
    "\n",
    "scaler = StandardScaler()\n",
    "X_scaled = scaler.fit_transform(X)\n"
   ]
  },
  {
   "cell_type": "markdown",
   "metadata": {},
   "source": [
    "# Step 5: Train-Test Split"
   ]
  },
  {
   "cell_type": "code",
   "execution_count": 9,
   "metadata": {},
   "outputs": [],
   "source": [
    "from sklearn.model_selection import train_test_split\n",
    "\n",
    "X_train, X_test, y_train, y_test = train_test_split(X_scaled, y, test_size=0.2, random_state=42)"
   ]
  },
  {
   "cell_type": "markdown",
   "metadata": {},
   "source": [
    "# Step 6: Initialize and Train the Custom ANN"
   ]
  },
  {
   "cell_type": "code",
   "execution_count": 10,
   "metadata": {},
   "outputs": [
    {
     "name": "stderr",
     "output_type": "stream",
     "text": [
      "Training Progress:   1%|\u001b[32m░░░░░░░░░░░░░░░░░░░░░░░░░░░░░░░░░░░░░░░░░░\u001b[0m| 10/1000 [00:00<00:10, 95.06it/s]\u001b[0m"
     ]
    },
    {
     "name": "stdout",
     "output_type": "stream",
     "text": [
      "Loss: \u001b[31m1.0599\u001b[0m | Accuracy: \u001b[32m34.95%\u001b[0m | Time: 0.01s\n",
      "Loss: \u001b[31m2.4924\u001b[0m | Accuracy: \u001b[32m74.16%\u001b[0m | Time: 0.00s\n"
     ]
    },
    {
     "name": "stderr",
     "output_type": "stream",
     "text": [
      "Training Progress:   3%|\u001b[32m█░░░░░░░░░░░░░░░░░░░░░░░░░░░░░░░░░░░░░░░░░\u001b[0m| 32/1000 [00:00<00:09, 99.81it/s]\u001b[0m"
     ]
    },
    {
     "name": "stdout",
     "output_type": "stream",
     "text": [
      "Loss: \u001b[31m1.3797\u001b[0m | Accuracy: \u001b[32m74.16%\u001b[0m | Time: 0.00s\n",
      "Loss: \u001b[31m1.2606\u001b[0m | Accuracy: \u001b[32m74.16%\u001b[0m | Time: 0.00s\n"
     ]
    },
    {
     "name": "stderr",
     "output_type": "stream",
     "text": [
      "Training Progress:   5%|\u001b[32m██░░░░░░░░░░░░░░░░░░░░░░░░░░░░░░░░░░░░░░░░\u001b[0m| 54/1000 [00:00<00:09, 99.03it/s]\u001b[0m"
     ]
    },
    {
     "name": "stdout",
     "output_type": "stream",
     "text": [
      "Loss: \u001b[31m0.7706\u001b[0m | Accuracy: \u001b[32m74.16%\u001b[0m | Time: 0.02s\n",
      "Loss: \u001b[31m0.6897\u001b[0m | Accuracy: \u001b[32m56.87%\u001b[0m | Time: 0.02s\n"
     ]
    },
    {
     "name": "stderr",
     "output_type": "stream",
     "text": [
      "Training Progress:   8%|\u001b[32m███░░░░░░░░░░░░░░░░░░░░░░░░░░░░░░░░░░░░░░░\u001b[0m| 75/1000 [00:00<00:09, 97.47it/s]\u001b[0m"
     ]
    },
    {
     "name": "stdout",
     "output_type": "stream",
     "text": [
      "Loss: \u001b[31m0.8049\u001b[0m | Accuracy: \u001b[32m56.13%\u001b[0m | Time: 0.02s\n",
      "Loss: \u001b[31m0.7876\u001b[0m | Accuracy: \u001b[32m56.73%\u001b[0m | Time: 0.01s\n"
     ]
    },
    {
     "name": "stderr",
     "output_type": "stream",
     "text": [
      "Training Progress:   9%|\u001b[32m███▒░░░░░░░░░░░░░░░░░░░░░░░░░░░░░░░░░░░░░░\u001b[0m| 94/1000 [00:01<00:10, 83.91it/s]\u001b[0m"
     ]
    },
    {
     "name": "stdout",
     "output_type": "stream",
     "text": [
      "Loss: \u001b[31m0.7536\u001b[0m | Accuracy: \u001b[32m56.22%\u001b[0m | Time: 0.01s\n",
      "Loss: \u001b[31m0.7990\u001b[0m | Accuracy: \u001b[32m56.40%\u001b[0m | Time: 0.01s\n"
     ]
    },
    {
     "name": "stderr",
     "output_type": "stream",
     "text": [
      "Training Progress:  11%|\u001b[32m████▒░░░░░░░░░░░░░░░░░░░░░░░░░░░░░░░░░░░░\u001b[0m| 114/1000 [00:01<00:10, 85.14it/s]\u001b[0m"
     ]
    },
    {
     "name": "stdout",
     "output_type": "stream",
     "text": [
      "Loss: \u001b[31m0.8466\u001b[0m | Accuracy: \u001b[32m56.08%\u001b[0m | Time: 0.01s\n",
      "Loss: \u001b[31m0.7774\u001b[0m | Accuracy: \u001b[32m55.62%\u001b[0m | Time: 0.02s\n",
      "Loss: \u001b[31m0.9879\u001b[0m | Accuracy: \u001b[32m58.90%\u001b[0m | Time: 0.01s\n"
     ]
    },
    {
     "name": "stderr",
     "output_type": "stream",
     "text": [
      "Training Progress:  15%|\u001b[32m█████▒░░░░░░░░░░░░░░░░░░░░░░░░░░░░░░░░░░░\u001b[0m| 146/1000 [00:01<00:09, 93.62it/s]\u001b[0m"
     ]
    },
    {
     "name": "stdout",
     "output_type": "stream",
     "text": [
      "Loss: \u001b[31m0.9132\u001b[0m | Accuracy: \u001b[32m74.16%\u001b[0m | Time: 0.02s\n",
      "Loss: \u001b[31m1.0948\u001b[0m | Accuracy: \u001b[32m74.16%\u001b[0m | Time: 0.02s\n",
      "Loss: \u001b[31m1.0085\u001b[0m | Accuracy: \u001b[32m58.35%\u001b[0m | Time: 0.01s\n"
     ]
    },
    {
     "name": "stderr",
     "output_type": "stream",
     "text": [
      "Training Progress:  18%|\u001b[32m███████░░░░░░░░░░░░░░░░░░░░░░░░░░░░░░░░░░\u001b[0m| 178/1000 [00:01<00:09, 91.08it/s]\u001b[0m"
     ]
    },
    {
     "name": "stdout",
     "output_type": "stream",
     "text": [
      "Loss: \u001b[31m0.9424\u001b[0m | Accuracy: \u001b[32m57.56%\u001b[0m | Time: 0.01s\n",
      "Loss: \u001b[31m0.8445\u001b[0m | Accuracy: \u001b[32m56.91%\u001b[0m | Time: 0.01s\n"
     ]
    },
    {
     "name": "stderr",
     "output_type": "stream",
     "text": [
      "Training Progress:  19%|\u001b[32m███████▒░░░░░░░░░░░░░░░░░░░░░░░░░░░░░░░░░\u001b[0m| 188/1000 [00:02<00:09, 89.73it/s]\u001b[0m"
     ]
    },
    {
     "name": "stdout",
     "output_type": "stream",
     "text": [
      "Loss: \u001b[31m0.8716\u001b[0m | Accuracy: \u001b[32m57.24%\u001b[0m | Time: 0.02s\n",
      "Loss: \u001b[31m0.9174\u001b[0m | Accuracy: \u001b[32m56.68%\u001b[0m | Time: 0.02s\n"
     ]
    },
    {
     "name": "stderr",
     "output_type": "stream",
     "text": [
      "Training Progress:  22%|\u001b[32m████████▒░░░░░░░░░░░░░░░░░░░░░░░░░░░░░░░░\u001b[0m| 216/1000 [00:02<00:08, 87.69it/s]\u001b[0m"
     ]
    },
    {
     "name": "stdout",
     "output_type": "stream",
     "text": [
      "Loss: \u001b[31m0.8551\u001b[0m | Accuracy: \u001b[32m55.99%\u001b[0m | Time: 0.01s\n",
      "Loss: \u001b[31m0.9058\u001b[0m | Accuracy: \u001b[32m57.14%\u001b[0m | Time: 0.01s\n"
     ]
    },
    {
     "name": "stderr",
     "output_type": "stream",
     "text": [
      "Training Progress:  24%|\u001b[32m█████████▒░░░░░░░░░░░░░░░░░░░░░░░░░░░░░░░\u001b[0m| 235/1000 [00:02<00:08, 87.87it/s]\u001b[0m"
     ]
    },
    {
     "name": "stdout",
     "output_type": "stream",
     "text": [
      "Loss: \u001b[31m0.9761\u001b[0m | Accuracy: \u001b[32m57.98%\u001b[0m | Time: 0.02s\n",
      "Loss: \u001b[31m1.0729\u001b[0m | Accuracy: \u001b[32m58.02%\u001b[0m | Time: 0.01s\n"
     ]
    },
    {
     "name": "stderr",
     "output_type": "stream",
     "text": [
      "Training Progress:  25%|\u001b[32m██████████░░░░░░░░░░░░░░░░░░░░░░░░░░░░░░░\u001b[0m| 253/1000 [00:02<00:09, 81.83it/s]\u001b[0m"
     ]
    },
    {
     "name": "stdout",
     "output_type": "stream",
     "text": [
      "Loss: \u001b[31m1.2279\u001b[0m | Accuracy: \u001b[32m60.61%\u001b[0m | Time: 0.02s\n",
      "Loss: \u001b[31m0.9157\u001b[0m | Accuracy: \u001b[32m57.65%\u001b[0m | Time: 0.01s\n"
     ]
    },
    {
     "name": "stderr",
     "output_type": "stream",
     "text": [
      "Training Progress:  27%|\u001b[32m███████████░░░░░░░░░░░░░░░░░░░░░░░░░░░░░░\u001b[0m| 271/1000 [00:03<00:09, 75.54it/s]\u001b[0m"
     ]
    },
    {
     "name": "stdout",
     "output_type": "stream",
     "text": [
      "Loss: \u001b[31m0.9184\u001b[0m | Accuracy: \u001b[32m56.82%\u001b[0m | Time: 0.01s\n",
      "Loss: \u001b[31m1.6454\u001b[0m | Accuracy: \u001b[32m56.17%\u001b[0m | Time: 0.02s\n"
     ]
    },
    {
     "name": "stderr",
     "output_type": "stream",
     "text": [
      "Training Progress:  30%|\u001b[32m████████████░░░░░░░░░░░░░░░░░░░░░░░░░░░░░\u001b[0m| 297/1000 [00:03<00:09, 77.60it/s]\u001b[0m"
     ]
    },
    {
     "name": "stdout",
     "output_type": "stream",
     "text": [
      "Loss: \u001b[31m0.8452\u001b[0m | Accuracy: \u001b[32m55.48%\u001b[0m | Time: 0.01s\n",
      "Loss: \u001b[31m0.9320\u001b[0m | Accuracy: \u001b[32m52.24%\u001b[0m | Time: 0.00s\n"
     ]
    },
    {
     "name": "stderr",
     "output_type": "stream",
     "text": [
      "Training Progress:  32%|\u001b[32m████████████▒░░░░░░░░░░░░░░░░░░░░░░░░░░░░\u001b[0m| 315/1000 [00:03<00:08, 80.20it/s]\u001b[0m"
     ]
    },
    {
     "name": "stdout",
     "output_type": "stream",
     "text": [
      "Loss: \u001b[31m1.1146\u001b[0m | Accuracy: \u001b[32m56.73%\u001b[0m | Time: 0.01s\n",
      "Loss: \u001b[31m1.2832\u001b[0m | Accuracy: \u001b[32m58.81%\u001b[0m | Time: 0.01s\n"
     ]
    },
    {
     "name": "stderr",
     "output_type": "stream",
     "text": [
      "Training Progress:  33%|\u001b[32m█████████████▒░░░░░░░░░░░░░░░░░░░░░░░░░░░\u001b[0m| 332/1000 [00:03<00:08, 77.64it/s]\u001b[0m"
     ]
    },
    {
     "name": "stdout",
     "output_type": "stream",
     "text": [
      "Loss: \u001b[31m1.4671\u001b[0m | Accuracy: \u001b[32m58.07%\u001b[0m | Time: 0.01s\n",
      "Loss: \u001b[31m0.8815\u001b[0m | Accuracy: \u001b[32m55.20%\u001b[0m | Time: 0.01s\n"
     ]
    },
    {
     "name": "stderr",
     "output_type": "stream",
     "text": [
      "Training Progress:  35%|\u001b[32m██████████████░░░░░░░░░░░░░░░░░░░░░░░░░░░\u001b[0m| 349/1000 [00:04<00:08, 79.59it/s]\u001b[0m"
     ]
    },
    {
     "name": "stdout",
     "output_type": "stream",
     "text": [
      "Loss: \u001b[31m0.8212\u001b[0m | Accuracy: \u001b[32m57.14%\u001b[0m | Time: 0.01s\n",
      "Loss: \u001b[31m0.8193\u001b[0m | Accuracy: \u001b[32m57.28%\u001b[0m | Time: 0.01s\n"
     ]
    },
    {
     "name": "stderr",
     "output_type": "stream",
     "text": [
      "Training Progress:  38%|\u001b[32m███████████████░░░░░░░░░░░░░░░░░░░░░░░░░░\u001b[0m| 376/1000 [00:04<00:07, 79.57it/s]\u001b[0m"
     ]
    },
    {
     "name": "stdout",
     "output_type": "stream",
     "text": [
      "Loss: \u001b[31m1.0284\u001b[0m | Accuracy: \u001b[32m57.79%\u001b[0m | Time: 0.01s\n",
      "Loss: \u001b[31m1.1538\u001b[0m | Accuracy: \u001b[32m57.61%\u001b[0m | Time: 0.01s\n"
     ]
    },
    {
     "name": "stderr",
     "output_type": "stream",
     "text": [
      "Training Progress:  39%|\u001b[32m████████████████░░░░░░░░░░░░░░░░░░░░░░░░░\u001b[0m| 393/1000 [00:04<00:07, 79.29it/s]\u001b[0m"
     ]
    },
    {
     "name": "stdout",
     "output_type": "stream",
     "text": [
      "Loss: \u001b[31m1.0093\u001b[0m | Accuracy: \u001b[32m57.14%\u001b[0m | Time: 0.01s\n",
      "Loss: \u001b[31m1.2125\u001b[0m | Accuracy: \u001b[32m58.12%\u001b[0m | Time: 0.01s\n"
     ]
    },
    {
     "name": "stderr",
     "output_type": "stream",
     "text": [
      "Training Progress:  41%|\u001b[32m████████████████▒░░░░░░░░░░░░░░░░░░░░░░░░\u001b[0m| 411/1000 [00:04<00:07, 83.08it/s]\u001b[0m"
     ]
    },
    {
     "name": "stdout",
     "output_type": "stream",
     "text": [
      "Loss: \u001b[31m1.1114\u001b[0m | Accuracy: \u001b[32m55.57%\u001b[0m | Time: 0.01s\n",
      "Loss: \u001b[31m1.3387\u001b[0m | Accuracy: \u001b[32m57.38%\u001b[0m | Time: 0.01s\n"
     ]
    },
    {
     "name": "stderr",
     "output_type": "stream",
     "text": [
      "Training Progress:  43%|\u001b[32m█████████████████▒░░░░░░░░░░░░░░░░░░░░░░░\u001b[0m| 431/1000 [00:05<00:06, 84.70it/s]\u001b[0m"
     ]
    },
    {
     "name": "stdout",
     "output_type": "stream",
     "text": [
      "Loss: \u001b[31m2.4286\u001b[0m | Accuracy: \u001b[32m67.50%\u001b[0m | Time: 0.02s\n",
      "Loss: \u001b[31m0.9774\u001b[0m | Accuracy: \u001b[32m56.87%\u001b[0m | Time: 0.02s\n"
     ]
    },
    {
     "name": "stderr",
     "output_type": "stream",
     "text": [
      "Training Progress:  45%|\u001b[32m██████████████████░░░░░░░░░░░░░░░░░░░░░░░\u001b[0m| 450/1000 [00:05<00:06, 86.05it/s]\u001b[0m"
     ]
    },
    {
     "name": "stdout",
     "output_type": "stream",
     "text": [
      "Loss: \u001b[31m1.0392\u001b[0m | Accuracy: \u001b[32m58.90%\u001b[0m | Time: 0.01s\n",
      "Loss: \u001b[31m1.9286\u001b[0m | Accuracy: \u001b[32m74.16%\u001b[0m | Time: 0.01s\n"
     ]
    },
    {
     "name": "stderr",
     "output_type": "stream",
     "text": [
      "Training Progress:  47%|\u001b[32m███████████████████░░░░░░░░░░░░░░░░░░░░░░\u001b[0m| 470/1000 [00:05<00:05, 88.74it/s]\u001b[0m"
     ]
    },
    {
     "name": "stdout",
     "output_type": "stream",
     "text": [
      "Loss: \u001b[31m3.4263\u001b[0m | Accuracy: \u001b[32m74.16%\u001b[0m | Time: 0.01s\n",
      "Loss: \u001b[31m2.5584\u001b[0m | Accuracy: \u001b[32m57.19%\u001b[0m | Time: 0.01s\n"
     ]
    },
    {
     "name": "stderr",
     "output_type": "stream",
     "text": [
      "Training Progress:  49%|\u001b[32m████████████████████░░░░░░░░░░░░░░░░░░░░░\u001b[0m| 492/1000 [00:05<00:05, 96.32it/s]\u001b[0m"
     ]
    },
    {
     "name": "stdout",
     "output_type": "stream",
     "text": [
      "Loss: \u001b[31m1.8240\u001b[0m | Accuracy: \u001b[32m56.77%\u001b[0m | Time: 0.02s\n",
      "Loss: \u001b[31m1.8005\u001b[0m | Accuracy: \u001b[32m58.35%\u001b[0m | Time: 0.02s\n",
      "Loss: \u001b[31m1.9708\u001b[0m | Accuracy: \u001b[32m58.16%\u001b[0m | Time: 0.02s\n"
     ]
    },
    {
     "name": "stderr",
     "output_type": "stream",
     "text": [
      "Training Progress:  52%|\u001b[32m█████████████████████▒░░░░░░░░░░░░░░░░░░░\u001b[0m| 525/1000 [00:06<00:04, 95.62it/s]\u001b[0m"
     ]
    },
    {
     "name": "stdout",
     "output_type": "stream",
     "text": [
      "Loss: \u001b[31m1.9304\u001b[0m | Accuracy: \u001b[32m57.84%\u001b[0m | Time: 0.02s\n",
      "Loss: \u001b[31m2.1251\u001b[0m | Accuracy: \u001b[32m59.92%\u001b[0m | Time: 0.00s\n",
      "Loss: \u001b[31m2.6270\u001b[0m | Accuracy: \u001b[32m61.63%\u001b[0m | Time: 0.00s\n"
     ]
    },
    {
     "name": "stderr",
     "output_type": "stream",
     "text": [
      "Training Progress:  56%|\u001b[32m██████████████████████▒░░░░░░░░░░░░░░░░░░\u001b[0m| 558/1000 [00:06<00:04, 98.76it/s]\u001b[0m"
     ]
    },
    {
     "name": "stdout",
     "output_type": "stream",
     "text": [
      "Loss: \u001b[31m2.0145\u001b[0m | Accuracy: \u001b[32m59.87%\u001b[0m | Time: 0.01s\n",
      "Loss: \u001b[31m1.9471\u001b[0m | Accuracy: \u001b[32m59.69%\u001b[0m | Time: 0.01s\n",
      "Loss: \u001b[31m1.9030\u001b[0m | Accuracy: \u001b[32m59.78%\u001b[0m | Time: 0.01s\n"
     ]
    },
    {
     "name": "stderr",
     "output_type": "stream",
     "text": [
      "Training Progress:  58%|\u001b[32m███████████████████████▒░░░░░░░░░░░░░░░░░\u001b[0m| 580/1000 [00:06<00:04, 99.78it/s]\u001b[0m"
     ]
    },
    {
     "name": "stdout",
     "output_type": "stream",
     "text": [
      "Loss: \u001b[31m1.7392\u001b[0m | Accuracy: \u001b[32m59.73%\u001b[0m | Time: 0.01s\n",
      "Loss: \u001b[31m1.5751\u001b[0m | Accuracy: \u001b[32m59.83%\u001b[0m | Time: 0.01s\n"
     ]
    },
    {
     "name": "stderr",
     "output_type": "stream",
     "text": [
      "Training Progress:  60%|\u001b[32m████████████████████████░░░░░░░░░░░░░░░░\u001b[0m| 602/1000 [00:06<00:03, 101.96it/s]\u001b[0m"
     ]
    },
    {
     "name": "stdout",
     "output_type": "stream",
     "text": [
      "Loss: \u001b[31m1.2592\u001b[0m | Accuracy: \u001b[32m60.29%\u001b[0m | Time: 0.02s\n",
      "Loss: \u001b[31m1.2371\u001b[0m | Accuracy: \u001b[32m63.43%\u001b[0m | Time: 0.00s\n",
      "Loss: \u001b[31m1.1092\u001b[0m | Accuracy: \u001b[32m62.00%\u001b[0m | Time: 0.02s\n"
     ]
    },
    {
     "name": "stderr",
     "output_type": "stream",
     "text": [
      "Training Progress:  64%|\u001b[32m█████████████████████████░░░░░░░░░░░░░░░\u001b[0m| 636/1000 [00:07<00:03, 105.86it/s]\u001b[0m"
     ]
    },
    {
     "name": "stdout",
     "output_type": "stream",
     "text": [
      "Loss: \u001b[31m2.5226\u001b[0m | Accuracy: \u001b[32m61.08%\u001b[0m | Time: 0.01s\n",
      "Loss: \u001b[31m2.2818\u001b[0m | Accuracy: \u001b[32m62.05%\u001b[0m | Time: 0.00s\n",
      "Loss: \u001b[31m1.7529\u001b[0m | Accuracy: \u001b[32m61.35%\u001b[0m | Time: 0.00s\n"
     ]
    },
    {
     "name": "stderr",
     "output_type": "stream",
     "text": [
      "Training Progress:  67%|\u001b[32m██████████████████████████▒░░░░░░░░░░░░░\u001b[0m| 669/1000 [00:07<00:03, 104.37it/s]\u001b[0m"
     ]
    },
    {
     "name": "stdout",
     "output_type": "stream",
     "text": [
      "Loss: \u001b[31m1.7093\u001b[0m | Accuracy: \u001b[32m61.68%\u001b[0m | Time: 0.01s\n",
      "Loss: \u001b[31m1.5475\u001b[0m | Accuracy: \u001b[32m61.12%\u001b[0m | Time: 0.01s\n",
      "Loss: \u001b[31m1.1251\u001b[0m | Accuracy: \u001b[32m61.82%\u001b[0m | Time: 0.02s\n"
     ]
    },
    {
     "name": "stderr",
     "output_type": "stream",
     "text": [
      "Training Progress:  69%|\u001b[32m███████████████████████████▒░░░░░░░░░░░░\u001b[0m| 691/1000 [00:07<00:02, 105.14it/s]\u001b[0m"
     ]
    },
    {
     "name": "stdout",
     "output_type": "stream",
     "text": [
      "Loss: \u001b[31m3.2724\u001b[0m | Accuracy: \u001b[32m61.63%\u001b[0m | Time: 0.01s\n",
      "Loss: \u001b[31m3.1351\u001b[0m | Accuracy: \u001b[32m61.58%\u001b[0m | Time: 0.02s\n"
     ]
    },
    {
     "name": "stderr",
     "output_type": "stream",
     "text": [
      "Training Progress:  71%|\u001b[32m█████████████████████████████░░░░░░░░░░░░\u001b[0m| 713/1000 [00:07<00:02, 96.27it/s]\u001b[0m"
     ]
    },
    {
     "name": "stdout",
     "output_type": "stream",
     "text": [
      "Loss: \u001b[31m2.5594\u001b[0m | Accuracy: \u001b[32m61.08%\u001b[0m | Time: 0.00s\n",
      "Loss: \u001b[31m2.4339\u001b[0m | Accuracy: \u001b[32m61.58%\u001b[0m | Time: 0.01s\n"
     ]
    },
    {
     "name": "stderr",
     "output_type": "stream",
     "text": [
      "Training Progress:  73%|\u001b[32m██████████████████████████████░░░░░░░░░░░\u001b[0m| 733/1000 [00:08<00:02, 92.10it/s]\u001b[0m"
     ]
    },
    {
     "name": "stdout",
     "output_type": "stream",
     "text": [
      "Loss: \u001b[31m2.3730\u001b[0m | Accuracy: \u001b[32m60.10%\u001b[0m | Time: 0.01s\n",
      "Loss: \u001b[31m2.6738\u001b[0m | Accuracy: \u001b[32m60.10%\u001b[0m | Time: 0.01s\n"
     ]
    },
    {
     "name": "stderr",
     "output_type": "stream",
     "text": [
      "Training Progress:  75%|\u001b[32m██████████████████████████████▒░░░░░░░░░░\u001b[0m| 752/1000 [00:08<00:02, 86.32it/s]\u001b[0m"
     ]
    },
    {
     "name": "stdout",
     "output_type": "stream",
     "text": [
      "Loss: \u001b[31m2.7083\u001b[0m | Accuracy: \u001b[32m60.10%\u001b[0m | Time: 0.01s\n",
      "Loss: \u001b[31m2.7161\u001b[0m | Accuracy: \u001b[32m60.10%\u001b[0m | Time: 0.01s\n"
     ]
    },
    {
     "name": "stderr",
     "output_type": "stream",
     "text": [
      "Training Progress:  77%|\u001b[32m███████████████████████████████▒░░░░░░░░░\u001b[0m| 770/1000 [00:08<00:02, 78.03it/s]\u001b[0m"
     ]
    },
    {
     "name": "stdout",
     "output_type": "stream",
     "text": [
      "Loss: \u001b[31m2.6335\u001b[0m | Accuracy: \u001b[32m59.97%\u001b[0m | Time: 0.01s\n",
      "Loss: \u001b[31m2.6081\u001b[0m | Accuracy: \u001b[32m59.78%\u001b[0m | Time: 0.01s\n"
     ]
    },
    {
     "name": "stderr",
     "output_type": "stream",
     "text": [
      "Training Progress:  80%|\u001b[32m████████████████████████████████▒░░░░░░░░\u001b[0m| 796/1000 [00:08<00:02, 83.58it/s]\u001b[0m"
     ]
    },
    {
     "name": "stdout",
     "output_type": "stream",
     "text": [
      "Loss: \u001b[31m2.4015\u001b[0m | Accuracy: \u001b[32m60.98%\u001b[0m | Time: 0.01s\n",
      "Loss: \u001b[31m2.6387\u001b[0m | Accuracy: \u001b[32m61.58%\u001b[0m | Time: 0.01s\n"
     ]
    },
    {
     "name": "stderr",
     "output_type": "stream",
     "text": [
      "Training Progress:  81%|\u001b[32m█████████████████████████████████░░░░░░░░\u001b[0m| 814/1000 [00:09<00:02, 85.01it/s]\u001b[0m"
     ]
    },
    {
     "name": "stdout",
     "output_type": "stream",
     "text": [
      "Loss: \u001b[31m2.6079\u001b[0m | Accuracy: \u001b[32m61.17%\u001b[0m | Time: 0.02s\n",
      "Loss: \u001b[31m2.6014\u001b[0m | Accuracy: \u001b[32m60.34%\u001b[0m | Time: 0.01s\n"
     ]
    },
    {
     "name": "stderr",
     "output_type": "stream",
     "text": [
      "Training Progress:  83%|\u001b[32m██████████████████████████████████░░░░░░░\u001b[0m| 832/1000 [00:09<00:02, 80.46it/s]\u001b[0m"
     ]
    },
    {
     "name": "stdout",
     "output_type": "stream",
     "text": [
      "Loss: \u001b[31m2.7326\u001b[0m | Accuracy: \u001b[32m61.77%\u001b[0m | Time: 0.01s\n",
      "Loss: \u001b[31m2.5721\u001b[0m | Accuracy: \u001b[32m61.86%\u001b[0m | Time: 0.02s\n"
     ]
    },
    {
     "name": "stderr",
     "output_type": "stream",
     "text": [
      "Training Progress:  86%|\u001b[32m███████████████████████████████████░░░░░░\u001b[0m| 855/1000 [00:09<00:01, 94.11it/s]\u001b[0m"
     ]
    },
    {
     "name": "stdout",
     "output_type": "stream",
     "text": [
      "Loss: \u001b[31m2.5893\u001b[0m | Accuracy: \u001b[32m61.82%\u001b[0m | Time: 0.01s\n",
      "Loss: \u001b[31m2.5970\u001b[0m | Accuracy: \u001b[32m61.82%\u001b[0m | Time: 0.01s\n",
      "Loss: \u001b[31m2.6432\u001b[0m | Accuracy: \u001b[32m61.82%\u001b[0m | Time: 0.01s\n"
     ]
    },
    {
     "name": "stderr",
     "output_type": "stream",
     "text": [
      "Training Progress:  89%|\u001b[32m███████████████████████████████████▒░░░░\u001b[0m| 889/1000 [00:09<00:01, 100.95it/s]\u001b[0m"
     ]
    },
    {
     "name": "stdout",
     "output_type": "stream",
     "text": [
      "Loss: \u001b[31m2.6200\u001b[0m | Accuracy: \u001b[32m61.82%\u001b[0m | Time: 0.01s\n",
      "Loss: \u001b[31m2.6579\u001b[0m | Accuracy: \u001b[32m61.82%\u001b[0m | Time: 0.01s\n",
      "Loss: \u001b[31m2.7170\u001b[0m | Accuracy: \u001b[32m62.05%\u001b[0m | Time: 0.01s\n"
     ]
    },
    {
     "name": "stderr",
     "output_type": "stream",
     "text": [
      "Training Progress:  91%|\u001b[32m█████████████████████████████████████░░░░\u001b[0m| 911/1000 [00:10<00:00, 92.57it/s]\u001b[0m"
     ]
    },
    {
     "name": "stdout",
     "output_type": "stream",
     "text": [
      "Loss: \u001b[31m2.7116\u001b[0m | Accuracy: \u001b[32m61.58%\u001b[0m | Time: 0.02s\n",
      "Loss: \u001b[31m2.7072\u001b[0m | Accuracy: \u001b[32m61.91%\u001b[0m | Time: 0.01s\n"
     ]
    },
    {
     "name": "stderr",
     "output_type": "stream",
     "text": [
      "Training Progress:  93%|\u001b[32m██████████████████████████████████████░░░\u001b[0m| 931/1000 [00:10<00:00, 90.22it/s]\u001b[0m"
     ]
    },
    {
     "name": "stdout",
     "output_type": "stream",
     "text": [
      "Loss: \u001b[31m2.6398\u001b[0m | Accuracy: \u001b[32m63.67%\u001b[0m | Time: 0.01s\n",
      "Loss: \u001b[31m2.6531\u001b[0m | Accuracy: \u001b[32m61.21%\u001b[0m | Time: 0.01s\n"
     ]
    },
    {
     "name": "stderr",
     "output_type": "stream",
     "text": [
      "Training Progress:  95%|\u001b[32m██████████████████████████████████████▒░░\u001b[0m| 951/1000 [00:10<00:00, 86.56it/s]\u001b[0m"
     ]
    },
    {
     "name": "stdout",
     "output_type": "stream",
     "text": [
      "Loss: \u001b[31m2.3921\u001b[0m | Accuracy: \u001b[32m60.66%\u001b[0m | Time: 0.01s\n",
      "Loss: \u001b[31m2.3728\u001b[0m | Accuracy: \u001b[32m59.73%\u001b[0m | Time: 0.01s\n"
     ]
    },
    {
     "name": "stderr",
     "output_type": "stream",
     "text": [
      "Training Progress:  97%|\u001b[32m███████████████████████████████████████▒░\u001b[0m| 969/1000 [00:10<00:00, 75.22it/s]\u001b[0m"
     ]
    },
    {
     "name": "stdout",
     "output_type": "stream",
     "text": [
      "Loss: \u001b[31m2.5069\u001b[0m | Accuracy: \u001b[32m59.64%\u001b[0m | Time: 0.01s\n",
      "Loss: \u001b[31m2.2291\u001b[0m | Accuracy: \u001b[32m59.87%\u001b[0m | Time: 0.01s\n"
     ]
    },
    {
     "name": "stderr",
     "output_type": "stream",
     "text": [
      "Training Progress: 100%|\u001b[32m████████████████████████████████████████▒\u001b[0m| 995/1000 [00:11<00:00, 77.92it/s]\u001b[0m"
     ]
    },
    {
     "name": "stdout",
     "output_type": "stream",
     "text": [
      "Loss: \u001b[31m2.2856\u001b[0m | Accuracy: \u001b[32m59.92%\u001b[0m | Time: 0.01s\n",
      "Loss: \u001b[31m2.3157\u001b[0m | Accuracy: \u001b[32m59.92%\u001b[0m | Time: 0.01s\n"
     ]
    },
    {
     "name": "stderr",
     "output_type": "stream",
     "text": [
      "Training Progress: 100%|\u001b[32m████████████████████████████████████████\u001b[0m| 1000/1000 [00:11<00:00, 88.61it/s]\u001b[0m"
     ]
    },
    {
     "name": "stdout",
     "output_type": "stream",
     "text": [
      "\n",
      "\n",
      "Training is Completed Successfully !\n",
      "\n",
      "\n"
     ]
    },
    {
     "name": "stderr",
     "output_type": "stream",
     "text": [
      "\n"
     ]
    }
   ],
   "source": [
    "import sys\n",
    "import os\n",
    "\n",
    "# Get the current directory of the notebook and go up to the project root\n",
    "current_dir = os.getcwd()  # Get the current working directory\n",
    "project_root = os.path.abspath(os.path.join(current_dir, '..'))\n",
    "\n",
    "# Add the project root directory to the system path\n",
    "sys.path.append(project_root)\n",
    "\n",
    "# Now you can import the class\n",
    "from model import Multi_Layer_ANN\n",
    "\n",
    "hidden_layers = [20, 10, 5]  # You can adjust these\n",
    "activations = ['relu', 'relu', 'relu']\n",
    "\n",
    "# Initialize the ANN\n",
    "ann = Multi_Layer_ANN(X_train, y_train.values, hidden_layers, activations, loss='binary_crossentropy')\n",
    "\n",
    "# Fit the model\n",
    "ann.fit(epochs=1000, learning_rate=0.05)"
   ]
  },
  {
   "cell_type": "markdown",
   "metadata": {},
   "source": [
    "# Step 7: Make Predictions and Evaluate the Model"
   ]
  },
  {
   "cell_type": "code",
   "execution_count": 11,
   "metadata": {},
   "outputs": [
    {
     "name": "stdout",
     "output_type": "stream",
     "text": [
      "Test Accuracy: 78.63%\n"
     ]
    }
   ],
   "source": [
    "# Make predictions\n",
    "y_pred = ann.predict(X_test)\n",
    "\n",
    "# Calculate accuracy\n",
    "accuracy = np.mean(y_pred == y_test.values)\n",
    "print(f\"Test Accuracy: {accuracy * 100:.2f}%\")\n"
   ]
  },
  {
   "cell_type": "code",
   "execution_count": null,
   "metadata": {},
   "outputs": [],
   "source": []
  }
 ],
 "metadata": {
  "kernelspec": {
   "display_name": "Python 3",
   "language": "python",
   "name": "python3"
  },
  "language_info": {
   "codemirror_mode": {
    "name": "ipython",
    "version": 3
   },
   "file_extension": ".py",
   "mimetype": "text/x-python",
   "name": "python",
   "nbconvert_exporter": "python",
   "pygments_lexer": "ipython3",
   "version": "3.10.9"
  }
 },
 "nbformat": 4,
 "nbformat_minor": 2
}
