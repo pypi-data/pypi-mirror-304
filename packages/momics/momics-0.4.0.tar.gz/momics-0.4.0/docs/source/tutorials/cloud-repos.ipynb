{
 "cells": [
  {
   "cell_type": "markdown",
   "metadata": {},
   "source": [
    "# Managing cloud-hosted `momics` repositories\n",
    "\n",
    "`momics` provides native support for cloud-hosted repositories. This means that you can use `momics` to create repositories directly on cloud storage services like S3, GCP or Azure buckets. Here, we will see how to create, manage and query cloud-hosted repositories using `momics`.\n",
    "\n",
    "## Prerequisites\n",
    "\n",
    "To use cloud-hosted repositories, you need to have the following:\n",
    "\n",
    "1. A cloud storage service account with the necessary permissions to create and manage buckets.\n",
    "2. The necessary credentials to access the cloud storage service. This could be in the form of a service account key, or a token.\n",
    "3. The `momics` package installed in your Python environment.\n",
    "\n",
    "We will use an S3 bucket for demonstration purposes. You can use the same steps for other cloud storage services as well."
   ]
  },
  {
   "cell_type": "markdown",
   "metadata": {},
   "source": [
    "## Creating a `momics` repository on an S3 bucket\n",
    "\n",
    "The first step to create a S3-hosted repository is set up the configuration that `momics` will use. For S3, you need to provide the following information:\n",
    "\n",
    "1. The access key and secret key for the S3 account.\n",
    "2. The region where the bucket is located.\n",
    "3. The name of a bucket where the repository will be created. You will need authorization to read from and write to this bucket."
   ]
  },
  {
   "cell_type": "code",
   "execution_count": 2,
   "metadata": {},
   "outputs": [
    {
     "data": {
      "text/html": [
       "<table><tr><th>Parameter</th><th>Value</th></tr><tr><td>config.env_var_prefix</td><td>'TILEDB_'</td></tr><tr><td>config.logging_format</td><td>'DEFAULT'</td></tr><tr><td>config.logging_level</td><td>'0'</td></tr><tr><td>filestore.buffer_size</td><td>'104857600'</td></tr><tr><td>rest.capnp_traversal_limit</td><td>'2147483648'</td></tr><tr><td>rest.curl.buffer_size</td><td>'524288'</td></tr><tr><td>rest.curl.retry_errors</td><td>'true'</td></tr><tr><td>rest.curl.verbose</td><td>'false'</td></tr><tr><td>rest.http_compressor</td><td>'any'</td></tr><tr><td>rest.load_enumerations_on_array_open</td><td>'true'</td></tr><tr><td>rest.load_metadata_on_array_open</td><td>'true'</td></tr><tr><td>rest.load_non_empty_domain_on_array_open</td><td>'true'</td></tr><tr><td>rest.payer_namespace</td><td>''</td></tr><tr><td>rest.retry_count</td><td>'25'</td></tr><tr><td>rest.retry_delay_factor</td><td>'1.25'</td></tr><tr><td>rest.retry_http_codes</td><td>'503'</td></tr><tr><td>rest.retry_initial_delay_ms</td><td>'500'</td></tr><tr><td>rest.server_address</td><td>'https://api.tiledb.com'</td></tr><tr><td>rest.server_serialization_format</td><td>'CAPNP'</td></tr><tr><td>rest.use_refactored_array_open</td><td>'true'</td></tr><tr><td>rest.use_refactored_array_open_and_query_submit</td><td>'true'</td></tr><tr><td>sm.allow_separate_attribute_writes</td><td>'false'</td></tr><tr><td>sm.allow_updates_experimental</td><td>'false'</td></tr><tr><td>sm.check_coord_dups</td><td>'true'</td></tr><tr><td>sm.check_coord_oob</td><td>'true'</td></tr><tr><td>sm.check_global_order</td><td>'true'</td></tr><tr><td>sm.compute_concurrency_level</td><td>'20'</td></tr><tr><td>sm.consolidation.amplification</td><td>'1.0'</td></tr><tr><td>sm.consolidation.buffer_size</td><td>'50000000'</td></tr><tr><td>sm.consolidation.max_fragment_size</td><td>'18446744073709551615'</td></tr><tr><td>sm.consolidation.mode</td><td>'fragments'</td></tr><tr><td>sm.consolidation.purge_deleted_cells</td><td>'false'</td></tr><tr><td>sm.consolidation.step_max_frags</td><td>'4294967295'</td></tr><tr><td>sm.consolidation.step_min_frags</td><td>'4294967295'</td></tr><tr><td>sm.consolidation.step_size_ratio</td><td>'0.0'</td></tr><tr><td>sm.consolidation.steps</td><td>'4294967295'</td></tr><tr><td>sm.consolidation.timestamp_end</td><td>'18446744073709551615'</td></tr><tr><td>sm.consolidation.timestamp_start</td><td>'0'</td></tr><tr><td>sm.dedup_coords</td><td>'false'</td></tr><tr><td>sm.enable_signal_handlers</td><td>'true'</td></tr><tr><td>sm.encryption_key</td><td>''</td></tr><tr><td>sm.encryption_type</td><td>'NO_ENCRYPTION'</td></tr><tr><td>sm.enumerations_max_size</td><td>'10485760'</td></tr><tr><td>sm.enumerations_max_total_size</td><td>'52428800'</td></tr><tr><td>sm.fragment_info.preload_mbrs</td><td>'false'</td></tr><tr><td>sm.group.timestamp_end</td><td>'18446744073709551615'</td></tr><tr><td>sm.group.timestamp_start</td><td>'0'</td></tr><tr><td>sm.io_concurrency_level</td><td>'20'</td></tr><tr><td>sm.max_tile_overlap_size</td><td>'314572800'</td></tr><tr><td>sm.mem.consolidation.buffers_weight</td><td>'1'</td></tr><tr><td>sm.mem.consolidation.reader_weight</td><td>'3'</td></tr><tr><td>sm.mem.consolidation.writer_weight</td><td>'2'</td></tr><tr><td>sm.mem.malloc_trim</td><td>'true'</td></tr><tr><td>sm.mem.reader.sparse_global_order.ratio_array_data</td><td>'0.1'</td></tr><tr><td>sm.mem.reader.sparse_global_order.ratio_coords</td><td>'0.5'</td></tr><tr><td>sm.mem.reader.sparse_global_order.ratio_tile_ranges</td><td>'0.1'</td></tr><tr><td>sm.mem.reader.sparse_unordered_with_dups.ratio_array_data</td><td>'0.1'</td></tr><tr><td>sm.mem.reader.sparse_unordered_with_dups.ratio_coords</td><td>'0.5'</td></tr><tr><td>sm.mem.reader.sparse_unordered_with_dups.ratio_tile_ranges</td><td>'0.1'</td></tr><tr><td>sm.mem.tile_upper_memory_limit</td><td>'1073741824'</td></tr><tr><td>sm.mem.total_budget</td><td>'10737418240'</td></tr><tr><td>sm.memory_budget</td><td>'5368709120'</td></tr><tr><td>sm.memory_budget_var</td><td>'10737418240'</td></tr><tr><td>sm.merge_overlapping_ranges_experimental</td><td>'true'</td></tr><tr><td>sm.partial_tile_offsets_loading</td><td>'false'</td></tr><tr><td>sm.query.dense.qc_coords_mode</td><td>'false'</td></tr><tr><td>sm.query.dense.reader</td><td>'refactored'</td></tr><tr><td>sm.query.sparse_global_order.reader</td><td>'refactored'</td></tr><tr><td>sm.query.sparse_unordered_with_dups.reader</td><td>'refactored'</td></tr><tr><td>sm.read_range_oob</td><td>'warn'</td></tr><tr><td>sm.skip_checksum_validation</td><td>'false'</td></tr><tr><td>sm.skip_est_size_partitioning</td><td>'false'</td></tr><tr><td>sm.skip_unary_partitioning_budget_check</td><td>'false'</td></tr><tr><td>sm.vacuum.mode</td><td>'fragments'</td></tr><tr><td>sm.var_offsets.bitsize</td><td>'64'</td></tr><tr><td>sm.var_offsets.extra_element</td><td>'false'</td></tr><tr><td>sm.var_offsets.mode</td><td>'bytes'</td></tr><tr><td>ssl.ca_file</td><td>''</td></tr><tr><td>ssl.ca_path</td><td>''</td></tr><tr><td>ssl.verify</td><td>'true'</td></tr><tr><td>vfs.azure.blob_endpoint</td><td>''</td></tr><tr><td>vfs.azure.block_list_block_size</td><td>'5242880'</td></tr><tr><td>vfs.azure.max_parallel_ops</td><td>'20'</td></tr><tr><td>vfs.azure.max_retries</td><td>'5'</td></tr><tr><td>vfs.azure.max_retry_delay_ms</td><td>'60000'</td></tr><tr><td>vfs.azure.retry_delay_ms</td><td>'800'</td></tr><tr><td>vfs.azure.storage_account_key</td><td>''</td></tr><tr><td>vfs.azure.storage_account_name</td><td>''</td></tr><tr><td>vfs.azure.storage_sas_token</td><td>''</td></tr><tr><td>vfs.azure.use_block_list_upload</td><td>'true'</td></tr><tr><td>vfs.file.posix_directory_permissions</td><td>'755'</td></tr><tr><td>vfs.file.posix_file_permissions</td><td>'644'</td></tr><tr><td>vfs.gcs.endpoint</td><td>''</td></tr><tr><td>vfs.gcs.impersonate_service_account</td><td>''</td></tr><tr><td>vfs.gcs.max_direct_upload_size</td><td>'10737418240'</td></tr><tr><td>vfs.gcs.max_parallel_ops</td><td>'20'</td></tr><tr><td>vfs.gcs.multi_part_size</td><td>'5242880'</td></tr><tr><td>vfs.gcs.project_id</td><td>''</td></tr><tr><td>vfs.gcs.request_timeout_ms</td><td>'3000'</td></tr><tr><td>vfs.gcs.service_account_key</td><td>''</td></tr><tr><td>vfs.gcs.use_multi_part_upload</td><td>'true'</td></tr><tr><td>vfs.gcs.workload_identity_configuration</td><td>''</td></tr><tr><td>vfs.hdfs.kerb_ticket_cache_path</td><td>''</td></tr><tr><td>vfs.hdfs.name_node_uri</td><td>''</td></tr><tr><td>vfs.hdfs.username</td><td>''</td></tr><tr><td>vfs.max_batch_size</td><td>'104857600'</td></tr><tr><td>vfs.min_batch_gap</td><td>'512000'</td></tr><tr><td>vfs.min_batch_size</td><td>'20971520'</td></tr><tr><td>vfs.min_parallel_size</td><td>'10485760'</td></tr><tr><td>vfs.read_ahead_cache_size</td><td>'10485760'</td></tr><tr><td>vfs.read_ahead_size</td><td>'102400'</td></tr><tr><td>vfs.read_logging_mode</td><td>''</td></tr><tr><td>vfs.s3.aws_access_key_id</td><td>**********</td></tr><tr><td>vfs.s3.aws_external_id</td><td>''</td></tr><tr><td>vfs.s3.aws_load_frequency</td><td>''</td></tr><tr><td>vfs.s3.aws_role_arn</td><td>''</td></tr><tr><td>vfs.s3.aws_secret_access_key</td><td>**********</td></tr><tr><td>vfs.s3.aws_session_name</td><td>''</td></tr><tr><td>vfs.s3.aws_session_token</td><td>''</td></tr><tr><td>vfs.s3.bucket_canned_acl</td><td>'NOT_SET'</td></tr><tr><td>vfs.s3.ca_file</td><td>''</td></tr><tr><td>vfs.s3.ca_path</td><td>''</td></tr><tr><td>vfs.s3.config_source</td><td>'auto'</td></tr><tr><td>vfs.s3.connect_max_tries</td><td>'5'</td></tr><tr><td>vfs.s3.connect_scale_factor</td><td>'25'</td></tr><tr><td>vfs.s3.connect_timeout_ms</td><td>'10800'</td></tr><tr><td>vfs.s3.endpoint_override</td><td>''</td></tr><tr><td>vfs.s3.install_sigpipe_handler</td><td>'true'</td></tr><tr><td>vfs.s3.logging_level</td><td>'Off'</td></tr><tr><td>vfs.s3.max_parallel_ops</td><td>'20'</td></tr><tr><td>vfs.s3.multipart_part_size</td><td>'5242880'</td></tr><tr><td>vfs.s3.no_sign_request</td><td>'false'</td></tr><tr><td>vfs.s3.object_canned_acl</td><td>'NOT_SET'</td></tr><tr><td>vfs.s3.proxy_host</td><td>''</td></tr><tr><td>vfs.s3.proxy_password</td><td>''</td></tr><tr><td>vfs.s3.proxy_port</td><td>'0'</td></tr><tr><td>vfs.s3.proxy_scheme</td><td>'http'</td></tr><tr><td>vfs.s3.proxy_username</td><td>''</td></tr><tr><td>vfs.s3.region</td><td>'eu-west-3'</td></tr><tr><td>vfs.s3.request_timeout_ms</td><td>'3000'</td></tr><tr><td>vfs.s3.requester_pays</td><td>'false'</td></tr><tr><td>vfs.s3.scheme</td><td>'https'</td></tr><tr><td>vfs.s3.skip_init</td><td>'false'</td></tr><tr><td>vfs.s3.sse</td><td>''</td></tr><tr><td>vfs.s3.sse_kms_key_id</td><td>''</td></tr><tr><td>vfs.s3.storage_class</td><td>'NOT_SET'</td></tr><tr><td>vfs.s3.use_multipart_upload</td><td>'true'</td></tr><tr><td>vfs.s3.use_virtual_addressing</td><td>'true'</td></tr><tr><td>vfs.s3.verify_ssl</td><td>'true'</td></tr></table>"
      ],
      "text/plain": [
       "Parameter                                                  | Value                   \n",
       "---------------------------------------------------------- | ------------------------\n",
       "config.env_var_prefix                                      | 'TILEDB_'               \n",
       "config.logging_format                                      | 'DEFAULT'               \n",
       "config.logging_level                                       | '0'                     \n",
       "filestore.buffer_size                                      | '104857600'             \n",
       "rest.capnp_traversal_limit                                 | '2147483648'            \n",
       "rest.curl.buffer_size                                      | '524288'                \n",
       "rest.curl.retry_errors                                     | 'true'                  \n",
       "rest.curl.verbose                                          | 'false'                 \n",
       "rest.http_compressor                                       | 'any'                   \n",
       "rest.load_enumerations_on_array_open                       | 'true'                  \n",
       "rest.load_metadata_on_array_open                           | 'true'                  \n",
       "rest.load_non_empty_domain_on_array_open                   | 'true'                  \n",
       "rest.payer_namespace                                       | ''                      \n",
       "rest.retry_count                                           | '25'                    \n",
       "rest.retry_delay_factor                                    | '1.25'                  \n",
       "rest.retry_http_codes                                      | '503'                   \n",
       "rest.retry_initial_delay_ms                                | '500'                   \n",
       "rest.server_address                                        | 'https://api.tiledb.com'\n",
       "rest.server_serialization_format                           | 'CAPNP'                 \n",
       "rest.use_refactored_array_open                             | 'true'                  \n",
       "rest.use_refactored_array_open_and_query_submit            | 'true'                  \n",
       "sm.allow_separate_attribute_writes                         | 'false'                 \n",
       "sm.allow_updates_experimental                              | 'false'                 \n",
       "sm.check_coord_dups                                        | 'true'                  \n",
       "sm.check_coord_oob                                         | 'true'                  \n",
       "sm.check_global_order                                      | 'true'                  \n",
       "sm.compute_concurrency_level                               | '20'                    \n",
       "sm.consolidation.amplification                             | '1.0'                   \n",
       "sm.consolidation.buffer_size                               | '50000000'              \n",
       "sm.consolidation.max_fragment_size                         | '18446744073709551615'  \n",
       "sm.consolidation.mode                                      | 'fragments'             \n",
       "sm.consolidation.purge_deleted_cells                       | 'false'                 \n",
       "sm.consolidation.step_max_frags                            | '4294967295'            \n",
       "sm.consolidation.step_min_frags                            | '4294967295'            \n",
       "sm.consolidation.step_size_ratio                           | '0.0'                   \n",
       "sm.consolidation.steps                                     | '4294967295'            \n",
       "sm.consolidation.timestamp_end                             | '18446744073709551615'  \n",
       "sm.consolidation.timestamp_start                           | '0'                     \n",
       "sm.dedup_coords                                            | 'false'                 \n",
       "sm.enable_signal_handlers                                  | 'true'                  \n",
       "sm.encryption_key                                          | ''                      \n",
       "sm.encryption_type                                         | 'NO_ENCRYPTION'         \n",
       "sm.enumerations_max_size                                   | '10485760'              \n",
       "sm.enumerations_max_total_size                             | '52428800'              \n",
       "sm.fragment_info.preload_mbrs                              | 'false'                 \n",
       "sm.group.timestamp_end                                     | '18446744073709551615'  \n",
       "sm.group.timestamp_start                                   | '0'                     \n",
       "sm.io_concurrency_level                                    | '20'                    \n",
       "sm.max_tile_overlap_size                                   | '314572800'             \n",
       "sm.mem.consolidation.buffers_weight                        | '1'                     \n",
       "sm.mem.consolidation.reader_weight                         | '3'                     \n",
       "sm.mem.consolidation.writer_weight                         | '2'                     \n",
       "sm.mem.malloc_trim                                         | 'true'                  \n",
       "sm.mem.reader.sparse_global_order.ratio_array_data         | '0.1'                   \n",
       "sm.mem.reader.sparse_global_order.ratio_coords             | '0.5'                   \n",
       "sm.mem.reader.sparse_global_order.ratio_tile_ranges        | '0.1'                   \n",
       "sm.mem.reader.sparse_unordered_with_dups.ratio_array_data  | '0.1'                   \n",
       "sm.mem.reader.sparse_unordered_with_dups.ratio_coords      | '0.5'                   \n",
       "sm.mem.reader.sparse_unordered_with_dups.ratio_tile_ranges | '0.1'                   \n",
       "sm.mem.tile_upper_memory_limit                             | '1073741824'            \n",
       "sm.mem.total_budget                                        | '10737418240'           \n",
       "sm.memory_budget                                           | '5368709120'            \n",
       "sm.memory_budget_var                                       | '10737418240'           \n",
       "sm.merge_overlapping_ranges_experimental                   | 'true'                  \n",
       "sm.partial_tile_offsets_loading                            | 'false'                 \n",
       "sm.query.dense.qc_coords_mode                              | 'false'                 \n",
       "sm.query.dense.reader                                      | 'refactored'            \n",
       "sm.query.sparse_global_order.reader                        | 'refactored'            \n",
       "sm.query.sparse_unordered_with_dups.reader                 | 'refactored'            \n",
       "sm.read_range_oob                                          | 'warn'                  \n",
       "sm.skip_checksum_validation                                | 'false'                 \n",
       "sm.skip_est_size_partitioning                              | 'false'                 \n",
       "sm.skip_unary_partitioning_budget_check                    | 'false'                 \n",
       "sm.vacuum.mode                                             | 'fragments'             \n",
       "sm.var_offsets.bitsize                                     | '64'                    \n",
       "sm.var_offsets.extra_element                               | 'false'                 \n",
       "sm.var_offsets.mode                                        | 'bytes'                 \n",
       "ssl.ca_file                                                | ''                      \n",
       "ssl.ca_path                                                | ''                      \n",
       "ssl.verify                                                 | 'true'                  \n",
       "vfs.azure.blob_endpoint                                    | ''                      \n",
       "vfs.azure.block_list_block_size                            | '5242880'               \n",
       "vfs.azure.max_parallel_ops                                 | '20'                    \n",
       "vfs.azure.max_retries                                      | '5'                     \n",
       "vfs.azure.max_retry_delay_ms                               | '60000'                 \n",
       "vfs.azure.retry_delay_ms                                   | '800'                   \n",
       "vfs.azure.storage_account_key                              | ''                      \n",
       "vfs.azure.storage_account_name                             | ''                      \n",
       "vfs.azure.storage_sas_token                                | ''                      \n",
       "vfs.azure.use_block_list_upload                            | 'true'                  \n",
       "vfs.file.posix_directory_permissions                       | '755'                   \n",
       "vfs.file.posix_file_permissions                            | '644'                   \n",
       "vfs.gcs.endpoint                                           | ''                      \n",
       "vfs.gcs.impersonate_service_account                        | ''                      \n",
       "vfs.gcs.max_direct_upload_size                             | '10737418240'           \n",
       "vfs.gcs.max_parallel_ops                                   | '20'                    \n",
       "vfs.gcs.multi_part_size                                    | '5242880'               \n",
       "vfs.gcs.project_id                                         | ''                      \n",
       "vfs.gcs.request_timeout_ms                                 | '3000'                  \n",
       "vfs.gcs.service_account_key                                | ''                      \n",
       "vfs.gcs.use_multi_part_upload                              | 'true'                  \n",
       "vfs.gcs.workload_identity_configuration                    | ''                      \n",
       "vfs.hdfs.kerb_ticket_cache_path                            | ''                      \n",
       "vfs.hdfs.name_node_uri                                     | ''                      \n",
       "vfs.hdfs.username                                          | ''                      \n",
       "vfs.max_batch_size                                         | '104857600'             \n",
       "vfs.min_batch_gap                                          | '512000'                \n",
       "vfs.min_batch_size                                         | '20971520'              \n",
       "vfs.min_parallel_size                                      | '10485760'              \n",
       "vfs.read_ahead_cache_size                                  | '10485760'              \n",
       "vfs.read_ahead_size                                        | '102400'                \n",
       "vfs.read_logging_mode                                      | ''                      \n",
       "vfs.s3.aws_access_key_id                                   | **********              \n",
       "vfs.s3.aws_external_id                                     | ''                      \n",
       "vfs.s3.aws_load_frequency                                  | ''                      \n",
       "vfs.s3.aws_role_arn                                        | ''                      \n",
       "vfs.s3.aws_secret_access_key                               | **********              \n",
       "vfs.s3.aws_session_name                                    | ''                      \n",
       "vfs.s3.aws_session_token                                   | ''                      \n",
       "vfs.s3.bucket_canned_acl                                   | 'NOT_SET'               \n",
       "vfs.s3.ca_file                                             | ''                      \n",
       "vfs.s3.ca_path                                             | ''                      \n",
       "vfs.s3.config_source                                       | 'auto'                  \n",
       "vfs.s3.connect_max_tries                                   | '5'                     \n",
       "vfs.s3.connect_scale_factor                                | '25'                    \n",
       "vfs.s3.connect_timeout_ms                                  | '10800'                 \n",
       "vfs.s3.endpoint_override                                   | ''                      \n",
       "vfs.s3.install_sigpipe_handler                             | 'true'                  \n",
       "vfs.s3.logging_level                                       | 'Off'                   \n",
       "vfs.s3.max_parallel_ops                                    | '20'                    \n",
       "vfs.s3.multipart_part_size                                 | '5242880'               \n",
       "vfs.s3.no_sign_request                                     | 'false'                 \n",
       "vfs.s3.object_canned_acl                                   | 'NOT_SET'               \n",
       "vfs.s3.proxy_host                                          | ''                      \n",
       "vfs.s3.proxy_password                                      | ''                      \n",
       "vfs.s3.proxy_port                                          | '0'                     \n",
       "vfs.s3.proxy_scheme                                        | 'http'                  \n",
       "vfs.s3.proxy_username                                      | ''                      \n",
       "vfs.s3.region                                              | 'eu-west-3'             \n",
       "vfs.s3.request_timeout_ms                                  | '3000'                  \n",
       "vfs.s3.requester_pays                                      | 'false'                 \n",
       "vfs.s3.scheme                                              | 'https'                 \n",
       "vfs.s3.skip_init                                           | 'false'                 \n",
       "vfs.s3.sse                                                 | ''                      \n",
       "vfs.s3.sse_kms_key_id                                      | ''                      \n",
       "vfs.s3.storage_class                                       | 'NOT_SET'               \n",
       "vfs.s3.use_multipart_upload                                | 'true'                  \n",
       "vfs.s3.use_virtual_addressing                              | 'true'                  \n",
       "vfs.s3.verify_ssl                                          | 'true'                  "
      ]
     },
     "execution_count": 2,
     "metadata": {},
     "output_type": "execute_result"
    }
   ],
   "source": [
    "from momics import config as mconfig\n",
    "import os\n",
    "\n",
    "s3_access_key_id = os.environ.get(\"AWS_ACCESS_KEY_ID\")\n",
    "s3_secret_access_key = os.environ.get(\"AWS_SECRET_ACCESS_KEY\")\n",
    "\n",
    "s3_cfg = mconfig.S3Config(region=\"eu-west-3\", access_key_id=s3_access_key_id, secret_access_key=s3_secret_access_key)\n",
    "momics_cfg = mconfig.MomicsConfig(s3=s3_cfg)\n",
    "momics_cfg.cfg"
   ]
  },
  {
   "cell_type": "code",
   "execution_count": 3,
   "metadata": {},
   "outputs": [
    {
     "data": {
      "text/plain": [
       "'The registered S3 secret access key starts with: aN9K4FIvyB...'"
      ]
     },
     "execution_count": 3,
     "metadata": {},
     "output_type": "execute_result"
    }
   ],
   "source": [
    "\"The registered S3 secret access key starts with: \" + momics_cfg.cfg.get(\"vfs.s3.aws_secret_access_key\")[0:10] + \"...\""
   ]
  },
  {
   "cell_type": "markdown",
   "metadata": {},
   "source": [
    "Now that the S3 configuration is set up, you can create a `momics` repository as you would do locally. The only two differences is that you need to 1) use the `s3://<your_bucket>` protocol and 2) provide the S3 configuration to the `Repository` object. "
   ]
  },
  {
   "cell_type": "code",
   "execution_count": 4,
   "metadata": {},
   "outputs": [
    {
     "name": "stderr",
     "output_type": "stream",
     "text": [
      "momics :: INFO :: 2024-10-21 09:07:22,663 :: Created s3://momics/my_repo.mom\n"
     ]
    }
   ],
   "source": [
    "from momics.momics import Momics\n",
    "\n",
    "mom = Momics(\"s3://momics/my_repo.mom\", config=momics_cfg)"
   ]
  },
  {
   "cell_type": "markdown",
   "metadata": {},
   "source": [
    "If the repository does not exist, it will be automatically created, and a log message will be displayed. If the repository already exists, it will be opened and you can directly interact with it. \n",
    "\n",
    "Now that we created a repository, let's try and fetch chromosome sizes from it!"
   ]
  },
  {
   "cell_type": "code",
   "execution_count": 5,
   "metadata": {},
   "outputs": [
    {
     "data": {
      "text/plain": [
       "'Number of chromosomes: 0'"
      ]
     },
     "execution_count": 5,
     "metadata": {},
     "output_type": "execute_result"
    }
   ],
   "source": [
    "mom.chroms()\n",
    "\"Number of chromosomes: \" + str(len(mom.chroms()))"
   ]
  },
  {
   "cell_type": "markdown",
   "metadata": {},
   "source": [
    "We can see that chromosomes have not been added to the repository yet. This is because we have just created the repository and it is empty. In the next section, we will see how to add data to the repository."
   ]
  },
  {
   "cell_type": "markdown",
   "metadata": {},
   "source": [
    "**Note:** \n",
    "\n",
    "Note that we do not provide the `config` argument to the `chroms()` method. In fact, the config is stored in the variable itself. "
   ]
  },
  {
   "cell_type": "code",
   "execution_count": 6,
   "metadata": {},
   "outputs": [
    {
     "data": {
      "text/plain": [
       "<momics.config.MomicsConfig at 0x7f226427e5c0>"
      ]
     },
     "execution_count": 6,
     "metadata": {},
     "output_type": "execute_result"
    }
   ],
   "source": [
    "mom.cfg"
   ]
  },
  {
   "cell_type": "markdown",
   "metadata": {},
   "source": [
    "On top of storing the secrets required to access the cloud storage service, the `MomicsConfig` object extends the `TileDB` configuration object. This means that you can leverage additional TileDB configuration functionalities to interact with your repository! A notable example is the TileDB virtual file system (VFS) implementation which allows you to interact with files and directories located on a cloud storage services in a seamless manner."
   ]
  },
  {
   "cell_type": "code",
   "execution_count": 7,
   "metadata": {},
   "outputs": [
    {
     "data": {
      "text/plain": [
       "['s3://momics/my_repo.mom/__tiledb_group.tdb',\n",
       " 's3://momics/my_repo.mom/annotations/__tiledb_group.tdb',\n",
       " 's3://momics/my_repo.mom/coverage/__tiledb_group.tdb',\n",
       " 's3://momics/my_repo.mom/genome/__tiledb_group.tdb']"
      ]
     },
     "execution_count": 7,
     "metadata": {},
     "output_type": "execute_result"
    }
   ],
   "source": [
    "mom.cfg.vfs.ls_recursive(mom.path)"
   ]
  },
  {
   "cell_type": "markdown",
   "metadata": {},
   "source": [
    "So far, the repository does not contain any data. "
   ]
  },
  {
   "cell_type": "markdown",
   "metadata": {},
   "source": [
    "## Adding data to the repository\n",
    "\n",
    "Just like local repositories, populating a cloud-hosted repository has to start with registering chromosomes. "
   ]
  },
  {
   "cell_type": "code",
   "execution_count": 8,
   "metadata": {},
   "outputs": [
    {
     "data": {
      "text/html": [
       "<div>\n",
       "<style scoped>\n",
       "    .dataframe tbody tr th:only-of-type {\n",
       "        vertical-align: middle;\n",
       "    }\n",
       "\n",
       "    .dataframe tbody tr th {\n",
       "        vertical-align: top;\n",
       "    }\n",
       "\n",
       "    .dataframe thead th {\n",
       "        text-align: right;\n",
       "    }\n",
       "</style>\n",
       "<table border=\"1\" class=\"dataframe\">\n",
       "  <thead>\n",
       "    <tr style=\"text-align: right;\">\n",
       "      <th></th>\n",
       "      <th>chrom_index</th>\n",
       "      <th>chrom</th>\n",
       "      <th>length</th>\n",
       "    </tr>\n",
       "  </thead>\n",
       "  <tbody>\n",
       "    <tr>\n",
       "      <th>0</th>\n",
       "      <td>0</td>\n",
       "      <td>I</td>\n",
       "      <td>230218</td>\n",
       "    </tr>\n",
       "    <tr>\n",
       "      <th>1</th>\n",
       "      <td>1</td>\n",
       "      <td>II</td>\n",
       "      <td>813184</td>\n",
       "    </tr>\n",
       "    <tr>\n",
       "      <th>2</th>\n",
       "      <td>2</td>\n",
       "      <td>III</td>\n",
       "      <td>316620</td>\n",
       "    </tr>\n",
       "    <tr>\n",
       "      <th>3</th>\n",
       "      <td>3</td>\n",
       "      <td>IV</td>\n",
       "      <td>1531933</td>\n",
       "    </tr>\n",
       "    <tr>\n",
       "      <th>4</th>\n",
       "      <td>4</td>\n",
       "      <td>V</td>\n",
       "      <td>576874</td>\n",
       "    </tr>\n",
       "    <tr>\n",
       "      <th>5</th>\n",
       "      <td>5</td>\n",
       "      <td>VI</td>\n",
       "      <td>270161</td>\n",
       "    </tr>\n",
       "    <tr>\n",
       "      <th>6</th>\n",
       "      <td>6</td>\n",
       "      <td>VII</td>\n",
       "      <td>1090940</td>\n",
       "    </tr>\n",
       "    <tr>\n",
       "      <th>7</th>\n",
       "      <td>7</td>\n",
       "      <td>VIII</td>\n",
       "      <td>562643</td>\n",
       "    </tr>\n",
       "    <tr>\n",
       "      <th>8</th>\n",
       "      <td>8</td>\n",
       "      <td>IX</td>\n",
       "      <td>439888</td>\n",
       "    </tr>\n",
       "    <tr>\n",
       "      <th>9</th>\n",
       "      <td>9</td>\n",
       "      <td>X</td>\n",
       "      <td>745751</td>\n",
       "    </tr>\n",
       "    <tr>\n",
       "      <th>10</th>\n",
       "      <td>10</td>\n",
       "      <td>XI</td>\n",
       "      <td>666816</td>\n",
       "    </tr>\n",
       "    <tr>\n",
       "      <th>11</th>\n",
       "      <td>11</td>\n",
       "      <td>XII</td>\n",
       "      <td>1078177</td>\n",
       "    </tr>\n",
       "    <tr>\n",
       "      <th>12</th>\n",
       "      <td>12</td>\n",
       "      <td>XIII</td>\n",
       "      <td>924431</td>\n",
       "    </tr>\n",
       "    <tr>\n",
       "      <th>13</th>\n",
       "      <td>13</td>\n",
       "      <td>XIV</td>\n",
       "      <td>784333</td>\n",
       "    </tr>\n",
       "    <tr>\n",
       "      <th>14</th>\n",
       "      <td>14</td>\n",
       "      <td>XV</td>\n",
       "      <td>1091291</td>\n",
       "    </tr>\n",
       "    <tr>\n",
       "      <th>15</th>\n",
       "      <td>15</td>\n",
       "      <td>XVI</td>\n",
       "      <td>948066</td>\n",
       "    </tr>\n",
       "    <tr>\n",
       "      <th>16</th>\n",
       "      <td>16</td>\n",
       "      <td>Mito</td>\n",
       "      <td>85779</td>\n",
       "    </tr>\n",
       "  </tbody>\n",
       "</table>\n",
       "</div>"
      ],
      "text/plain": [
       "    chrom_index chrom   length\n",
       "0             0     I   230218\n",
       "1             1    II   813184\n",
       "2             2   III   316620\n",
       "3             3    IV  1531933\n",
       "4             4     V   576874\n",
       "5             5    VI   270161\n",
       "6             6   VII  1090940\n",
       "7             7  VIII   562643\n",
       "8             8    IX   439888\n",
       "9             9     X   745751\n",
       "10           10    XI   666816\n",
       "11           11   XII  1078177\n",
       "12           12  XIII   924431\n",
       "13           13   XIV   784333\n",
       "14           14    XV  1091291\n",
       "15           15   XVI   948066\n",
       "16           16  Mito    85779"
      ]
     },
     "execution_count": 8,
     "metadata": {},
     "output_type": "execute_result"
    }
   ],
   "source": [
    "## We will get chromosome sizes from a local fasta file.\n",
    "from pyfaidx import Fasta\n",
    "\n",
    "f = Fasta(\"/data/momics/S288c.fa\")\n",
    "chrom_lengths = {chrom: len(seq) for chrom, seq in zip(f.keys(), f.values())}\n",
    "\n",
    "mom.ingest_chroms(chrom_lengths, genome_version=\"S288c\")\n",
    "mom.chroms()"
   ]
  },
  {
   "cell_type": "markdown",
   "metadata": {},
   "source": [
    "Once the chromosomes are registered, you can ingest data, e.g. genomic sequence or genomic features, to the repository."
   ]
  },
  {
   "cell_type": "code",
   "execution_count": 9,
   "metadata": {},
   "outputs": [
    {
     "name": "stderr",
     "output_type": "stream",
     "text": [
      "momics :: INFO :: 2024-10-21 09:08:11,417 :: Genome sequence ingested in 47.2602s.\n"
     ]
    },
    {
     "data": {
      "text/html": [
       "<div>\n",
       "<style scoped>\n",
       "    .dataframe tbody tr th:only-of-type {\n",
       "        vertical-align: middle;\n",
       "    }\n",
       "\n",
       "    .dataframe tbody tr th {\n",
       "        vertical-align: top;\n",
       "    }\n",
       "\n",
       "    .dataframe thead th {\n",
       "        text-align: right;\n",
       "    }\n",
       "</style>\n",
       "<table border=\"1\" class=\"dataframe\">\n",
       "  <thead>\n",
       "    <tr style=\"text-align: right;\">\n",
       "      <th></th>\n",
       "      <th>chrom_index</th>\n",
       "      <th>chrom</th>\n",
       "      <th>length</th>\n",
       "      <th>seq</th>\n",
       "    </tr>\n",
       "  </thead>\n",
       "  <tbody>\n",
       "    <tr>\n",
       "      <th>0</th>\n",
       "      <td>0</td>\n",
       "      <td>I</td>\n",
       "      <td>230218</td>\n",
       "      <td>CCACACCACA...TGTGTGTGGG</td>\n",
       "    </tr>\n",
       "    <tr>\n",
       "      <th>1</th>\n",
       "      <td>1</td>\n",
       "      <td>II</td>\n",
       "      <td>813184</td>\n",
       "      <td>AAATAGCCCT...GTGGGTGTGT</td>\n",
       "    </tr>\n",
       "    <tr>\n",
       "      <th>2</th>\n",
       "      <td>2</td>\n",
       "      <td>III</td>\n",
       "      <td>316620</td>\n",
       "      <td>CCCACACACC...GGTGTGTGTG</td>\n",
       "    </tr>\n",
       "    <tr>\n",
       "      <th>3</th>\n",
       "      <td>3</td>\n",
       "      <td>IV</td>\n",
       "      <td>1531933</td>\n",
       "      <td>ACACCACACC...TAGCTTTTGG</td>\n",
       "    </tr>\n",
       "    <tr>\n",
       "      <th>4</th>\n",
       "      <td>4</td>\n",
       "      <td>V</td>\n",
       "      <td>576874</td>\n",
       "      <td>CGTCTCCTCC...TTTTTTTTTT</td>\n",
       "    </tr>\n",
       "    <tr>\n",
       "      <th>5</th>\n",
       "      <td>5</td>\n",
       "      <td>VI</td>\n",
       "      <td>270161</td>\n",
       "      <td>GATCTCGCAA...TGGTGTGTGG</td>\n",
       "    </tr>\n",
       "    <tr>\n",
       "      <th>6</th>\n",
       "      <td>6</td>\n",
       "      <td>VII</td>\n",
       "      <td>1090940</td>\n",
       "      <td>CCACACCCAC...TTTTTTTTTT</td>\n",
       "    </tr>\n",
       "    <tr>\n",
       "      <th>7</th>\n",
       "      <td>7</td>\n",
       "      <td>VIII</td>\n",
       "      <td>562643</td>\n",
       "      <td>CCCACACACA...GTGTGTGTGG</td>\n",
       "    </tr>\n",
       "    <tr>\n",
       "      <th>8</th>\n",
       "      <td>8</td>\n",
       "      <td>IX</td>\n",
       "      <td>439888</td>\n",
       "      <td>CACACACACC...GTGTGTGTGT</td>\n",
       "    </tr>\n",
       "    <tr>\n",
       "      <th>9</th>\n",
       "      <td>9</td>\n",
       "      <td>X</td>\n",
       "      <td>745751</td>\n",
       "      <td>CCCACACACA...GTGTGGGTGT</td>\n",
       "    </tr>\n",
       "    <tr>\n",
       "      <th>10</th>\n",
       "      <td>10</td>\n",
       "      <td>XI</td>\n",
       "      <td>666816</td>\n",
       "      <td>CACCACACCC...GTGTGTGTGT</td>\n",
       "    </tr>\n",
       "    <tr>\n",
       "      <th>11</th>\n",
       "      <td>11</td>\n",
       "      <td>XII</td>\n",
       "      <td>1078177</td>\n",
       "      <td>CACACACACA...AGGGCTATTT</td>\n",
       "    </tr>\n",
       "    <tr>\n",
       "      <th>12</th>\n",
       "      <td>12</td>\n",
       "      <td>XIII</td>\n",
       "      <td>924431</td>\n",
       "      <td>CCACACACAC...GTGTGTGGGG</td>\n",
       "    </tr>\n",
       "    <tr>\n",
       "      <th>13</th>\n",
       "      <td>13</td>\n",
       "      <td>XIV</td>\n",
       "      <td>784333</td>\n",
       "      <td>CCGGCTTTCT...TGGTGTGGGT</td>\n",
       "    </tr>\n",
       "    <tr>\n",
       "      <th>14</th>\n",
       "      <td>14</td>\n",
       "      <td>XV</td>\n",
       "      <td>1091291</td>\n",
       "      <td>ACACCACACC...TGTGGTGTGT</td>\n",
       "    </tr>\n",
       "    <tr>\n",
       "      <th>15</th>\n",
       "      <td>15</td>\n",
       "      <td>XVI</td>\n",
       "      <td>948066</td>\n",
       "      <td>AAATAGCCCT...CGGTCAGAAA</td>\n",
       "    </tr>\n",
       "    <tr>\n",
       "      <th>16</th>\n",
       "      <td>16</td>\n",
       "      <td>Mito</td>\n",
       "      <td>85779</td>\n",
       "      <td>TTCATAATTA...AATATCCATA</td>\n",
       "    </tr>\n",
       "  </tbody>\n",
       "</table>\n",
       "</div>"
      ],
      "text/plain": [
       "    chrom_index chrom   length                      seq\n",
       "0             0     I   230218  CCACACCACA...TGTGTGTGGG\n",
       "1             1    II   813184  AAATAGCCCT...GTGGGTGTGT\n",
       "2             2   III   316620  CCCACACACC...GGTGTGTGTG\n",
       "3             3    IV  1531933  ACACCACACC...TAGCTTTTGG\n",
       "4             4     V   576874  CGTCTCCTCC...TTTTTTTTTT\n",
       "5             5    VI   270161  GATCTCGCAA...TGGTGTGTGG\n",
       "6             6   VII  1090940  CCACACCCAC...TTTTTTTTTT\n",
       "7             7  VIII   562643  CCCACACACA...GTGTGTGTGG\n",
       "8             8    IX   439888  CACACACACC...GTGTGTGTGT\n",
       "9             9     X   745751  CCCACACACA...GTGTGGGTGT\n",
       "10           10    XI   666816  CACCACACCC...GTGTGTGTGT\n",
       "11           11   XII  1078177  CACACACACA...AGGGCTATTT\n",
       "12           12  XIII   924431  CCACACACAC...GTGTGTGGGG\n",
       "13           13   XIV   784333  CCGGCTTTCT...TGGTGTGGGT\n",
       "14           14    XV  1091291  ACACCACACC...TGTGGTGTGT\n",
       "15           15   XVI   948066  AAATAGCCCT...CGGTCAGAAA\n",
       "16           16  Mito    85779  TTCATAATTA...AATATCCATA"
      ]
     },
     "execution_count": 9,
     "metadata": {},
     "output_type": "execute_result"
    }
   ],
   "source": [
    "## Ingesting genome reference sequence\n",
    "mom.ingest_sequence(\"/data/momics/S288c.fa\")\n",
    "mom.seq()"
   ]
  },
  {
   "cell_type": "code",
   "execution_count": 10,
   "metadata": {},
   "outputs": [
    {
     "name": "stderr",
     "output_type": "stream",
     "text": [
      "momics :: INFO :: 2024-10-21 09:10:27,371 :: 4 tracks ingested in 132.0506s.\n"
     ]
    },
    {
     "data": {
      "text/html": [
       "<div>\n",
       "<style scoped>\n",
       "    .dataframe tbody tr th:only-of-type {\n",
       "        vertical-align: middle;\n",
       "    }\n",
       "\n",
       "    .dataframe tbody tr th {\n",
       "        vertical-align: top;\n",
       "    }\n",
       "\n",
       "    .dataframe thead th {\n",
       "        text-align: right;\n",
       "    }\n",
       "</style>\n",
       "<table border=\"1\" class=\"dataframe\">\n",
       "  <thead>\n",
       "    <tr style=\"text-align: right;\">\n",
       "      <th></th>\n",
       "      <th>idx</th>\n",
       "      <th>label</th>\n",
       "      <th>path</th>\n",
       "    </tr>\n",
       "  </thead>\n",
       "  <tbody>\n",
       "    <tr>\n",
       "      <th>0</th>\n",
       "      <td>0</td>\n",
       "      <td>atac</td>\n",
       "      <td>/data/momics/S288c_atac.bw</td>\n",
       "    </tr>\n",
       "    <tr>\n",
       "      <th>1</th>\n",
       "      <td>1</td>\n",
       "      <td>rna</td>\n",
       "      <td>/data/momics/S288c_rna.bw</td>\n",
       "    </tr>\n",
       "    <tr>\n",
       "      <th>2</th>\n",
       "      <td>2</td>\n",
       "      <td>scc1</td>\n",
       "      <td>/data/momics/S288c_scc1.bw</td>\n",
       "    </tr>\n",
       "    <tr>\n",
       "      <th>3</th>\n",
       "      <td>3</td>\n",
       "      <td>mnase</td>\n",
       "      <td>/data/momics/S288c_mnase.bw</td>\n",
       "    </tr>\n",
       "  </tbody>\n",
       "</table>\n",
       "</div>"
      ],
      "text/plain": [
       "   idx  label                         path\n",
       "0    0   atac   /data/momics/S288c_atac.bw\n",
       "1    1    rna    /data/momics/S288c_rna.bw\n",
       "2    2   scc1   /data/momics/S288c_scc1.bw\n",
       "3    3  mnase  /data/momics/S288c_mnase.bw"
      ]
     },
     "execution_count": 10,
     "metadata": {},
     "output_type": "execute_result"
    }
   ],
   "source": [
    "## Ingesting genome-wide tracks\n",
    "mom.ingest_tracks(\n",
    "    {\n",
    "        \"atac\": \"/data/momics/S288c_atac.bw\",\n",
    "        \"rna\": \"/data/momics/S288c_rna.bw\",\n",
    "        \"scc1\": \"/data/momics/S288c_scc1.bw\",\n",
    "        \"mnase\": \"/data/momics/S288c_mnase.bw\",\n",
    "    }\n",
    ")\n",
    "mom.tracks()"
   ]
  },
  {
   "cell_type": "markdown",
   "metadata": {},
   "source": [
    "## Querying data from the repository\n",
    "\n",
    "Now that we have added data to the repository, we can query specific genomic ranges using `MomicsQuery` objects. "
   ]
  },
  {
   "cell_type": "code",
   "execution_count": 11,
   "metadata": {},
   "outputs": [
    {
     "data": {
      "text/html": [
       "<div>\n",
       "<style scoped>\n",
       "    .dataframe tbody tr th:only-of-type {\n",
       "        vertical-align: middle;\n",
       "    }\n",
       "\n",
       "    .dataframe tbody tr th {\n",
       "        vertical-align: top;\n",
       "    }\n",
       "\n",
       "    .dataframe thead th {\n",
       "        text-align: right;\n",
       "    }\n",
       "</style>\n",
       "<table border=\"1\" class=\"dataframe\">\n",
       "  <thead>\n",
       "    <tr style=\"text-align: right;\">\n",
       "      <th></th>\n",
       "      <th>Chromosome</th>\n",
       "      <th>Start</th>\n",
       "      <th>End</th>\n",
       "    </tr>\n",
       "  </thead>\n",
       "  <tbody>\n",
       "    <tr>\n",
       "      <th>0</th>\n",
       "      <td>I</td>\n",
       "      <td>0</td>\n",
       "      <td>1000</td>\n",
       "    </tr>\n",
       "    <tr>\n",
       "      <th>1</th>\n",
       "      <td>I</td>\n",
       "      <td>1000</td>\n",
       "      <td>2000</td>\n",
       "    </tr>\n",
       "    <tr>\n",
       "      <th>2</th>\n",
       "      <td>I</td>\n",
       "      <td>2000</td>\n",
       "      <td>3000</td>\n",
       "    </tr>\n",
       "    <tr>\n",
       "      <th>3</th>\n",
       "      <td>I</td>\n",
       "      <td>3000</td>\n",
       "      <td>4000</td>\n",
       "    </tr>\n",
       "    <tr>\n",
       "      <th>4</th>\n",
       "      <td>I</td>\n",
       "      <td>4000</td>\n",
       "      <td>5000</td>\n",
       "    </tr>\n",
       "    <tr>\n",
       "      <th>...</th>\n",
       "      <td>...</td>\n",
       "      <td>...</td>\n",
       "      <td>...</td>\n",
       "    </tr>\n",
       "    <tr>\n",
       "      <th>12143</th>\n",
       "      <td>XVI</td>\n",
       "      <td>943000</td>\n",
       "      <td>944000</td>\n",
       "    </tr>\n",
       "    <tr>\n",
       "      <th>12144</th>\n",
       "      <td>XVI</td>\n",
       "      <td>944000</td>\n",
       "      <td>945000</td>\n",
       "    </tr>\n",
       "    <tr>\n",
       "      <th>12145</th>\n",
       "      <td>XVI</td>\n",
       "      <td>945000</td>\n",
       "      <td>946000</td>\n",
       "    </tr>\n",
       "    <tr>\n",
       "      <th>12146</th>\n",
       "      <td>XVI</td>\n",
       "      <td>946000</td>\n",
       "      <td>947000</td>\n",
       "    </tr>\n",
       "    <tr>\n",
       "      <th>12147</th>\n",
       "      <td>XVI</td>\n",
       "      <td>947000</td>\n",
       "      <td>948000</td>\n",
       "    </tr>\n",
       "  </tbody>\n",
       "</table>\n",
       "<p>12148 rows × 3 columns</p>\n",
       "</div>"
      ],
      "text/plain": [
       "+--------------+-----------+-----------+\n",
       "| Chromosome   | Start     | End       |\n",
       "| (category)   | (int64)   | (int64)   |\n",
       "|--------------+-----------+-----------|\n",
       "| I            | 0         | 1000      |\n",
       "| I            | 1000      | 2000      |\n",
       "| I            | 2000      | 3000      |\n",
       "| I            | 3000      | 4000      |\n",
       "| ...          | ...       | ...       |\n",
       "| XVI          | 944000    | 945000    |\n",
       "| XVI          | 945000    | 946000    |\n",
       "| XVI          | 946000    | 947000    |\n",
       "| XVI          | 947000    | 948000    |\n",
       "+--------------+-----------+-----------+\n",
       "Unstranded PyRanges object has 12,148 rows and 3 columns from 17 chromosomes.\n",
       "For printing, the PyRanges was sorted on Chromosome."
      ]
     },
     "execution_count": 11,
     "metadata": {},
     "output_type": "execute_result"
    }
   ],
   "source": [
    "## We define non-overlapping windows of 10kb over the entire S288c genome\n",
    "windows = mom.bins(1000, stride=1000, cut_last_bin_out=True)\n",
    "windows"
   ]
  },
  {
   "cell_type": "code",
   "execution_count": 24,
   "metadata": {},
   "outputs": [
    {
     "name": "stderr",
     "output_type": "stream",
     "text": [
      "momics :: INFO :: 2024-10-21 09:14:01,919 :: Query completed in 38.6298s.\n"
     ]
    },
    {
     "data": {
      "text/plain": [
       "'ATAC coverage over the first range queried: [2.56415 7.25287 7.25287 7.25287 7.25287]...'"
      ]
     },
     "execution_count": 24,
     "metadata": {},
     "output_type": "execute_result"
    }
   ],
   "source": [
    "## Next, we build a query object to query specific tracks from the momics object\n",
    "from momics.momicsquery import MomicsQuery\n",
    "\n",
    "q = MomicsQuery(mom, windows)\n",
    "q.query_tracks(tracks=[\"atac\", \"rna\"])\n",
    "\"ATAC coverage over the first range queried: \" + str(q.coverage[\"atac\"][\"I:0-1000\"][0:5]) + \"...\""
   ]
  },
  {
   "cell_type": "code",
   "execution_count": 25,
   "metadata": {},
   "outputs": [
    {
     "name": "stderr",
     "output_type": "stream",
     "text": [
      "momics :: INFO :: 2024-10-21 09:16:24,760 :: Query completed in 36.2156s.\n"
     ]
    },
    {
     "data": {
      "text/plain": [
       "'Genome sequence over the first range queried: CCACACCACA...'"
      ]
     },
     "execution_count": 25,
     "metadata": {},
     "output_type": "execute_result"
    }
   ],
   "source": [
    "## We can also query sequences over the windows\n",
    "q.query_sequence()\n",
    "\"Genome sequence over the first range queried: \" + str(q.seq[\"nucleotide\"][\"I:0-1000\"][0:10]) + \"...\""
   ]
  },
  {
   "cell_type": "markdown",
   "metadata": {},
   "source": [
    "## Extracting data from the repository\n",
    "\n",
    "A `momics` repository can also be used to store and retrieve data. This data can be extracted from the repository and saved to a local file. "
   ]
  },
  {
   "cell_type": "code",
   "execution_count": 26,
   "metadata": {},
   "outputs": [],
   "source": [
    "atac = mom.tracks(label=\"atac\")"
   ]
  },
  {
   "cell_type": "code",
   "execution_count": 28,
   "metadata": {},
   "outputs": [
    {
     "data": {
      "text/plain": [
       "'File exists: True'"
      ]
     },
     "execution_count": 28,
     "metadata": {},
     "output_type": "execute_result"
    }
   ],
   "source": [
    "from momics import utils as mutils\n",
    "\n",
    "path = mutils.dict_to_bigwig(atac, \"extracted_atac_track.bw\")\n",
    "\"File saved to: \" + path.name\n",
    "\"File exists: \" + str(os.path.exists(path))"
   ]
  },
  {
   "cell_type": "markdown",
   "metadata": {},
   "source": [
    "## Deleting a repository \n",
    "\n",
    "To delete a repository, you can use the `remove()` method on the repository object. This will delete the repository and all its contents. Now that this notebook is complete, we can delete the repository :)"
   ]
  },
  {
   "cell_type": "code",
   "execution_count": 29,
   "metadata": {},
   "outputs": [
    {
     "name": "stderr",
     "output_type": "stream",
     "text": [
      "momics :: INFO :: 2024-10-21 09:16:50,603 :: Purged s3://momics/my_repo.mom\n"
     ]
    },
    {
     "data": {
      "text/plain": [
       "True"
      ]
     },
     "execution_count": 29,
     "metadata": {},
     "output_type": "execute_result"
    }
   ],
   "source": [
    "mom.remove()"
   ]
  }
 ],
 "metadata": {
  "kernelspec": {
   "display_name": "Python 3",
   "language": "python",
   "name": "python3"
  },
  "language_info": {
   "codemirror_mode": {
    "name": "ipython",
    "version": 3
   },
   "file_extension": ".py",
   "mimetype": "text/x-python",
   "name": "python",
   "nbconvert_exporter": "python",
   "pygments_lexer": "ipython3",
   "version": "3.10.0"
  }
 },
 "nbformat": 4,
 "nbformat_minor": 2
}
