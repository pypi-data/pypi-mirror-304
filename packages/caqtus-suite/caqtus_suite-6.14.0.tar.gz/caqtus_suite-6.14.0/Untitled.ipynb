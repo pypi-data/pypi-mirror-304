{
 "cells": [
  {
   "cell_type": "code",
   "id": "a20fdb66-97c5-44e3-acaf-3a0b98916815",
   "metadata": {
    "ExecuteTime": {
     "end_time": "2024-10-27T14:32:56.815598Z",
     "start_time": "2024-10-27T14:32:56.812209Z"
    }
   },
   "source": [
    "from docstring_parser import parse\n",
    "import inspect\n",
    "from caqtus.device.camera import CameraConfiguration\n",
    "import attrs"
   ],
   "outputs": [],
   "execution_count": 13
  },
  {
   "metadata": {
    "ExecuteTime": {
     "end_time": "2024-10-27T14:31:37.548140Z",
     "start_time": "2024-10-27T14:31:37.544801Z"
    }
   },
   "cell_type": "code",
   "source": "parse(inspect.getdoc(CameraConfiguration)).params[0]",
   "id": "cb9be53e80546cc",
   "outputs": [],
   "execution_count": 11
  },
  {
   "metadata": {
    "ExecuteTime": {
     "end_time": "2024-10-27T16:54:55.280741Z",
     "start_time": "2024-10-27T16:54:55.276239Z"
    }
   },
   "cell_type": "code",
   "source": [
    "x = int | str\n",
    "\n",
    "type A = int | str\n",
    "\n",
    "int | str == A.__value__"
   ],
   "id": "4e7cd4b08fd1ae54",
   "outputs": [
    {
     "data": {
      "text/plain": [
       "True"
      ]
     },
     "execution_count": 2,
     "metadata": {},
     "output_type": "execute_result"
    }
   ],
   "execution_count": 2
  },
  {
   "metadata": {
    "ExecuteTime": {
     "end_time": "2024-10-27T14:46:44.401038Z",
     "start_time": "2024-10-27T14:46:44.396186Z"
    }
   },
   "cell_type": "code",
   "source": [
    "@attrs.define\n",
    "class Test:\n",
    "    a: int = attrs.field()\n",
    "    \"\"\"An integer.\"\"\""
   ],
   "id": "8e156440c0a297ba",
   "outputs": [],
   "execution_count": 16
  },
  {
   "metadata": {
    "ExecuteTime": {
     "end_time": "2024-10-27T14:46:58.686793Z",
     "start_time": "2024-10-27T14:46:58.684444Z"
    }
   },
   "cell_type": "code",
   "source": "inspect.getdoc(Test.a)",
   "id": "2be0bdb754b0cb7b",
   "outputs": [],
   "execution_count": 18
  }
 ],
 "metadata": {
  "kernelspec": {
   "display_name": "Python 3 (ipykernel)",
   "language": "python",
   "name": "python3"
  },
  "language_info": {
   "codemirror_mode": {
    "name": "ipython",
    "version": 3
   },
   "file_extension": ".py",
   "mimetype": "text/x-python",
   "name": "python",
   "nbconvert_exporter": "python",
   "pygments_lexer": "ipython3",
   "version": "3.12.3"
  }
 },
 "nbformat": 4,
 "nbformat_minor": 5
}
