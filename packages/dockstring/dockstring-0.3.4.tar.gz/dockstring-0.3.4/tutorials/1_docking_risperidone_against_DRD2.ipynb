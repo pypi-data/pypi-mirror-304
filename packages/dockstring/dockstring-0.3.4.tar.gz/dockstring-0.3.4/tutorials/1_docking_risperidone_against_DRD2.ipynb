{
 "cells": [
  {
   "cell_type": "markdown",
   "metadata": {},
   "source": [
    "# Docking Risperidone Against DRD2 - DOCKSTRING Tutorial"
   ]
  },
  {
   "cell_type": "markdown",
   "metadata": {},
   "source": [
    "In this tutorial we will dock risperidone against dopamine receptor DRD2 using DOCKSTRING."
   ]
  },
  {
   "cell_type": "markdown",
   "metadata": {
    "tags": []
   },
   "source": [
    "## 1. Introduction"
   ]
  },
  {
   "cell_type": "markdown",
   "metadata": {},
   "source": [
    "DRD2 is a G protein-coupled receptor (GPCR) of dopamine that plays a key role in neural signalling\n",
    "and is an interesting target for ML research for several reasons:\n",
    "\n",
    "- Medical relevance: even though dopamine receptors are relatively scarce in the brain, they are involved in many processes such as memory, motor behaviour or reward. Furthermore, abnormal levels of DRD2 have been linked to grave pathologies such as Alzheimer's disease _[Pan et al., 2019]_ or schizophrenia _[McCutcheon et al., 2019]_. DRD2 is the target of many antipsychotic drugs, including risperidone.\n",
    "- Characterization: the structure of DRD2 has been characterized experimentally, including the binding with risperidone _[Wang et al., 2018]_.\n",
    "- Benchmark: DRD2 has been used as an example target for _de novo_ molecular generation in the ML literature _[Olivecrona et al., 2017, Arús-Pous et al., 2020]_."
   ]
  },
  {
   "cell_type": "markdown",
   "metadata": {},
   "source": [
    "Risperidone (sold under the brand name Risperdal) is an antipsychotic small-molecule drug used to treat schizophrenia and bipolar disorder."
   ]
  },
  {
   "cell_type": "code",
   "execution_count": 1,
   "metadata": {
    "scrolled": true
   },
   "outputs": [
    {
     "data": {
      "image/png": "[encoded data removed]",
      "text/plain": [
       "<rdkit.Chem.rdchem.Mol at 0x7f66c80fda60>"
      ]
     },
     "execution_count": 1,
     "metadata": {},
     "output_type": "execute_result"
    }
   ],
   "source": [
    "import rdkit.Chem as Chem\n",
    "\n",
    "smiles = 'CC1=C(C(=O)N2CCCCC2=N1)CCN3CCC(CC3)C4=NOC5=C4C=CC(=C5)F'\n",
    "Chem.MolFromSmiles(smiles)"
   ]
  },
  {
   "cell_type": "markdown",
   "metadata": {
    "tags": []
   },
   "source": [
    "## 2. Docking with DOCKSTRING"
   ]
  },
  {
   "cell_type": "markdown",
   "metadata": {},
   "source": [
    "Docking with the DOCKSTRING Python package takes just three lines."
   ]
  },
  {
   "cell_type": "code",
   "execution_count": 2,
   "metadata": {
    "slideshow": {
     "slide_type": "slide"
    }
   },
   "outputs": [],
   "source": [
    "from dockstring import load_target\n",
    "\n",
    "target = load_target('DRD2')\n",
    "score, aux = target.dock(smiles)"
   ]
  },
  {
   "cell_type": "markdown",
   "metadata": {},
   "source": [
    "The first return value is the best score found by Autodock Vina."
   ]
  },
  {
   "cell_type": "code",
   "execution_count": 3,
   "metadata": {},
   "outputs": [
    {
     "data": {
      "text/plain": [
       "-11.9"
      ]
     },
     "execution_count": 3,
     "metadata": {},
     "output_type": "execute_result"
    }
   ],
   "source": [
    "score"
   ]
  },
  {
   "cell_type": "markdown",
   "metadata": {},
   "source": [
    "The second return value is a dictionary containing all the scores found by Autodock Vina, as well as the pose of the best score.\n",
    "The pose is given as a RDKit molecule."
   ]
  },
  {
   "cell_type": "code",
   "execution_count": 4,
   "metadata": {},
   "outputs": [
    {
     "data": {
      "text/plain": [
       "{'ligand': <rdkit.Chem.rdchem.Mol at 0x7f666ce0f9a0>,\n",
       " 'affinities': [-11.9, -11.8, -11.6, -11.1, -10.7, -10.4, -10.3, -10.3, -10.0]}"
      ]
     },
     "execution_count": 4,
     "metadata": {},
     "output_type": "execute_result"
    }
   ],
   "source": [
    "aux"
   ]
  },
  {
   "cell_type": "markdown",
   "metadata": {},
   "source": [
    "By default, DOCKSTRING uses preconfigured preparation and docking options that are reasonable across a range of protein targets.\n",
    "Optionally, users may provide the following arguments:\n",
    "- `pH`: the desired pH for ligand protonation. The default pH is 7.4 (physiological pH).\n",
    "- `num_cpus`: number of CPUs used by Autodock Vina."
   ]
  },
  {
   "cell_type": "markdown",
   "metadata": {
    "tags": []
   },
   "source": [
    "## 3. Comparison with Experimental Results"
   ]
  },
  {
   "cell_type": "markdown",
   "metadata": {},
   "source": [
    "This histogram shows all DRD2 scores in the DOCKSTRING dataset, consisting of roughly 260k molecules (more negative is better).\n",
    "The score obtained by risperidone is comparable to the best scores in the dataset,\n",
    "indicating that Autodock Vina predicts likely binding to DRD2.\n",
    "\n",
    "<img src=\"figures/DRD2_scores.png\">\n",
    "\n",
    "This makes sense, since risperidone is a known binder."
   ]
  },
  {
   "cell_type": "markdown",
   "metadata": {
    "tags": []
   },
   "source": [
    "## 4. Viewing the Pose"
   ]
  },
  {
   "cell_type": "markdown",
   "metadata": {},
   "source": [
    "DOCKSTRING also provides functionality to view the docking pose in PyMol."
   ]
  },
  {
   "cell_type": "code",
   "execution_count": 5,
   "metadata": {},
   "outputs": [
    {
     "data": {
      "text/plain": [
       "CompletedProcess(args=['pymol', PosixPath('/home/user/miniconda3/envs/dockstring/lib/python3.9/site-packages/dockstring/resources/targets/DRD2_target.pdb'), PosixPath('/home/user/miniconda3/envs/dockstring/lib/python3.9/site-packages/dockstring/resources/view_search_box.py'), '-d', 'view_search_box center_x=9.25, center_y=6.167, center_z=-7.0, size_x=30.0, size_y=30.0, size_z=32.0', '/tmp/tmp1xlpkx8u/ligand_0.mol'], returncode=0)"
      ]
     },
     "execution_count": 5,
     "metadata": {},
     "output_type": "execute_result"
    }
   ],
   "source": [
    "target.view([aux['ligand']])"
   ]
  },
  {
   "cell_type": "markdown",
   "metadata": {},
   "source": [
    "Interestingly, the pose produced by Autodock Vina is very similar to the experimental pose found in the crystal _[Wang et al., 2018]_.\n",
    "You can load the crystal pose in PyMol with\n",
    "\n",
    "`File > Open: data/risperidone_from_crystal.pdb`"
   ]
  },
  {
   "cell_type": "markdown",
   "metadata": {},
   "source": [
    "## References"
   ]
  },
  {
   "cell_type": "markdown",
   "metadata": {},
   "source": [
    "**[Arús-Pous et al., 2020]** Arús-Pous, J., Patronov, A., Bjerrum, E. J., Tyrchan, C., Reymond, J.-L., Chen,\n",
    "H., and Engkvist, O. (2020). SMILES-based deep generative scaffold decorator for de-novo drug design.\n",
    "J. Cheminf., 12(1):1–18.\n",
    "<br>\n",
    "**[McCutcheon et al., 2019]** McCutcheon, R. A., Abi-Dargham, A., and Howes, O. D. (2019). Schizophrenia,\n",
    "Dopamine and the Striatum: From Biology to Symptoms. Trends Neurosci., 42(3):205–220.\n",
    "<br>\n",
    "**[Olivecrona et al., 2017]** Olivecrona, M., Blaschke, T., Engkvist, O., and Chen, H. (2017). Molecular de-novo\n",
    "design through deep reinforcement learning. J. Cheminf., 9(1):1–14.\n",
    "<br>\n",
    "**[Pan et al., 2019]** Pan, X., Kaminga, A. C., Wen, S. W., Wu, X., Acheampong, K., and Liu, A. (2019).\n",
    "Dopamine and Dopamine Receptors in Alzheimer’s Disease: A Systematic Review and Network Meta-\n",
    "Analysis. Front. Aging Neurosci., 11.\n",
    "<br>\n",
    "**[Wang et al., 2018]** Wang, S., Che, T., Levit, A., Shoichet, B. K., Wacker, D., and Roth, B. L. (2018).\n",
    "Structure of the D2 dopamine receptor bound to the atypical antipsychotic drug risperidone. Nature,\n",
    "555(7695):269–273."
   ]
  }
 ],
 "metadata": {
  "kernelspec": {
   "display_name": "Python 3",
   "language": "python",
   "name": "python3"
  },
  "language_info": {
   "codemirror_mode": {
    "name": "ipython",
    "version": 3
   },
   "file_extension": ".py",
   "mimetype": "text/x-python",
   "name": "python",
   "nbconvert_exporter": "python",
   "pygments_lexer": "ipython3",
   "version": "3.9.2"
  }
 },
 "nbformat": 4,
 "nbformat_minor": 4
}
