{
 "cells": [
  {
   "cell_type": "markdown",
   "id": "cc0783e2",
   "metadata": {},
   "source": [
    "# Visualizing dataset poses - DOCKSTRING Tutorial"
   ]
  },
  {
   "cell_type": "markdown",
   "id": "94661009",
   "metadata": {},
   "source": [
    "In this tutorial we will show how to visualize poses from the DOCKSTRING dataset."
   ]
  },
  {
   "cell_type": "markdown",
   "id": "6475e3b1",
   "metadata": {},
   "source": [
    "## 1. Downloading and decompressing poses"
   ]
  },
  {
   "cell_type": "markdown",
   "id": "88fbac62",
   "metadata": {},
   "source": [
    "Since the poses in the dataset are too heavy to be saved as a single file, they are split by target. All the poses against each target are saved as a single pickle file which is tarred and compressed with `xz`.\n",
    "\n",
    "As an example, we will work with the poses of ligands against ABL1. You can find the full ABL1 file on the [figshare DOCKSTRING site](https://figshare.com/s/95f2fed733dec170b998). For simplicity, we'll work with a smaller sample of 1000 ligands."
   ]
  },
  {
   "cell_type": "markdown",
   "id": "634d346c",
   "metadata": {},
   "source": [
    "The first step is to decompress the file."
   ]
  },
  {
   "cell_type": "code",
   "execution_count": 6,
   "id": "c9a26ce1",
   "metadata": {},
   "outputs": [
    {
     "name": "stdout",
     "output_type": "stream",
     "text": [
      "ABL1_sample.pkl\r\n"
     ]
    }
   ],
   "source": [
    "!unxz -k data/ABL1_sample.tar.xz\n",
    "!tar -xvf data/ABL1_sample.tar --directory data"
   ]
  },
  {
   "cell_type": "markdown",
   "id": "c63f7d85",
   "metadata": {},
   "source": [
    "## 2. Loading the pickle"
   ]
  },
  {
   "cell_type": "markdown",
   "id": "dd0672ce",
   "metadata": {},
   "source": [
    "Now, we are ready to load the pickle."
   ]
  },
  {
   "cell_type": "code",
   "execution_count": 2,
   "id": "d6db1818",
   "metadata": {},
   "outputs": [],
   "source": [
    "from dockstring import load_target\n",
    "import rdkit\n",
    "import pickle\n",
    "\n",
    "with open('ABL1_sample.pkl','br') as f:\n",
    "    poses = pickle.load(f)"
   ]
  },
  {
   "cell_type": "markdown",
   "id": "deeea7c4",
   "metadata": {},
   "source": [
    "## 3. Visualizing the pose in DOCKSTRING"
   ]
  },
  {
   "cell_type": "markdown",
   "id": "9154d218",
   "metadata": {},
   "source": [
    "Load the target object for ABL1."
   ]
  },
  {
   "cell_type": "code",
   "execution_count": 3,
   "id": "81b8560a",
   "metadata": {},
   "outputs": [],
   "source": [
    "target = load_target('ABL1')"
   ]
  },
  {
   "cell_type": "markdown",
   "id": "64f3e332",
   "metadata": {},
   "source": [
    " As an example, we will visualize the poses of the molecule with InChi key `UMVWYQXKBPJMOF-UHFFFAOYNA-N`."
   ]
  },
  {
   "cell_type": "code",
   "execution_count": 4,
   "id": "66f7a200",
   "metadata": {},
   "outputs": [
    {
     "data": {
      "image/png": "[encoded data removed]",
      "text/plain": [
       "<rdkit.Chem.rdchem.Mol at 0x7efe74a27e50>"
      ]
     },
     "execution_count": 4,
     "metadata": {},
     "output_type": "execute_result"
    }
   ],
   "source": [
    "example_pose = poses['UMVWYQXKBPJMOF-UHFFFAOYNA-N']\n",
    "example_pose"
   ]
  },
  {
   "cell_type": "markdown",
   "id": "a4b2adf0",
   "metadata": {},
   "source": [
    "Use the `target.view` method to view poses in PyMol."
   ]
  },
  {
   "cell_type": "code",
   "execution_count": 5,
   "id": "7e3de4bd",
   "metadata": {},
   "outputs": [
    {
     "data": {
      "text/plain": [
       "0"
      ]
     },
     "execution_count": 5,
     "metadata": {},
     "output_type": "execute_result"
    }
   ],
   "source": [
    "target.view(example_pose)"
   ]
  }
 ],
 "metadata": {
  "kernelspec": {
   "display_name": "Python 3",
   "language": "python",
   "name": "python3"
  },
  "language_info": {
   "codemirror_mode": {
    "name": "ipython",
    "version": 3
   },
   "file_extension": ".py",
   "mimetype": "text/x-python",
   "name": "python",
   "nbconvert_exporter": "python",
   "pygments_lexer": "ipython3",
   "version": "3.9.2"
  }
 },
 "nbformat": 4,
 "nbformat_minor": 5
}
