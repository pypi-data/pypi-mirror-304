{
 "cells": [
  {
   "cell_type": "code",
   "execution_count": 1,
   "metadata": {},
   "outputs": [
    {
     "name": "stdout",
     "output_type": "stream",
     "text": [
      "{\n",
      "  \"['dict']['a']\": 42,\n",
      "  \"['nested_dicts']['a0']['b0']\": 42,\n",
      "  \"['nested_dicts']['a0']['b1']\": 23,\n",
      "  \"['empty_dict']\": {},\n",
      "  \"['list'][0]\": 42,\n",
      "  \"['nested_lists'][0][0]\": 42,\n",
      "  \"['empty_list']\": [],\n",
      "  \"[Ellipsis]\": 42\n",
      "}\n"
     ]
    }
   ],
   "source": [
    "import json\n",
    "from flatten_iterables import flatten, mappables, iterables\n",
    "\n",
    "data = {\n",
    "    \"dict\": {\"a\": 42},\n",
    "    \"nested_dicts\": {\"a0\": {\"b0\": 42, \"b1\": 23}},\n",
    "    \"empty_dict\": {},\n",
    "    \"list\": [42],\n",
    "    \"nested_lists\": [\n",
    "        [\n",
    "            42,\n",
    "        ],\n",
    "    ],\n",
    "    \"empty_list\": [],\n",
    "    ...: 42,\n",
    "}\n",
    "\n",
    "print(json.dumps(flatten(data), indent=2))"
   ]
  }
 ],
 "metadata": {
  "kernelspec": {
   "display_name": "flatten_iterables",
   "language": "python",
   "name": "python3"
  },
  "language_info": {
   "codemirror_mode": {
    "name": "ipython",
    "version": 3
   },
   "file_extension": ".py",
   "mimetype": "text/x-python",
   "name": "python",
   "nbconvert_exporter": "python",
   "pygments_lexer": "ipython3",
   "version": "3.8.20"
  },
  "orig_nbformat": 4
 },
 "nbformat": 4,
 "nbformat_minor": 2
}
