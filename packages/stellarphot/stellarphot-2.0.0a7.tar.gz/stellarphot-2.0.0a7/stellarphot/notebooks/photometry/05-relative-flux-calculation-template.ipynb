{
 "cells": [
  {
   "cell_type": "code",
   "execution_count": null,
   "metadata": {
    "tags": []
   },
   "outputs": [],
   "source": [
    "from astropy.coordinates import SkyCoord\n",
    "import astropy.units as u\n",
    "from astropy.table import Table\n",
    "from astropy.time import Time\n",
    "\n",
    "import ipywidgets as ipw\n",
    "\n",
    "import matplotlib.pyplot as plt\n",
    "\n",
    "import numpy as np\n",
    "\n",
    "from stellarphot.differential_photometry.aij_rel_fluxes import *\n",
    "from stellarphot.settings.fits_opener import FitsOpener\n",
    "from stellarphot import PhotometryData, SourceListData"
   ]
  },
  {
   "cell_type": "markdown",
   "metadata": {},
   "source": [
    "### Choose photometry and aperture files"
   ]
  },
  {
   "cell_type": "code",
   "execution_count": null,
   "metadata": {
    "tags": []
   },
   "outputs": [],
   "source": [
    "fits_openr = FitsOpener(title=\"Select your photometry file\", filter_pattern=[\"*.csv\", \"*.ecsv\"])\n",
    "fits_openr2 = FitsOpener(\n",
    "    title=\"Select your aperture file\", filter_pattern=[\"*.csv\", \"*.fits\", \"*.ecsv\"]\n",
    ")"
   ]
  },
  {
   "cell_type": "code",
   "execution_count": null,
   "metadata": {
    "tags": []
   },
   "outputs": [],
   "source": [
    "box = ipw.VBox()\n",
    "box.children = [fits_openr.file_chooser, fits_openr2.file_chooser]\n",
    "box"
   ]
  },
  {
   "cell_type": "markdown",
   "metadata": {},
   "source": [
    "### Run the remaining cells"
   ]
  },
  {
   "cell_type": "code",
   "execution_count": null,
   "metadata": {
    "tags": []
   },
   "outputs": [],
   "source": [
    "aperture_file = fits_openr2.path\n",
    "photometry_file = fits_openr.path\n",
    "\n",
    "output_file = photometry_file.stem + \"-relative-flux\" + photometry_file.suffix"
   ]
  },
  {
   "cell_type": "code",
   "execution_count": null,
   "metadata": {},
   "outputs": [],
   "source": [
    "photometry_file"
   ]
  },
  {
   "cell_type": "code",
   "execution_count": null,
   "metadata": {
    "tags": []
   },
   "outputs": [],
   "source": [
    "\n",
    "photometry = PhotometryData.read(photometry_file)\n",
    "del_rows = photometry[\"file\"] == \"image_file.fits\"\n",
    "photometry = photometry[~del_rows]"
   ]
  },
  {
   "cell_type": "code",
   "execution_count": null,
   "metadata": {
    "tags": []
   },
   "outputs": [],
   "source": [
    "comp_table = SourceListData.read(aperture_file)"
   ]
  },
  {
   "cell_type": "code",
   "execution_count": null,
   "metadata": {
    "tags": []
   },
   "outputs": [],
   "source": [
    "comp_table"
   ]
  },
  {
   "cell_type": "code",
   "execution_count": null,
   "metadata": {
    "tags": []
   },
   "outputs": [],
   "source": [
    "comp_table[\"coord\"] = SkyCoord(\n",
    "    ra=comp_table[\"ra\"], dec=comp_table[\"dec\"], unit=\"degree\", frame=\"icrs\"\n",
    ")"
   ]
  },
  {
   "cell_type": "code",
   "execution_count": null,
   "metadata": {
    "tags": []
   },
   "outputs": [],
   "source": [
    "comp_bool = comp_table[\"marker name\"] == [\"APASS comparison\"]\n",
    "only_comp_stars = comp_table[comp_bool]\n",
    "coords = only_comp_stars[\"coord\"]"
   ]
  },
  {
   "cell_type": "code",
   "execution_count": null,
   "metadata": {
    "tags": []
   },
   "outputs": [],
   "source": [
    "ra = [i.ra for i in coords]\n",
    "dec = [i.dec for i in coords]\n",
    "comp_coords = Table()\n",
    "comp_coords[\"ra\"] = ra * u.degree\n",
    "comp_coords[\"dec\"] = dec * u.degree"
   ]
  },
  {
   "cell_type": "markdown",
   "metadata": {},
   "source": [
    "### Calculate flux"
   ]
  },
  {
   "cell_type": "code",
   "execution_count": null,
   "metadata": {
    "tags": []
   },
   "outputs": [],
   "source": [
    "# calculate flux\n",
    "flux_table = calc_aij_relative_flux(photometry, comp_coords)"
   ]
  },
  {
   "cell_type": "code",
   "execution_count": null,
   "metadata": {
    "tags": []
   },
   "outputs": [],
   "source": [
    "flux_table.write(output_file, overwrite=True)"
   ]
  },
  {
   "cell_type": "code",
   "execution_count": null,
   "metadata": {},
   "outputs": [],
   "source": []
  }
 ],
 "metadata": {
  "kernelspec": {
   "display_name": "Python 3 (ipykernel)",
   "language": "python",
   "name": "python3"
  },
  "language_info": {
   "codemirror_mode": {
    "name": "ipython",
    "version": 3
   },
   "file_extension": ".py",
   "mimetype": "text/x-python",
   "name": "python",
   "nbconvert_exporter": "python",
   "pygments_lexer": "ipython3",
   "version": "3.11.8"
  }
 },
 "nbformat": 4,
 "nbformat_minor": 4
}
