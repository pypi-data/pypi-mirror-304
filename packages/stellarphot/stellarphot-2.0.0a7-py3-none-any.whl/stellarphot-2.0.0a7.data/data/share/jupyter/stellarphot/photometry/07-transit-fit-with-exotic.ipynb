{
 "cells": [
  {
   "cell_type": "code",
   "execution_count": 10,
   "metadata": {},
   "outputs": [],
   "source": [
    "import json\n",
    "from pathlib import Path\n",
    "import pickle\n",
    "\n",
    "import numpy as np\n",
    "\n",
    "from astropy.table import Table\n",
    "\n",
    "from stellarphot.transit_fitting.gui.gui_core import (\n",
    "    exotic_arguments,\n",
    "    generate_json_file_name,\n",
    "    get_values_from_widget,\n",
    "    exotic_settings_widget,\n",
    "    populate_TOI_boxes,\n",
    ")\n",
    "from stellarphot.settings.fits_opener import FitsOpener"
   ]
  },
  {
   "cell_type": "markdown",
   "metadata": {},
   "source": [
    "# Instructions and Overview\n",
    "\n",
    "This notebook will do a different kind of fit to your exoplanet data. It takes longer to run than the fitting we've done so far, which is why we didn't begin with this type of fit."
   ]
  },
  {
   "cell_type": "code",
   "execution_count": null,
   "metadata": {},
   "outputs": [],
   "source": [
    "fits_openr = FitsOpener(\n",
    "    title=\"Select your photometry/relative flux file\", filter_pattern=[\"*.csv\"]\n",
    ")\n",
    "\n",
    "fits_openr.file_chooser"
   ]
  },
  {
   "cell_type": "code",
   "execution_count": null,
   "metadata": {},
   "outputs": [],
   "source": [
    "input_data_file = fits_openr.path\n",
    "toi_info_file = \"tess-info.pickle\"\n",
    "\n",
    "with open(toi_info_file, \"rb\") as f:\n",
    "    tess_info = pickle.load(f)"
   ]
  },
  {
   "cell_type": "code",
   "execution_count": null,
   "metadata": {},
   "outputs": [],
   "source": [
    "settings = exotic_settings_widget()\n",
    "\n",
    "exotic_data_file = \"data_for_exotic.csv\""
   ]
  },
  {
   "cell_type": "code",
   "execution_count": null,
   "metadata": {},
   "outputs": [],
   "source": [
    "inp_data = Table.read(input_data_file)\n",
    "inp_data = inp_data[inp_data[\"star_id\"] == 1]\n",
    "\n",
    "# inp_data = inp_data[inp_data['BJD'] > 2459795.75]\n",
    "\n",
    "out_data = inp_data[\"BJD\", \"relative_flux\", \"relative_flux_error\", \"airmass\"]\n",
    "out_data.write(exotic_data_file, overwrite=True)"
   ]
  },
  {
   "cell_type": "code",
   "execution_count": null,
   "metadata": {},
   "outputs": [],
   "source": [
    "settings.data_file_widget[\"candidate\"].value = exotic_data_file\n",
    "settings.data_file_widget[\"known\"].value = exotic_data_file\n",
    "populate_TOI_boxes(tess_info, settings.value_widget)"
   ]
  },
  {
   "cell_type": "code",
   "execution_count": null,
   "metadata": {},
   "outputs": [],
   "source": [
    "settings"
   ]
  },
  {
   "cell_type": "code",
   "execution_count": null,
   "metadata": {},
   "outputs": [],
   "source": [
    "settings_name = generate_json_file_name(settings)\n",
    "contents = get_values_from_widget(settings)"
   ]
  },
  {
   "cell_type": "code",
   "execution_count": null,
   "metadata": {},
   "outputs": [],
   "source": [
    "Path(contents[\"user_info\"][\"Directory to Save Plots\"]).mkdir(exist_ok=True)"
   ]
  },
  {
   "cell_type": "code",
   "execution_count": null,
   "metadata": {},
   "outputs": [],
   "source": [
    "with open(settings_name, \"w\") as f:\n",
    "    json.dump(contents, f)"
   ]
  },
  {
   "cell_type": "code",
   "execution_count": null,
   "metadata": {},
   "outputs": [],
   "source": [
    "print(\n",
    "    \"COPY AND PASTE THE LINE BELOW INTO AN EMPTY CELL TO RUN EXOTIC (include the exclamation point at the beginning):\\n\\n\"\n",
    ")\n",
    "print(\n",
    "    f'!exotic {\" \".join(exotic_arguments[settings.planet_type.value])} {settings_name}'\n",
    ")\n",
    "print(\"\\n\\n\")"
   ]
  },
  {
   "cell_type": "code",
   "execution_count": null,
   "metadata": {},
   "outputs": [],
   "source": [
    "!exotic --override --pre TIC_402828941-2022-08-03-SI.json"
   ]
  },
  {
   "cell_type": "code",
   "execution_count": null,
   "metadata": {},
   "outputs": [],
   "source": []
  }
 ],
 "metadata": {
  "kernelspec": {
   "display_name": "Python 3 (ipykernel)",
   "language": "python",
   "name": "python3"
  },
  "language_info": {
   "codemirror_mode": {
    "name": "ipython",
    "version": 3
   },
   "file_extension": ".py",
   "mimetype": "text/x-python",
   "name": "python",
   "nbconvert_exporter": "python",
   "pygments_lexer": "ipython3",
   "version": "3.11.4"
  }
 },
 "nbformat": 4,
 "nbformat_minor": 4
}
